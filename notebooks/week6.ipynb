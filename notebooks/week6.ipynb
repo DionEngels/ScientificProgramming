{
 "cells": [
  {
   "cell_type": "markdown",
   "metadata": {
    "pycharm": {
     "name": "#%% md\n"
    }
   },
   "source": [
    "# Tables and databases\n",
    "\n",
    "## 577/578. Representation 3\n",
    "\n",
    "Given a matrix of tuples (representation 2):"
   ]
  },
  {
   "cell_type": "code",
   "execution_count": null,
   "metadata": {
    "pycharm": {
     "name": "#%%\n"
    }
   },
   "outputs": [],
   "source": [
    "import numpy as np\n",
    "\n",
    "H = np.array([\n",
    "    [7, 4],\n",
    "    [4, 1],\n",
    "    [5, 2],\n",
    "    [3, 2],\n",
    "    [9, 4],\n",
    "    [6, 3],\n",
    "    [7, 1],\n",
    "    [7, 4]\n",
    "])"
   ]
  },
  {
   "cell_type": "code",
   "execution_count": null,
   "metadata": {
    "pycharm": {
     "name": "#%%\n"
    }
   },
   "outputs": [],
   "source": [
    "import scipy.sparse as sparse\n",
    "sparse.csc_matrix(([1] * len(H), (H[:,0] - 1, H[:, 1] - 1)), shape=(13, 4)).A"
   ]
  },
  {
   "cell_type": "markdown",
   "metadata": {
    "pycharm": {
     "name": "#%% md\n"
    }
   },
   "source": [
    "## 585. Table\n",
    "Table in matlab can often be replaced by a [pandas](https://pandas.pydata.org/) dataframe in Python.\n",
    "\n",
    "## 586. Relabel\n",
    "Note: I could not find the real database file in `2mmn20_1.zip`, so copied the first 16 entries from the slides.\n",
    "I suppose it's good enough for the examples, but they can easily be extended with the complete database."
   ]
  },
  {
   "cell_type": "code",
   "execution_count": null,
   "metadata": {
    "pycharm": {
     "name": "#%%\n"
    }
   },
   "outputs": [],
   "source": [
    "import pandas as pd\n",
    "\n",
    "df = pd.read_csv(\"../data/customer_transactions.csv\", sep=\" \")\n",
    "df"
   ]
  },
  {
   "cell_type": "code",
   "execution_count": null,
   "metadata": {
    "lines_to_next_cell": 2,
    "pycharm": {
     "name": "#%%\n"
    }
   },
   "outputs": [],
   "source": [
    "customers = df['Customer'].unique()\n",
    "replacements = dict(zip(customers, range(1, len(customers) + 1)))\n",
    "df['Customer indices'] = [replacements[i] for i in df['Customer']]\n",
    "df"
   ]
  },
  {
   "cell_type": "markdown",
   "metadata": {
    "pycharm": {
     "name": "#%% md\n"
    }
   },
   "source": [
    "To replace the customer column:"
   ]
  },
  {
   "cell_type": "code",
   "execution_count": null,
   "metadata": {
    "pycharm": {
     "name": "#%%\n"
    }
   },
   "outputs": [],
   "source": [
    "df['Customer'] = [replacements[i] for i in df['Customer']]\n",
    "df"
   ]
  },
  {
   "cell_type": "code",
   "execution_count": null,
   "metadata": {
    "pycharm": {
     "name": "#%%\n"
    }
   },
   "outputs": [],
   "source": [
    "df = pd.read_csv(\"../data/customer_transactions.csv\", sep=\" \")\n",
    "distinct_timestamps = df.Timestamp.unique()\n",
    "len(distinct_timestamps)"
   ]
  },
  {
   "cell_type": "code",
   "execution_count": null,
   "metadata": {
    "pycharm": {
     "name": "#%%\n"
    }
   },
   "outputs": [],
   "source": [
    "import matplotlib.pyplot as plt\n",
    "distinct_timestamps.sort()\n",
    "plt.plot(distinct_timestamps)\n",
    "plt.xlabel(\"distinct times\")\n",
    "plt.ylabel(\"time t\")"
   ]
  },
  {
   "cell_type": "markdown",
   "metadata": {
    "pycharm": {
     "name": "#%% md\n"
    }
   },
   "source": [
    "## 590. Field analysis: timestamps"
   ]
  },
  {
   "cell_type": "code",
   "execution_count": null,
   "metadata": {
    "pycharm": {
     "name": "#%%\n"
    }
   },
   "outputs": [],
   "source": [
    "np.unique(np.diff(distinct_timestamps))"
   ]
  },
  {
   "cell_type": "code",
   "execution_count": null,
   "metadata": {
    "pycharm": {
     "name": "#%%\n"
    }
   },
   "outputs": [],
   "source": [
    "import math\n",
    "seconds_per_day = 60 * 60 * 24\n",
    "\n",
    "# Compute the day of the transaction\n",
    "df['Day'] = [math.floor(t / seconds_per_day) for t in df['Timestamp']]\n",
    "\n",
    "# Compute the indices of the customers\n",
    "customers = df['Customer'].unique()\n",
    "replacements = dict(zip(customers, range(1, len(customers) + 1)))\n",
    "df['Customer indices'] = [replacements[i] for i in df['Customer']]\n",
    "df"
   ]
  },
  {
   "cell_type": "code",
   "execution_count": null,
   "metadata": {
    "pycharm": {
     "name": "#%%\n"
    }
   },
   "outputs": [],
   "source": [
    "time_series = sparse.csc_matrix((df['Volume'], (df['Day'] - 1, df['Customer indices'] - 1)))\n",
    "plt.spy(time_series)\n",
    "plt.xlabel(\"customer\")\n",
    "plt.ylabel(\"day\");"
   ]
  },
  {
   "cell_type": "code",
   "execution_count": null,
   "metadata": {
    "pycharm": {
     "name": "#%%\n"
    }
   },
   "outputs": [],
   "source": [
    "import matplotlib.pyplot as plt\n",
    "from matplotlib import cm  # color map\n",
    "\n",
    "fig = plt.figure(figsize=(12, 8))\n",
    "ax = fig.add_subplot(111, projection='3d')\n",
    "X, Y = np.meshgrid(range(1, df['Customer indices'].max() + 1), range(1, df['Day'].max() + 1))\n",
    "surf = ax.plot_surface(X, Y, time_series.A)\n",
    "ax.set_xlabel(\"customer\")\n",
    "ax.set_ylabel(\"day\")\n",
    "ax.set_zlabel(\"volume\");"
   ]
  },
  {
   "cell_type": "markdown",
   "metadata": {
    "pycharm": {
     "name": "#%% md\n"
    }
   },
   "source": [
    "## 598. Field operations"
   ]
  },
  {
   "cell_type": "code",
   "execution_count": null,
   "metadata": {
    "pycharm": {
     "name": "#%%\n"
    }
   },
   "outputs": [],
   "source": [
    "df[['Timestamp', 'Customer']].groupby(['Customer']).max()\n"
   ]
  }
 ],
 "metadata": {
  "jupytext": {
   "formats": "src/notebooks//ipynb,src/python//py:light"
  },
  "kernelspec": {
   "display_name": "Python 3",
   "language": "python",
   "name": "python3"
  },
  "language_info": {
   "codemirror_mode": {
    "name": "ipython",
    "version": 3
   },
   "file_extension": ".py",
   "mimetype": "text/x-python",
   "name": "python",
   "nbconvert_exporter": "python",
   "pygments_lexer": "ipython3",
   "version": "3.7.3"
  }
 },
 "nbformat": 4,
 "nbformat_minor": 4
}
