{
 "cells": [
  {
   "cell_type": "code",
   "execution_count": null,
   "metadata": {},
   "outputs": [],
   "source": [
    "import numpy as np\n",
    "import scipy as sp\n",
    "from scipy import linalg\n",
    "from scipy import sparse"
   ]
  },
  {
   "cell_type": "markdown",
   "metadata": {
    "pycharm": {
     "name": "#%% md\n"
    }
   },
   "source": [
    "## 232. Example with CSC matrix"
   ]
  },
  {
   "cell_type": "code",
   "execution_count": null,
   "metadata": {
    "pycharm": {
     "name": "#%%\n"
    }
   },
   "outputs": [],
   "source": [
    "A = sparse.diags([5, -1, 2], [0, -1, 1], (8, 8))\n",
    "A.todense()"
   ]
  },
  {
   "cell_type": "markdown",
   "metadata": {
    "pycharm": {
     "name": "#%% md\n"
    }
   },
   "source": [
    "This matrix is stored in diagonal format by default:\n"
   ]
  },
  {
   "cell_type": "code",
   "execution_count": null,
   "metadata": {
    "pycharm": {
     "name": "#%%\n"
    }
   },
   "outputs": [],
   "source": [
    "A"
   ]
  },
  {
   "cell_type": "code",
   "execution_count": null,
   "metadata": {
    "pycharm": {
     "name": "#%%\n"
    }
   },
   "outputs": [],
   "source": [
    "sparse.find(A)"
   ]
  },
  {
   "cell_type": "markdown",
   "metadata": {
    "pycharm": {
     "name": "#%% md\n"
    }
   },
   "source": [
    "To create a matrix in another format, use `format='csc'`, where `csc` means the CCS format and can be replaced by another format.\n",
    "Note that Scipy uses the name Compressed Sparse Column format (instead of Compressed Column Sparse format).\n",
    "See the [Scipy docs on sparse matrices](https://docs.scipy.org/doc/scipy/reference/sparse.html) for the other names."
   ]
  },
  {
   "cell_type": "code",
   "execution_count": null,
   "metadata": {
    "pycharm": {
     "name": "#%%\n"
    }
   },
   "outputs": [],
   "source": [
    "B = sparse.diags([1, 2], [0, 1], (4, 4), format='csc')\n",
    "B"
   ]
  },
  {
   "cell_type": "code",
   "execution_count": null,
   "metadata": {
    "pycharm": {
     "name": "#%%\n"
    }
   },
   "outputs": [],
   "source": [
    "B.todense()"
   ]
  },
  {
   "cell_type": "code",
   "execution_count": null,
   "metadata": {
    "pycharm": {
     "name": "#%%\n"
    }
   },
   "outputs": [],
   "source": [
    "print(f\"Data (V): \\n  {B.data}\")\n",
    "print(f\"Row indices: \\n  {B.indices}\")\n",
    "print(f\"Indices (pointers) to column starts in data and row indices: \\n  {B.indptr}\")"
   ]
  },
  {
   "cell_type": "markdown",
   "metadata": {
    "pycharm": {
     "name": "#%% md\n"
    }
   },
   "source": [
    "To get the values of the nonzero entries, use `A.data`:\n",
    "(`A.nonzero()` gives the row and column indices of the nonzero entries)"
   ]
  },
  {
   "cell_type": "code",
   "execution_count": null,
   "metadata": {
    "pycharm": {
     "name": "#%%\n"
    }
   },
   "outputs": [],
   "source": [
    "A.data"
   ]
  },
  {
   "cell_type": "code",
   "execution_count": null,
   "metadata": {
    "pycharm": {
     "name": "#%%\n"
    }
   },
   "outputs": [],
   "source": [
    "data = [1, 2, 3, 4]  # V\n",
    "row = [0, 1, 0, 2]  # I\n",
    "column = [1, 3, 0, 0]  # J\n",
    "A = sparse.csc_matrix((data, (row, column)), shape=(5,5))\n",
    "A.todense()"
   ]
  },
  {
   "cell_type": "markdown",
   "metadata": {
    "pycharm": {
     "name": "#%% md\n"
    }
   },
   "source": [
    "## 235. `spconvert()` and 237. `sparse()`\n",
    "\n",
    "SciPy also adds values in case of multiple index occurrences, when using the `(data, (row, column))` syntax to create a sparse (csc) matrix."
   ]
  },
  {
   "cell_type": "code",
   "execution_count": null,
   "metadata": {
    "lines_to_next_cell": 2,
    "pycharm": {
     "name": "#%%\n"
    }
   },
   "outputs": [],
   "source": [
    "sparse.csc_matrix(([-7, 2, 1], ([0, 0, 1], [0, 0, 1]),)).todense()"
   ]
  },
  {
   "cell_type": "markdown",
   "metadata": {
    "pycharm": {
     "name": "#%% md\n"
    }
   },
   "source": [
    "## 239. Complexity\n",
    "\n",
    "Only providing Python syntax for the instructions in the table.\n",
    "The complexity should be roughly the same as in Matlab but efficiency (speed) may be very different.\n",
    "\n",
    "Of course, import SciPy's sparse module with `from scipy import sparse`.\n",
    "\n",
    "#### Creation\n",
    "Use `sparse.<format>_matrix()` to create a matrix in the `<format>` format.\n",
    "E.g., to create a CSC matrix:"
   ]
  },
  {
   "cell_type": "code",
   "execution_count": null,
   "metadata": {
    "pycharm": {
     "name": "#%%\n"
    }
   },
   "outputs": [],
   "source": [
    "I = [0, 0, 1, 2]\n",
    "J = [0, 1, 1, 3]\n",
    "V = [1, 2, 3, 4]\n",
    "n, m = 4, 4\n",
    "A = sparse.csc_matrix((V, (I, J)), (n, m))\n",
    "A.todense()"
   ]
  },
  {
   "cell_type": "markdown",
   "metadata": {
    "pycharm": {
     "name": "#%% md\n"
    }
   },
   "source": [
    "#### Select row\n",
    "Note that this is different from Matlab's `A(k)`."
   ]
  },
  {
   "cell_type": "code",
   "execution_count": null,
   "metadata": {
    "pycharm": {
     "name": "#%%\n"
    }
   },
   "outputs": [],
   "source": [
    "A[0].todense()"
   ]
  },
  {
   "cell_type": "markdown",
   "metadata": {
    "pycharm": {
     "name": "#%% md\n"
    }
   },
   "source": [
    "#### Entry selection"
   ]
  },
  {
   "cell_type": "code",
   "execution_count": null,
   "metadata": {
    "pycharm": {
     "name": "#%%\n"
    }
   },
   "outputs": [],
   "source": [
    "A[0, 1]"
   ]
  },
  {
   "cell_type": "markdown",
   "metadata": {
    "pycharm": {
     "name": "#%% md\n"
    }
   },
   "source": [
    "#### Scalar multiplication"
   ]
  },
  {
   "cell_type": "code",
   "execution_count": null,
   "metadata": {
    "pycharm": {
     "name": "#%%\n"
    }
   },
   "outputs": [],
   "source": [
    "(0 * A).todense()"
   ]
  },
  {
   "cell_type": "code",
   "execution_count": null,
   "metadata": {
    "pycharm": {
     "name": "#%%\n"
    }
   },
   "outputs": [],
   "source": [
    "(3 * A).todense()"
   ]
  },
  {
   "cell_type": "markdown",
   "metadata": {},
   "source": [
    "#### Multiplication"
   ]
  },
  {
   "cell_type": "code",
   "execution_count": null,
   "metadata": {
    "pycharm": {
     "name": "#%%\n"
    }
   },
   "outputs": [],
   "source": [
    "x = [1, 2, 3, 4]\n",
    "A.dot(x)"
   ]
  },
  {
   "cell_type": "code",
   "execution_count": null,
   "metadata": {
    "pycharm": {
     "name": "#%%\n"
    }
   },
   "outputs": [],
   "source": [
    "A * x"
   ]
  },
  {
   "cell_type": "code",
   "execution_count": null,
   "metadata": {
    "pycharm": {
     "name": "#%%\n"
    }
   },
   "outputs": [],
   "source": [
    "A @ x"
   ]
  },
  {
   "cell_type": "code",
   "execution_count": null,
   "metadata": {
    "pycharm": {
     "name": "#%%\n"
    }
   },
   "outputs": [],
   "source": [
    "diag = sparse.spdiags(x, 0, len(x), len(x))\n",
    "(A @ diag).toarray()"
   ]
  },
  {
   "cell_type": "markdown",
   "metadata": {
    "pycharm": {
     "name": "#%% md\n"
    }
   },
   "source": [
    "#### Solve diagonal"
   ]
  },
  {
   "cell_type": "code",
   "execution_count": null,
   "metadata": {
    "pycharm": {
     "name": "#%%\n"
    }
   },
   "outputs": [],
   "source": [
    "from scipy.sparse import linalg as splinalg\n",
    "splinalg.spsolve_triangular(diag, x)"
   ]
  },
  {
   "cell_type": "markdown",
   "metadata": {
    "pycharm": {
     "name": "#%% md\n"
    }
   },
   "source": [
    "#### Solve lower triangular"
   ]
  },
  {
   "cell_type": "code",
   "execution_count": null,
   "metadata": {
    "pycharm": {
     "name": "#%%\n"
    }
   },
   "outputs": [],
   "source": [
    "L = sparse.tril(np.random.randint(0, 3, (4, 4)), k=-1) + sparse.eye(4)\n",
    "splinalg.spsolve_triangular(L, x, unit_diagonal=True)"
   ]
  },
  {
   "cell_type": "code",
   "execution_count": null,
   "metadata": {
    "pycharm": {
     "name": "#%%\n"
    }
   },
   "outputs": [],
   "source": [
    "#### Solving upper triangular"
   ]
  },
  {
   "cell_type": "code",
   "execution_count": null,
   "metadata": {
    "pycharm": {
     "name": "#%%\n"
    }
   },
   "outputs": [],
   "source": [
    "U = sparse.triu(np.random.randint(0, 3, (4, 4)), k=1) + sparse.eye(4)\n",
    "splinalg.spsolve_triangular(U, x, lower=False, unit_diagonal=True)"
   ]
  },
  {
   "cell_type": "markdown",
   "metadata": {
    "pycharm": {
     "name": "#%% md\n"
    }
   },
   "source": [
    "#### Scalar addition\n",
    "Matrix is not sparse anymore, so might as well convert to dense matrix first.\n",
    "(sparse matrices don't even support scalar addition)"
   ]
  },
  {
   "cell_type": "code",
   "execution_count": null,
   "metadata": {
    "pycharm": {
     "name": "#%%\n"
    }
   },
   "outputs": [],
   "source": [
    "A.todense() + 3"
   ]
  },
  {
   "cell_type": "markdown",
   "metadata": {
    "pycharm": {
     "name": "#%% md\n"
    }
   },
   "source": [
    "## 240. Sources\n",
    "To print all matrices, `toarray()` was included everywhere"
   ]
  },
  {
   "cell_type": "code",
   "execution_count": null,
   "metadata": {
    "pycharm": {
     "name": "#%%\n"
    }
   },
   "outputs": [],
   "source": [
    "sparse.coo_matrix((3,3)).toarray()"
   ]
  },
  {
   "cell_type": "code",
   "execution_count": null,
   "metadata": {
    "pycharm": {
     "name": "#%%\n"
    }
   },
   "outputs": [],
   "source": [
    "sparse.eye(5, 7).toarray()"
   ]
  },
  {
   "cell_type": "code",
   "execution_count": null,
   "metadata": {
    "pycharm": {
     "name": "#%%\n"
    }
   },
   "outputs": [],
   "source": [
    "sparse.random(5, 5, 0.3).toarray()"
   ]
  },
  {
   "cell_type": "code",
   "execution_count": null,
   "metadata": {
    "pycharm": {
     "name": "#%%\n"
    }
   },
   "outputs": [],
   "source": [
    "sparse.diags([-1, 4, -1], [-1, 0, 1], (4, 4)).toarray()"
   ]
  },
  {
   "cell_type": "code",
   "execution_count": null,
   "metadata": {
    "pycharm": {
     "name": "#%%\n"
    }
   },
   "outputs": [],
   "source": [
    "# This is brilliant!\n",
    "A = sparse.diags([-1, 2, -1], [-1, 0, 1], (4, 4))\n",
    "sparse.kron(sparse.eye(4, 4), A) + sparse.kron(A, sparse.eye(4, 4))"
   ]
  },
  {
   "cell_type": "markdown",
   "metadata": {
    "pycharm": {
     "name": "#%% md\n"
    }
   },
   "source": [
    "## 242. Zero loops"
   ]
  },
  {
   "cell_type": "code",
   "execution_count": null,
   "metadata": {
    "pycharm": {
     "name": "#%%\n"
    }
   },
   "outputs": [],
   "source": [
    "def zero_loops(n):\n",
    "    A = sparse.diags([-1, 2, -1], [-1, 0, 1], (n, n))\n",
    "    return sparse.kron(sparse.eye(n, n), A) + sparse.kron(A, sparse.eye(n, n))\n",
    "\n",
    "zero_loops(3).toarray()"
   ]
  },
  {
   "cell_type": "markdown",
   "metadata": {
    "pycharm": {
     "name": "#%% md\n"
    }
   },
   "source": [
    "## 243. One loop\n",
    "`one_loop(n)` gets as input the size of a subblock, and creates an $$n^2 \\times n^2$$ matrix of subblocks of size $$n \\times n $$."
   ]
  },
  {
   "cell_type": "code",
   "execution_count": null,
   "metadata": {
    "pycharm": {
     "name": "#%%\n"
    }
   },
   "outputs": [],
   "source": [
    "import math\n",
    "\n",
    "def one_loop(n):\n",
    "    # assert math.sqrt(n).is_integer(), \"n should be a square\"\n",
    "    # Use a dok matrix so we can easily assign elements.\n",
    "    A = sparse.dok_matrix((n**2, n**2))\n",
    "    # m = int(math.sqrt(n))\n",
    "    for i in range(n**2):\n",
    "        k = i % n + 1\n",
    "        l = math.floor(i / n) + 1\n",
    "        A[i, i] = 4\n",
    "        if k > 1:\n",
    "            A[i, i-1] = -1\n",
    "        if k < n:\n",
    "            A[i, i+1] = -1\n",
    "        if l > 1:\n",
    "            A[i, i-n] = -1\n",
    "        if l < n:\n",
    "            A[i, i+n] = -1\n",
    "    return A.tocsc()\n",
    "\n",
    "one_loop(3).toarray()"
   ]
  },
  {
   "cell_type": "markdown",
   "metadata": {
    "pycharm": {
     "name": "#%% md\n"
    }
   },
   "source": [
    "## 245. Two loops\n",
    "Skipping one loop with preallocation, because I am not sure if it really is preallocation?\n",
    "From what I understand from the [matlab documentation](https://nl.mathworks.com/help/matlab/ref/sparse.html), `sparse(n, n, 5*n)` creates a sparse matrix with one entry with value `5*n` in position `(n, n)`."
   ]
  },
  {
   "cell_type": "code",
   "execution_count": null,
   "metadata": {
    "pycharm": {
     "name": "#%%\n"
    }
   },
   "outputs": [],
   "source": [
    "def two_loops(n):\n",
    "    A = sparse.dok_matrix((n**2, n**2))\n",
    "    for k in range(n**2):\n",
    "        for l in range(n**2):\n",
    "            if l == k: A[k, l] = 4\n",
    "            if l == k - 1 and k % n != 0: A[k, l] = -1\n",
    "            if l == k + 1 and k % n != 2: A[k, l] = -1\n",
    "            if l == k - n: A[k, l] = -1\n",
    "            if l == k + n: A[k, l] = -1\n",
    "    return A\n",
    "\n",
    "two_loops(3).toarray()"
   ]
  },
  {
   "cell_type": "markdown",
   "metadata": {
    "pycharm": {
     "name": "#%% md\n"
    }
   },
   "source": [
    "## 247. Timings"
   ]
  },
  {
   "cell_type": "code",
   "execution_count": null,
   "metadata": {
    "pycharm": {
     "name": "#%%\n"
    }
   },
   "outputs": [],
   "source": [
    "from timeit import timeit\n",
    "\n",
    "# 100, 1000, 10000\n",
    "# created matrix is of size n^2 x n^2\n",
    "for i in [10, 31, 100]:\n",
    "    n = int(i)\n",
    "    print(timeit(\n",
    "        f\"zero_loops({n})\",\n",
    "        setup=\"from __main__ import zero_loops\",\n",
    "        number=5\n",
    "    ))"
   ]
  },
  {
   "cell_type": "code",
   "execution_count": null,
   "metadata": {
    "pycharm": {
     "name": "#%%\n"
    }
   },
   "outputs": [],
   "source": [
    "for i in [10, 31, 100]:\n",
    "    n = int(i)\n",
    "    print(timeit(\n",
    "        f\"one_loop({n})\",\n",
    "        setup=\"from __main__ import one_loop\",\n",
    "        number=5\n",
    "    ))"
   ]
  },
  {
   "cell_type": "code",
   "execution_count": null,
   "metadata": {
    "pycharm": {
     "name": "#%%\n"
    }
   },
   "outputs": [],
   "source": [
    "for i in [10, 31, 100]:\n",
    "    n = int(i)\n",
    "    print(timeit(\n",
    "        f\"two_loops({n})\",\n",
    "        setup=\"from __main__ import two_loops\",\n",
    "        number=5\n",
    "    ))"
   ]
  },
  {
   "cell_type": "code",
   "execution_count": null,
   "metadata": {
    "pycharm": {
     "name": "#%%\n"
    }
   },
   "outputs": [],
   "source": [
    "import matplotlib.pyplot as plt\n",
    "plt.loglog([100, 31**2, 10000],\n",
    "           np.array([0.010975192999467254, 0.011837242999718, 0.023965784000210988]) / 5,\n",
    "           label=\"0 loops\")\n",
    "\n",
    "plt.loglog([100, 31**2, 10000],\n",
    "           np.array([0.03488252199986164, 0.2660015530000237, 2.8797298780000347]) / 5,\n",
    "           label=\"1 loop\")\n",
    "\n",
    "plt.loglog([100, 31**2, 10000],\n",
    "           np.array([0.04005085099925054, 1.1138713059999645, 96.31783088499924]) / 5,\n",
    "           label=\"2 loops\")\n",
    "\n",
    "plt.legend()"
   ]
  },
  {
   "cell_type": "markdown",
   "metadata": {
    "pycharm": {
     "name": "#%% md\n"
    }
   },
   "source": [
    "## 250. Write to LaTeX\n",
    "I found the `array_to_latex` package, but there could be better options.\n",
    "It seems to work quite neat."
   ]
  },
  {
   "cell_type": "code",
   "execution_count": null,
   "metadata": {
    "pycharm": {
     "name": "#%%\n"
    }
   },
   "outputs": [],
   "source": [
    "import array_to_latex as a2l\n",
    "\n",
    "B = zero_loops(3)\n",
    "a2l.to_ltx(B.toarray(), frmt='{:1.0f}')"
   ]
  },
  {
   "cell_type": "markdown",
   "metadata": {
    "pycharm": {
     "name": "#%% md\n"
    }
   },
   "source": [
    "## 253. semilogy\n",
    "Reconsider: What is the MF3 matrix? Reproduce it with that particular matrix if necessary."
   ]
  },
  {
   "cell_type": "code",
   "execution_count": null,
   "metadata": {
    "pycharm": {
     "name": "#%%\n"
    }
   },
   "outputs": [],
   "source": [
    "A = sparse.random(100, 100, 0.2)\n",
    "plt.semilogy(np.sort(A.data))"
   ]
  },
  {
   "cell_type": "markdown",
   "metadata": {
    "pycharm": {
     "name": "#%% md\n"
    }
   },
   "source": [
    "## 254. spy"
   ]
  },
  {
   "cell_type": "code",
   "execution_count": null,
   "metadata": {
    "pycharm": {
     "name": "#%%\n"
    }
   },
   "outputs": [],
   "source": [
    "A = sparse.random(10, 10, 0.1)\n",
    "plt.spy(A)\n",
    "plt.spy(sparse.eye(10, 10), marker='o', color='red')\n",
    "# Could not find a flipud for sparse matrices, but maybe didn't look good enough.\n",
    "plt.spy(np.flipud(A.toarray()), marker='+', color='green')"
   ]
  },
  {
   "cell_type": "markdown",
   "metadata": {
    "pycharm": {
     "name": "#%% md\n"
    }
   },
   "source": [
    "## 255. Substitution"
   ]
  },
  {
   "cell_type": "code",
   "execution_count": null,
   "metadata": {
    "pycharm": {
     "name": "#%%\n"
    }
   },
   "outputs": [],
   "source": [
    "B = sparse.diags([5, -1, 2], [1, 0, -1], (5, 5), format=\"csc\")\n",
    "B[0, 3] = 8; B[3, 0] = 7\n",
    "I, J, _ = sparse.find(B)\n",
    "A = sparse.csc_matrix((I + 1, (I, J)))\n",
    "A.toarray()"
   ]
  },
  {
   "cell_type": "markdown",
   "metadata": {
    "pycharm": {
     "name": "#%% md\n"
    }
   },
   "source": [
    "## 256. Substitution"
   ]
  },
  {
   "cell_type": "code",
   "execution_count": null,
   "metadata": {
    "pycharm": {
     "name": "#%%\n"
    }
   },
   "outputs": [],
   "source": [
    "I, J, V = sparse.find(B)\n",
    "A = sparse.csc_matrix((V**2, (I, J)))\n",
    "A.toarray()"
   ]
  },
  {
   "cell_type": "markdown",
   "metadata": {
    "pycharm": {
     "name": "#%% md\n"
    }
   },
   "source": [
    "## 257. Substitution"
   ]
  },
  {
   "cell_type": "code",
   "execution_count": null,
   "metadata": {
    "pycharm": {
     "name": "#%%\n"
    }
   },
   "outputs": [],
   "source": [
    "A = B.copy()\n",
    "A[:, 1:4] = sparse.csc_matrix(([6] * len(I), (I, J)))[:, 1:4]\n",
    "A.toarray()"
   ]
  },
  {
   "cell_type": "markdown",
   "metadata": {
    "pycharm": {
     "name": "#%% md\n"
    }
   },
   "source": [
    "## 258. Conversion from sparse to full"
   ]
  },
  {
   "cell_type": "code",
   "execution_count": null,
   "metadata": {
    "pycharm": {
     "name": "#%%\n"
    }
   },
   "outputs": [],
   "source": [
    "A = sparse.rand(8, 8, 0.3)\n",
    "B = A.todense()\n",
    "C = sparse.csc_matrix(B)\n",
    "np.max(np.absolute(A - C))"
   ]
  },
  {
   "cell_type": "markdown",
   "metadata": {
    "pycharm": {
     "name": "#%% md\n"
    }
   },
   "source": [
    "## 262. Typical operations: Delete small entries"
   ]
  },
  {
   "cell_type": "code",
   "execution_count": null,
   "metadata": {
    "pycharm": {
     "name": "#%%\n"
    }
   },
   "outputs": [],
   "source": [
    "A = sparse.random(10, 10, 0.3)\n",
    "I, J, V = sparse.find(A)\n",
    "K = np.absolute(V) > 0.2\n",
    "sparse.csc_matrix((V[K], (I[K], J[K])), (10, 10)).toarray()"
   ]
  },
  {
   "cell_type": "code",
   "execution_count": null,
   "metadata": {},
   "outputs": [],
   "source": []
  }
 ],
 "metadata": {
  "jupytext": {
   "formats": "src/notebooks//ipynb,src/python//py:light"
  },
  "kernelspec": {
   "display_name": "Python 3",
   "language": "python",
   "name": "python3"
  },
  "language_info": {
   "codemirror_mode": {
    "name": "ipython",
    "version": 3
   },
   "file_extension": ".py",
   "mimetype": "text/x-python",
   "name": "python",
   "nbconvert_exporter": "python",
   "pygments_lexer": "ipython3",
   "version": "3.8.5"
  }
 },
 "nbformat": 4,
 "nbformat_minor": 4
}
