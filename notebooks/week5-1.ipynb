{
 "cells": [
  {
   "cell_type": "markdown",
   "metadata": {
    "pycharm": {
     "name": "#%% md\n"
    }
   },
   "source": [
    "# Matrices with known eigenpairs\n",
    "\n",
    "## 496. Block block Toeplitz matrices"
   ]
  },
  {
   "cell_type": "code",
   "execution_count": null,
   "metadata": {
    "pycharm": {
     "name": "#%%\n"
    }
   },
   "outputs": [],
   "source": [
    "import scipy.sparse as sparse\n",
    "\n",
    "n = 2\n",
    "B = sparse.diags([-1, 2, -1], [-1, 0, 1], (n, n), format='csc')\n",
    "I = sparse.eye(n, n)\n",
    "A = sparse.kron(I, sparse.kron(I, B)) \\\n",
    "  + sparse.kron(I, sparse.kron(B, I)) \\\n",
    "  + sparse.kron(B, sparse.kron(I, I))\n",
    "A.A"
   ]
  },
  {
   "cell_type": "markdown",
   "metadata": {
    "pycharm": {
     "name": "#%% md\n"
    }
   },
   "source": [
    "# Boundary value problems\n",
    "\n",
    "## 509. Boundary value problems"
   ]
  },
  {
   "cell_type": "code",
   "execution_count": null,
   "metadata": {
    "pycharm": {
     "name": "#%%\n"
    }
   },
   "outputs": [],
   "source": [
    "def boundary_value_problem_2(n, ax, ay, bx, by, c):\n",
    "    h = 1 / (n + 1)\n",
    "    x_derivative = sparse.diags([ax - h * bx / 2, -2 * ax + h**2 * c/2, ax + h * bx / 2], [-1, 0, 1], (n, n))\n",
    "    y_derivative = sparse.diags([ay - h * by / 2, -2 * ay + h**2 * c/2, ay + h * by / 2], [-1, 0, 1], (n, n))\n",
    "    I = sparse.eye(n, n)\n",
    "    return sparse.kron(I, x_derivative) + sparse.kron(y_derivative, I)"
   ]
  },
  {
   "cell_type": "markdown",
   "metadata": {
    "pycharm": {
     "name": "#%% md\n"
    }
   },
   "source": [
    "## 510. Boundary value problems"
   ]
  },
  {
   "cell_type": "code",
   "execution_count": null,
   "metadata": {
    "pycharm": {
     "name": "#%%\n"
    }
   },
   "outputs": [],
   "source": [
    "def boundary_value_problem_3(n, ax, ay, az, bx, by, bz, c):\n",
    "    h = 1 / (n + 1)\n",
    "    x_derivative = sparse.diags([ax - h * bx / 2, -2 * ax + h**2 * c/3, ax + h * bx / 2], [-1, 0, 1], (n, n))\n",
    "    y_derivative = sparse.diags([ay - h * by / 2, -2 * ay + h**2 * c/3, ay + h * by / 2], [-1, 0, 1], (n, n))\n",
    "    z_derivative = sparse.diags([az - h * bz / 2, -2 * az + h**2 * c/3, az + h * bz / 2], [-1, 0, 1], (n, n))\n",
    "    I = sparse.eye(n, n)\n",
    "    return sparse.kron(I, sparse.kron(I, x_derivative)) \\\n",
    "         + sparse.kron(I, sparse.kron(y_derivative, I)) \\\n",
    "         + sparse.kron(z_derivative, sparse.kron(I, I))"
   ]
  },
  {
   "cell_type": "markdown",
   "metadata": {
    "pycharm": {
     "name": "#%% md\n"
    }
   },
   "source": [
    "## 511/512. BVP 2D"
   ]
  },
  {
   "cell_type": "code",
   "execution_count": null,
   "metadata": {
    "pycharm": {
     "name": "#%%\n"
    }
   },
   "outputs": [],
   "source": [
    "import numpy as np\n",
    "from math import pi\n",
    "from scipy.sparse.linalg import spsolve\n",
    "\n",
    "a_x, a_y = -1, -1\n",
    "b_x, b_y = 4, -3\n",
    "n = 100\n",
    "A = boundary_value_problem_2(n, a_x, a_y, b_x, b_y, 0)\n",
    "\n",
    "[X, Y] = np.meshgrid(np.arange(1, n+1)/(n+1), np.arange(1, n+1)/(n+1))\n",
    "\n",
    "h = 1 / (n + 1)\n",
    "# Use np.sin and np.cos as those can be applied to an iterable.\n",
    "f = h**2 * np.reshape(\n",
    "    (a_x * (-4 * pi**2 * np.sin(2 * pi * X)) + b_x * 2 * pi * np.cos(2 * pi * X)) * np.sin(2 * pi * Y) +\n",
    "    (a_y * (-4 * pi**2 * np.sin(2 * pi * Y)) + b_y * 2 * pi * np.cos(2 * pi * Y)) * np.sin(2 * pi * X)\n",
    "    , (n**2, 1)\n",
    ")\n",
    "\n",
    "u = spsolve(A, f)\n",
    "u_bvp = np.reshape(np.sin(2 * pi * X) * np.sin(2 * pi * Y), (n**2, 1))"
   ]
  },
  {
   "cell_type": "code",
   "execution_count": null,
   "metadata": {
    "pycharm": {
     "name": "#%%\n"
    }
   },
   "outputs": [],
   "source": [
    "import matplotlib.pyplot as plt\n",
    "from matplotlib import cm  # color map\n",
    "\n",
    "fig = plt.figure(figsize=(12, 8))\n",
    "ax = fig.add_subplot(111, projection='3d')\n",
    "surf = ax.plot_surface(X, Y, np.reshape(u, (n, n)), cmap=cm.jet)\n",
    "\n",
    "fig.colorbar(surf)\n",
    "ax.azim = 230 # Change the camera angle so it is the same as in the matlab example\n",
    "ax.set_xlabel(\"x\")\n",
    "ax.set_ylabel(\"y\")\n",
    "ax.set_zlabel(\"z\");  # ';' to suppress output"
   ]
  },
  {
   "cell_type": "markdown",
   "metadata": {
    "pycharm": {
     "name": "#%% md\n"
    }
   },
   "source": [
    "## 513. BVP 2D\n",
    "The same as the previous example, but with a different $f$:"
   ]
  },
  {
   "cell_type": "code",
   "execution_count": null,
   "metadata": {
    "pycharm": {
     "name": "#%%\n"
    }
   },
   "outputs": [],
   "source": [
    "f = h**2 * np.reshape(\n",
    "    (2 * a_x + b_x * (2 * X - 1)) * Y * (Y - 1)\n",
    "    + (2 * a_y + b_y * (2 * Y - 1)) * X * (X - 1)\n",
    "    , (n**2, 1)\n",
    ")\n",
    "u = spsolve(A, f)\n",
    "\n",
    "fig = plt.figure(figsize=(12, 8))\n",
    "ax = fig.add_subplot(111, projection='3d')\n",
    "surf = ax.plot_surface(X, Y, np.reshape(u, (n, n)), cmap=cm.jet)\n",
    "\n",
    "fig.colorbar(surf)\n",
    "ax.azim = 230 # Change the camera angle so it is the same as in the matlab example\n",
    "ax.set_xlabel(\"x\")\n",
    "ax.set_ylabel(\"y\")\n",
    "ax.set_zlabel(\"z\");"
   ]
  },
  {
   "cell_type": "markdown",
   "metadata": {
    "pycharm": {
     "name": "#%% md\n"
    }
   },
   "source": [
    "## 514. BVP 3D"
   ]
  },
  {
   "cell_type": "code",
   "execution_count": null,
   "metadata": {
    "pycharm": {
     "name": "#%%\n"
    }
   },
   "outputs": [],
   "source": [
    "n = 10\n",
    "a_x, a_y, a_z = -1, -1, -1\n",
    "b_x, b_y, b_z = -3, 4, 0\n",
    "c = 0\n",
    "\n",
    "A = boundary_value_problem_3(n, a_x, a_y, a_z, b_x, b_y, b_z, c)\n",
    "\n",
    "[X, Y, Z] = np.meshgrid(np.arange(1, n+1)/(n+1), np.arange(1, n+1)/(n+1), np.arange(1, n+1)/(n+1), indexing='ij')\n",
    "\n",
    "f = h**2 * np.reshape(\n",
    "    np.sin(4 * pi * (X**2)) + Y**2 + Z**2\n",
    "    , (n**3, 1)\n",
    ")\n",
    "\n",
    "u = spsolve(A, f)"
   ]
  },
  {
   "cell_type": "markdown",
   "metadata": {
    "pycharm": {
     "name": "#%% md\n"
    }
   },
   "source": [
    "## 520. Triangular/diagonal parts"
   ]
  },
  {
   "cell_type": "code",
   "execution_count": null,
   "metadata": {
    "pycharm": {
     "name": "#%%\n"
    }
   },
   "outputs": [],
   "source": [
    "A = sparse.random(5, 5, 0.75, data_rvs=np.ones)\n",
    "sparse.triu(A, 0).A"
   ]
  },
  {
   "cell_type": "code",
   "execution_count": null,
   "metadata": {
    "pycharm": {
     "name": "#%%\n"
    }
   },
   "outputs": [],
   "source": [
    "sparse.tril(A, 0).A"
   ]
  },
  {
   "cell_type": "code",
   "execution_count": null,
   "metadata": {
    "pycharm": {
     "name": "#%%\n"
    }
   },
   "outputs": [],
   "source": [
    "A.diagonal()"
   ]
  },
  {
   "cell_type": "code",
   "execution_count": null,
   "metadata": {
    "pycharm": {
     "name": "#%%\n"
    }
   },
   "outputs": [],
   "source": [
    "sparse.diags([A.diagonal()], [0], (5, 5)).A"
   ]
  },
  {
   "cell_type": "markdown",
   "metadata": {
    "pycharm": {
     "name": "#%% md\n"
    }
   },
   "source": [
    "## 532. LDU factorization"
   ]
  },
  {
   "cell_type": "code",
   "execution_count": null,
   "metadata": {
    "pycharm": {
     "name": "#%%\n"
    }
   },
   "outputs": [],
   "source": [
    "def ldu(A):\n",
    "    A_ = A.copy()\n",
    "    for k in range(1, len(A)):\n",
    "        A_[k:, k:] = A_[k:, k:] - (1/A_[k-1, k-1]) * (np.reshape(A_[k:, k-1], (len(A_)-k, 1)) @ np.reshape(A_[k-1, k:], (1, len(A_) - k)))\n",
    "    return A_\n",
    "\n",
    "def diag_inverse(D):\n",
    "    return np.diag(1 / np.diag(D))"
   ]
  },
  {
   "cell_type": "code",
   "execution_count": null,
   "metadata": {
    "pycharm": {
     "name": "#%%\n"
    }
   },
   "outputs": [],
   "source": [
    "A = np.array([\n",
    "    [1, 0, 1, 0],\n",
    "    [2, 1, -1, 0],\n",
    "    [0, -1, 0, 1],\n",
    "    [-2, 0, 1, 3]\n",
    "])\n",
    "\n",
    "LDU = ldu(A)\n",
    "D = np.diag(np.diag(LDU))\n",
    "L = np.tril(LDU, -1)\n",
    "U = np.triu(LDU, 1)\n",
    "(L + D) @ diag_inverse(D) @ (D + U)"
   ]
  },
  {
   "cell_type": "markdown",
   "metadata": {
    "pycharm": {
     "name": "#%% md\n"
    }
   },
   "source": [
    "## 534. Solving $$Ax = b$$ via LDU\n",
    "\n",
    "If `U(i, i)` is 0 in the line `x(i) = x(i)/U(i, i)` then the algorithm breaks down. To prevent this a variant called `with pivotting` is required -- but is technically more involved -- ommited for educational reasons. Exercises & exam questions will not require the pivotting variant.\n"
   ]
  },
  {
   "cell_type": "code",
   "execution_count": null,
   "metadata": {
    "pycharm": {
     "name": "#%%\n"
    }
   },
   "outputs": [],
   "source": [
    "n = 6\n",
    "U = sparse.triu(sparse.random(n, n, 1), format='csc')\n",
    "b = U @ np.reshape(range(1, n+1), (n, 1))\n",
    "x = b.copy()\n",
    "\n",
    "for i in range(n)[::-1]:\n",
    "    x[i] = x[i] / U[i, i]\n",
    "    if i > 0:\n",
    "        x[:i] = x[:i] - (x[i][0] * U[:i, i])\n",
    "\n",
    "np.linalg.norm(U @ x - b, np.inf)"
   ]
  },
  {
   "cell_type": "markdown",
   "metadata": {
    "pycharm": {
     "name": "#%% md\n"
    }
   },
   "source": [
    "## 535. Solving $$Ax =b$$ via LDU"
   ]
  },
  {
   "cell_type": "code",
   "execution_count": null,
   "metadata": {
    "pycharm": {
     "name": "#%%\n"
    }
   },
   "outputs": [],
   "source": [
    "n = 6\n",
    "L = sparse.tril(sparse.random(n, n, 1), format='csc')\n",
    "b = L @ np.reshape(range(1, n+1), (n, 1))\n",
    "x = b.copy()\n",
    "\n",
    "for i in range(n):\n",
    "    x[i] = x[i] / L[i, i]\n",
    "    if i < n-1:\n",
    "        x[i+1:n] = x[i+1:n] - (x[i][0] * L[i+1:n, i])\n",
    "\n",
    "np.linalg.norm(L @ x - b, np.inf)"
   ]
  },
  {
   "cell_type": "markdown",
   "metadata": {
    "pycharm": {
     "name": "#%% md\n"
    }
   },
   "source": [
    "## 537. Factorizations and round-off errors"
   ]
  },
  {
   "cell_type": "code",
   "execution_count": null,
   "metadata": {
    "pycharm": {
     "name": "#%%\n"
    }
   },
   "outputs": [],
   "source": [
    "from scipy import linalg as la\n",
    "import scipy.io\n",
    "\n",
    "mat = scipy.io.loadmat('../data/ST2.mat')\n",
    "X = mat['X']\n",
    "# Does not take sparse matrices...\n",
    "[L, D, P] = la.ldl(X.toarray())\n",
    "I, J = np.ix_(P, P)\n",
    "\n",
    "plt.spy((L @ D @ L.T) - X[I, J])\n",
    "np.linalg.norm(L @ D @ L.T - X[I, J], np.inf)"
   ]
  },
  {
   "cell_type": "markdown",
   "metadata": {
    "pycharm": {
     "name": "#%% md\n"
    }
   },
   "source": [
    "## 542. Factorizations and fill-in"
   ]
  },
  {
   "cell_type": "code",
   "execution_count": null,
   "metadata": {
    "pycharm": {
     "name": "#%%\n"
    }
   },
   "outputs": [],
   "source": [
    "A = np.zeros((6, 6))\n",
    "A[0, :] = np.ones(6)\n",
    "A[:, 0] = np.ones(6)\n",
    "# Documentation says that the second argument should be a scalar used to fill the diagonal.\n",
    "# However, at the bottom of the page are examples that show the use of an array instead: https://numpy.org/doc/stable/reference/generated/numpy.fill_diagonal.html\n",
    "# No guarantee this will work in all cases, but it does work here:\n",
    "np.fill_diagonal(A, [2**i for i in range(6)])\n",
    "A"
   ]
  },
  {
   "cell_type": "code",
   "execution_count": null,
   "metadata": {
    "pycharm": {
     "name": "#%%\n"
    }
   },
   "outputs": [],
   "source": [
    "# As defined somewhere above\n",
    "ldu(A)"
   ]
  },
  {
   "cell_type": "markdown",
   "metadata": {
    "pycharm": {
     "name": "#%% md\n"
    }
   },
   "source": [
    "## 545. Factors L + U"
   ]
  },
  {
   "cell_type": "code",
   "execution_count": null,
   "metadata": {
    "pycharm": {
     "name": "#%%\n"
    }
   },
   "outputs": [],
   "source": [
    "from scipy import linalg as la\n",
    "import scipy.io\n",
    "\n",
    "mat = scipy.io.loadmat('../data/ST2.mat')\n",
    "X = mat['X']\n",
    "[P, L, U] = la.lu(X.toarray())\n",
    "plt.spy(L + U)"
   ]
  },
  {
   "cell_type": "markdown",
   "metadata": {
    "pycharm": {
     "name": "#%% md\n"
    }
   },
   "source": [
    "## 546. Factors L + U of `[L, U] = lu(X(P, P))`\n",
    "\n",
    "Reverse Cuthill-McKee:"
   ]
  },
  {
   "cell_type": "code",
   "execution_count": null,
   "metadata": {
    "pycharm": {
     "name": "#%%\n"
    }
   },
   "outputs": [],
   "source": [
    "import scipy.sparse.csgraph as csgraph\n",
    "\n",
    "p = csgraph.reverse_cuthill_mckee(X)\n",
    "I, J = np.ix_(p, p)\n",
    "A = X[I, J]\n",
    "[Q, L, U] = la.lu(A.toarray())\n",
    "plt.spy(L + U)"
   ]
  },
  {
   "cell_type": "markdown",
   "metadata": {
    "pycharm": {
     "name": "#%% md\n"
    }
   },
   "source": [
    "BFS ordering:"
   ]
  },
  {
   "cell_type": "code",
   "execution_count": null,
   "metadata": {
    "pycharm": {
     "name": "#%%\n"
    }
   },
   "outputs": [],
   "source": [
    "p, _ = csgraph.breadth_first_order(X, 0)\n",
    "I, J = np.ix_(p, p)\n",
    "A = X[I, J]\n",
    "[Q, L, U] = la.lu(A.toarray())\n",
    "plt.spy(L + U)"
   ]
  }
 ],
 "metadata": {
  "jupytext": {
   "formats": "src/notebooks//ipynb,src/python//py:light"
  },
  "kernelspec": {
   "display_name": "Python 3",
   "language": "python",
   "name": "python3"
  },
  "language_info": {
   "codemirror_mode": {
    "name": "ipython",
    "version": 3
   },
   "file_extension": ".py",
   "mimetype": "text/x-python",
   "name": "python",
   "nbconvert_exporter": "python",
   "pygments_lexer": "ipython3",
   "version": "3.8.5"
  }
 },
 "nbformat": 4,
 "nbformat_minor": 4
}
