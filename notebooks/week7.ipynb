{
 "cells": [
  {
   "cell_type": "markdown",
   "metadata": {
    "pycharm": {
     "name": "#%% md\n"
    }
   },
   "source": [
    "# The Matlab MEX frontend\n",
    "\n",
    "If I understood correctly, the goal of using the MEX frontend is to embed C/C++ code into matlab, as that is faster (and compiled).\n",
    "To achieve the same thing in Python, I will look into [Cython](https://cython.org/) and directly [extending Python with C++](https://docs.python.org/3/extending/extending.html).\n",
    "On first impression, the former looks easier, but the latter looks more like using the MEX frontend in Matlab.\n",
    "I will try both (this is all new to me), report my findings, and then it is up to you to decide which way to go.\n",
    "\n",
    "## 605. Matlab native: `dotsq()`"
   ]
  },
  {
   "cell_type": "code",
   "execution_count": null,
   "metadata": {
    "pycharm": {
     "name": "#%%\n"
    }
   },
   "outputs": [],
   "source": [
    "import numpy as np\n",
    "\n",
    "def dotsq_slow1(v):\n",
    "    w = np.empty((0, 0))\n",
    "    for i in v:\n",
    "        w = np.append(w, i**2)\n",
    "    return w"
   ]
  },
  {
   "cell_type": "code",
   "execution_count": null,
   "metadata": {
    "pycharm": {
     "name": "#%%\n"
    }
   },
   "outputs": [],
   "source": [
    "def dotsq_slow2(v):\n",
    "    return list(map(lambda x: x**2, v))"
   ]
  },
  {
   "cell_type": "code",
   "execution_count": null,
   "metadata": {
    "pycharm": {
     "name": "#%%\n"
    }
   },
   "outputs": [],
   "source": [
    "def dotsq_fast(v):\n",
    "    return v**2"
   ]
  },
  {
   "cell_type": "markdown",
   "metadata": {
    "pycharm": {
     "name": "#%% md\n"
    }
   },
   "source": [
    "`dotsq_slow1(v)` takes around 3 seconds with vector of size $$10^5$$, and for $$10^6$$ it took a lot longer.\n",
    "Haven't tested whether it's just the `for` loop that is slow, but my guess is that a `np.append()` is also slow.\n",
    "Test this?\n",
    "\n",
    "The time of `dotsq_fast()` looks comparable to matlab."
   ]
  },
  {
   "cell_type": "code",
   "execution_count": null,
   "metadata": {
    "pycharm": {
     "name": "#%%\n"
    }
   },
   "outputs": [],
   "source": [
    "v = np.random.randint(0, 100, 100000)\n",
    "\n",
    "# Jupyter has a built-in timeit :)\n",
    "%timeit -r 1 -n 1 dotsq_slow1(v)\n",
    "# %timeit -r 1 -n 1 dotsq_slow2(v)\n",
    "# %timeit -r 1 -n 1 dotsq_fast(v)"
   ]
  },
  {
   "cell_type": "markdown",
   "metadata": {
    "pycharm": {
     "name": "#%% md\n"
    }
   },
   "source": [
    "## 607. Matlab native: `rollout()`"
   ]
  },
  {
   "cell_type": "code",
   "execution_count": null,
   "metadata": {
    "pycharm": {
     "name": "#%%\n"
    }
   },
   "outputs": [],
   "source": [
    "def rollout_slow1(v):\n",
    "    w = np.empty((0, 0))\n",
    "    for i, u in enumerate(v):\n",
    "        for j in range(u):\n",
    "            w = np.append(w, i + 1)\n",
    "    return w"
   ]
  },
  {
   "cell_type": "code",
   "execution_count": null,
   "metadata": {
    "pycharm": {
     "name": "#%%\n"
    }
   },
   "outputs": [],
   "source": [
    "def rollout_slow2(v):\n",
    "    w = np.empty((0, 0))\n",
    "    for i, u in enumerate(v):\n",
    "        w = np.append(w, np.full((1, u), i + 1))\n",
    "    return w"
   ]
  },
  {
   "cell_type": "code",
   "execution_count": null,
   "metadata": {
    "pycharm": {
     "name": "#%%\n"
    }
   },
   "outputs": [],
   "source": [
    "def rollout_fast(v):\n",
    "    return np.repeat(range(1, len(v) + 1), v)"
   ]
  },
  {
   "cell_type": "markdown",
   "metadata": {
    "pycharm": {
     "name": "#%% md\n"
    }
   },
   "source": [
    "`slow1` and `slow2` are really slow (for a vector of size 'only' $$10^4$$ already).\n",
    "I suppose it's the `np.append()` that should be avoided."
   ]
  },
  {
   "cell_type": "code",
   "execution_count": null,
   "metadata": {
    "pycharm": {
     "name": "#%%\n"
    }
   },
   "outputs": [],
   "source": [
    "Cv = np.random.randint(0, 100, 1000000)\n",
    "\n",
    "# Jupyter has a built-in timeit :)\n",
    "# %timeit -r 1 -n 1 rollout_slow1(v)\n",
    "# %timeit -r 1 -n 1 rollout_slow2(v)\n",
    "%timeit -r 1 -n 1 rollout_fast(v)"
   ]
  },
  {
   "cell_type": "markdown",
   "metadata": {
    "pycharm": {
     "name": "#%% md\n"
    }
   },
   "source": [
    "# Cython\n",
    "First, an example taken from the [Cython documentation](https://cython.readthedocs.io/en/latest/src/tutorial/cython_tutorial.html#fibonacci-fun).\n",
    "\n",
    "- I've installed Cython with `pip install cython`\n",
    "- Run `python setup.py build_ext --inplace` in the `fastcython` folder"
   ]
  },
  {
   "cell_type": "code",
   "execution_count": null,
   "metadata": {
    "lines_to_next_cell": 2,
    "pycharm": {
     "name": "#%%\n"
    }
   },
   "outputs": [],
   "source": [
    "# Add the src directory (parent of current directory) to the Python path so it can\n",
    "# find our cython modules.\n",
    "import sys\n",
    "sys.path.insert(1, \"../\")\n",
    "\n",
    "import fastcython.fibonacci as fib\n",
    "fib.fib(10)"
   ]
  },
  {
   "cell_type": "markdown",
   "metadata": {
    "pycharm": {
     "name": "#%% md\n"
    }
   },
   "source": [
    "To make changes in the cython file and use them here (in the notebook) I've found the following to be the shortest:\n",
    "\n",
    "- Run `python setup.py build_ext --inplace` in the `fastcython` folder\n",
    "- Restart the kernel\n",
    "- Rerun the cell (note that, for convenience, the cell includes all necesarry `import`s)\n",
    "\n",
    "Note that I have omitted the Cython code here, as it has to be compiled with C first."
   ]
  },
  {
   "cell_type": "code",
   "execution_count": null,
   "metadata": {
    "pycharm": {
     "name": "#%%\n"
    }
   },
   "outputs": [],
   "source": [
    "import numpy as np\n",
    "from fastcython.dotsq import slow_dotsq_py\n",
    "\n",
    "v = np.array([1, 2, 3, 5])\n",
    "slow_dotsq_py(v)"
   ]
  },
  {
   "cell_type": "markdown",
   "metadata": {
    "pycharm": {
     "name": "#%% md\n"
    }
   },
   "source": [
    "## 612. `dotsq()` in Cython (MEX: `dotsq_mex()`)\n",
    "\n",
    "To try out if simply putting a function in a Cython file and 'compiling' with Cython is enough to gain in performance, I put the `dotsq_slow1()` function (repeated below) in the Cython file as `slow_dotsq_py()`.\n",
    "The timings are below, and it looks like simply compiling with Cython is not enough to speed up."
   ]
  },
  {
   "cell_type": "code",
   "execution_count": null,
   "metadata": {
    "pycharm": {
     "name": "#%%\n"
    }
   },
   "outputs": [],
   "source": [
    "# The 'noinspection PyRedeclaration' is so that PyCharm does not complain about the redefinition of the function.\n",
    "# noinspection PyRedeclaration\n",
    "def dotsq_slow1(v):\n",
    "    w = np.empty((0, 0))\n",
    "    for i in v:\n",
    "        w = np.append(w, i**2)\n",
    "    return w\n",
    "\n",
    "v = np.random.randint(0, 100, 100000)\n",
    "%timeit -r 1 -n 1 slow_dotsq_py(v)\n",
    "%timeit -r 1 -n 1 dotsq_slow1(v)"
   ]
  },
  {
   "cell_type": "markdown",
   "metadata": {
    "pycharm": {
     "name": "#%% md\n"
    }
   },
   "source": [
    "However, adding explicit (C) types to all variables, and using memoryviews (see this [guide](http://docs.cython.org/en/latest/src/userguide/numpy_tutorial.html#efficient-indexing-with-memoryviews) that I am following) speeds it up significantly.\n",
    "Not as fast as numpy, but getting closer."
   ]
  },
  {
   "cell_type": "code",
   "execution_count": null,
   "metadata": {
    "pycharm": {
     "name": "#%%\n"
    }
   },
   "outputs": [],
   "source": [
    "import numpy as np\n",
    "from fastcython.dotsq import dotsq_memview as dotsq_cy\n",
    "\n",
    "v = np.array([1, 2, 3, 5]).astype(np.intc)\n",
    "\n",
    "dotsq_cy(v)"
   ]
  },
  {
   "cell_type": "code",
   "execution_count": null,
   "metadata": {
    "pycharm": {
     "name": "#%%\n"
    }
   },
   "outputs": [],
   "source": [
    "import numpy as np\n",
    "from fastcython.dotsq import dotsq_memview as dotsq_cy\n",
    "\n",
    "# noinspection PyRedeclaration\n",
    "def dotsq_fast(v):\n",
    "    return v**2\n",
    "\n",
    "v = np.random.randint(0, 100, 100000).astype(np.intc)\n",
    "%timeit -n 1000 dotsq_cy(v)\n",
    "%timeit -n 1000 dotsq_fast(v)"
   ]
  },
  {
   "cell_type": "markdown",
   "metadata": {
    "pycharm": {
     "name": "#%% md\n"
    }
   },
   "source": [
    "## 614. `rollout()` in Cython (MEX: `rollout_mex()`)"
   ]
  },
  {
   "cell_type": "code",
   "execution_count": null,
   "metadata": {
    "pycharm": {
     "name": "#%%\n"
    }
   },
   "outputs": [],
   "source": [
    "import numpy as np\n",
    "from fastcython.rollout import rollout\n",
    "\n",
    "v = np.array([1, 2, 3, 5]).astype(np.intc)\n",
    "\n",
    "rollout(v)"
   ]
  },
  {
   "cell_type": "code",
   "execution_count": null,
   "metadata": {
    "pycharm": {
     "name": "#%%\n"
    }
   },
   "outputs": [],
   "source": [
    "def rollout_fast(v):\n",
    "    return np.repeat(range(1, len(v) + 1), v)\n",
    "\n",
    "v = np.random.randint(0, 100, 1000000).astype(np.intc)\n",
    "%timeit -r 1 -n 1 rollout(v)\n",
    "%timeit -r 1 -n 1 rollout_fast(v)"
   ]
  },
  {
   "cell_type": "markdown",
   "metadata": {
    "pycharm": {
     "name": "#%% md\n"
    }
   },
   "source": [
    "# C\n",
    "\n",
    "I'm following a [tutorial](https://medium.com/delta-force/extending-python-with-c-f4e9656fbf5d) that computes the $k$-th prime.\n",
    "\n",
    "- `python setup.py build_ext --inplace` to create the `.so` file (on linux)\n",
    "- Restart kernel"
   ]
  },
  {
   "cell_type": "code",
   "execution_count": null,
   "metadata": {
    "pycharm": {
     "name": "#%%\n"
    }
   },
   "outputs": [],
   "source": [
    "import fastc.fastc as fastc\n",
    "%timeit fastc.kthPrime(10000)"
   ]
  },
  {
   "cell_type": "code",
   "execution_count": null,
   "metadata": {
    "pycharm": {
     "name": "#%%\n"
    }
   },
   "outputs": [],
   "source": [
    "import numpy as np\n",
    "import fastc.fastc as fastc\n",
    "v = np.array([1, 2, 3], dtype=np.intc)\n",
    "fastc.dotsq(v)"
   ]
  },
  {
   "cell_type": "code",
   "execution_count": null,
   "metadata": {
    "pycharm": {
     "name": "#%%\n"
    }
   },
   "outputs": [],
   "source": [
    "import fastc.fastc as fastc\n",
    "import numpy as np\n",
    "\n",
    "# noinspection PyRedeclaration\n",
    "def dotsq_fast(v):\n",
    "    return v**2\n",
    "\n",
    "v = np.random.randint(0, 100, 100000).astype(np.intc)\n",
    "%timeit -n 1000 fastc.dotsq(v)\n",
    "%timeit -n 1000 dotsq_fast(v)"
   ]
  },
  {
   "cell_type": "markdown",
   "metadata": {
    "pycharm": {
     "name": "#%% md\n"
    }
   },
   "source": [
    "Setting up and getting familiar with C and the Numpy/Python C-API took me around 8 hours.\n",
    "It introduces quite some boilerplate code that can be overwhelming at first.\n",
    "I've only defined the `dotsq` function, because I think the challenge here is more in the getting to know C and figuring out how to write an extension in C.\n",
    "`fastc/fastc.c` contains all this boilerplate code, and `dotsq.c` contains the 'real' function `dotsq` (forgive me if this is not C-optimal :p).\n",
    "To be able to do this well, I think students should already know C, which most students don't.\n",
    "Cython is definitely easier to pick up (and NumPy/SciPy development is also switching from C to Cython I believe).\n",
    "So my advice is to look into Cython, and 'skip' the raw C extensions.\n"
   ]
  }
 ],
 "metadata": {
  "jupytext": {
   "formats": "src/notebooks//ipynb,src/python//py:light"
  },
  "kernelspec": {
   "display_name": "Python 3",
   "language": "python",
   "name": "python3"
  },
  "language_info": {
   "codemirror_mode": {
    "name": "ipython",
    "version": 3
   },
   "file_extension": ".py",
   "mimetype": "text/x-python",
   "name": "python",
   "nbconvert_exporter": "python",
   "pygments_lexer": "ipython3",
   "version": "3.8.5"
  }
 },
 "nbformat": 4,
 "nbformat_minor": 4
}
