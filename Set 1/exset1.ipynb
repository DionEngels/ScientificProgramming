{
 "cells": [
  {
   "cell_type": "code",
   "execution_count": 1,
   "metadata": {},
   "outputs": [],
   "source": [
    "import sys\n",
    "sys.path.append('./given_material/')\n",
    "import numpy as np\n",
    "from numpy import matlib\n",
    "from scipy import sparse \n",
    "#np.set_printoptions(threshold=np.inf) # print all entries\n",
    "import mlext as me"
   ]
  },
  {
   "cell_type": "markdown",
   "metadata": {},
   "source": [
    "### Exercise 2"
   ]
  },
  {
   "cell_type": "code",
   "execution_count": 11,
   "metadata": {},
   "outputs": [
    {
     "name": "stdout",
     "output_type": "stream",
     "text": [
      "[1 3 6 8 2 7 2]\n"
     ]
    }
   ],
   "source": [
    "k = 10\n",
    "n = 7\n",
    "V = np.random.randint(1, k, n)\n",
    "print(V)"
   ]
  },
  {
   "cell_type": "code",
   "execution_count": 23,
   "metadata": {},
   "outputs": [],
   "source": [
    "### a ###\n",
    "def count_occurances(k, V):\n",
    "    C = np.unique(V, return_counts=True)\n",
    "    return me.accumarray(C[0]-1, C[1], sz=k, fillval=0).astype(int)"
   ]
  },
  {
   "cell_type": "code",
   "execution_count": 24,
   "metadata": {},
   "outputs": [
    {
     "data": {
      "text/plain": [
       "array([1, 2, 1, 0, 0, 1, 1, 1, 0, 0])"
      ]
     },
     "execution_count": 24,
     "metadata": {},
     "output_type": "execute_result"
    }
   ],
   "source": [
    "count_occurances(10, V)"
   ]
  },
  {
   "cell_type": "code",
   "execution_count": 55,
   "metadata": {},
   "outputs": [],
   "source": [
    "### b ###\n",
    "def first_occ_index(k, V):\n",
    "    C = np.unique(V,return_index=True)\n",
    "    return me.accumarray(C[0]-1, C[1]+1, sz=k, fillval=0).astype(int)"
   ]
  },
  {
   "cell_type": "code",
   "execution_count": 56,
   "metadata": {},
   "outputs": [
    {
     "data": {
      "text/plain": [
       "array([1, 5, 2, 0, 0, 3, 6, 4, 0, 0])"
      ]
     },
     "execution_count": 56,
     "metadata": {},
     "output_type": "execute_result"
    }
   ],
   "source": [
    "first_occ_index(k, V)"
   ]
  },
  {
   "cell_type": "markdown",
   "metadata": {},
   "source": [
    "### Exercise 3"
   ]
  },
  {
   "cell_type": "code",
   "execution_count": 7,
   "metadata": {},
   "outputs": [
    {
     "name": "stdout",
     "output_type": "stream",
     "text": [
      "[1 0 1 0 1 0]\n"
     ]
    }
   ],
   "source": [
    "v = np.zeros(6, dtype=np.int32)\n",
    "v[[0,2,4,2,0]] = v[[0,2,4,2,0]] + 1 \n",
    "print(v)"
   ]
  },
  {
   "cell_type": "markdown",
   "metadata": {},
   "source": [
    "[2,0,2,0,1,0] would also have been possible. As indices 0 and 2 occur twice in the indexing of $\\vec{v}$"
   ]
  },
  {
   "cell_type": "markdown",
   "metadata": {},
   "source": [
    "### Exercise 4"
   ]
  },
  {
   "cell_type": "code",
   "execution_count": 8,
   "metadata": {},
   "outputs": [],
   "source": [
    "v = np.array([1,4,4,3,2,0,1.5,1,4,3])"
   ]
  },
  {
   "cell_type": "code",
   "execution_count": 81,
   "metadata": {},
   "outputs": [],
   "source": [
    "### a ###\n",
    "v[[3,6,8]] = [8,7,-7]"
   ]
  },
  {
   "cell_type": "code",
   "execution_count": 86,
   "metadata": {},
   "outputs": [],
   "source": [
    "### b ###\n",
    "v[3:6] = [8,7,-7]"
   ]
  },
  {
   "cell_type": "code",
   "execution_count": 88,
   "metadata": {},
   "outputs": [],
   "source": [
    "### c ###\n",
    "v[v==4] = -7"
   ]
  },
  {
   "cell_type": "code",
   "execution_count": 9,
   "metadata": {},
   "outputs": [
    {
     "data": {
      "text/plain": [
       "array([0, 0, 0, 1, 1, 0, 0, 0, 0, 1])"
      ]
     },
     "execution_count": 9,
     "metadata": {},
     "output_type": "execute_result"
    }
   ],
   "source": [
    "### d ###\n",
    "np.logical_and(v < 4, v >= 2).astype(int)"
   ]
  },
  {
   "cell_type": "code",
   "execution_count": 10,
   "metadata": {},
   "outputs": [
    {
     "data": {
      "text/plain": [
       "array([3, 4, 9])"
      ]
     },
     "execution_count": 10,
     "metadata": {},
     "output_type": "execute_result"
    }
   ],
   "source": [
    "### e ###\n",
    "np.nonzero(np.logical_and(v < 4, v >= 2))[0]"
   ]
  },
  {
   "cell_type": "code",
   "execution_count": 126,
   "metadata": {},
   "outputs": [
    {
     "data": {
      "text/plain": [
       "3"
      ]
     },
     "execution_count": 126,
     "metadata": {},
     "output_type": "execute_result"
    }
   ],
   "source": [
    "### f ###\n",
    "np.count_nonzero(v == 4)"
   ]
  },
  {
   "cell_type": "code",
   "execution_count": 127,
   "metadata": {},
   "outputs": [
    {
     "data": {
      "text/plain": [
       "array([1. , 4. , 3. , 2. , 1.5, 4. , 3. ])"
      ]
     },
     "execution_count": 127,
     "metadata": {},
     "output_type": "execute_result"
    }
   ],
   "source": [
    "### g ###\n",
    "np.delete(v, [2,5,7])"
   ]
  },
  {
   "cell_type": "code",
   "execution_count": 130,
   "metadata": {},
   "outputs": [
    {
     "data": {
      "text/plain": [
       "array([1. , 4. , 4. , 3. , 2. , 1.5, 1. , 4. , 3. ])"
      ]
     },
     "execution_count": 130,
     "metadata": {},
     "output_type": "execute_result"
    }
   ],
   "source": [
    "### h ###\n",
    "v[np.nonzero(v)[0]]"
   ]
  },
  {
   "cell_type": "code",
   "execution_count": 131,
   "metadata": {},
   "outputs": [
    {
     "data": {
      "text/plain": [
       "9"
      ]
     },
     "execution_count": 131,
     "metadata": {},
     "output_type": "execute_result"
    }
   ],
   "source": [
    "### i ###\n",
    "np.count_nonzero(v)"
   ]
  },
  {
   "cell_type": "markdown",
   "metadata": {},
   "source": [
    "### Exercise 5"
   ]
  },
  {
   "cell_type": "code",
   "execution_count": 42,
   "metadata": {},
   "outputs": [],
   "source": [
    "I = [8, 6, 3, 6, 8, 9]; J = [3, 8, 7]"
   ]
  },
  {
   "cell_type": "code",
   "execution_count": 48,
   "metadata": {},
   "outputs": [],
   "source": [
    "### a ###\n",
    "\n",
    "S = count_occurances(10, I)\n",
    "T = count_occurances(10, J)\n",
    "\n",
    "A = np.logical_and( (S > 0), (T == 0) )\n",
    "np.nonzero(A)[0] + 1"
   ]
  },
  {
   "cell_type": "code",
   "execution_count": 86,
   "metadata": {},
   "outputs": [],
   "source": [
    "### b ###\n"
   ]
  },
  {
   "cell_type": "markdown",
   "metadata": {},
   "source": [
    "### Exercise 6"
   ]
  },
  {
   "cell_type": "code",
   "execution_count": 65,
   "metadata": {},
   "outputs": [
    {
     "data": {
      "text/plain": [
       "3"
      ]
     },
     "execution_count": 65,
     "metadata": {},
     "output_type": "execute_result"
    }
   ],
   "source": [
    "### a ###\n",
    "v = np.random.randint(1,10,10**7)\n",
    "np.argmin(v)"
   ]
  },
  {
   "cell_type": "code",
   "execution_count": 67,
   "metadata": {},
   "outputs": [
    {
     "data": {
      "text/plain": [
       "array([      3,      21,      43, ..., 9999988, 9999989, 9999994])"
      ]
     },
     "execution_count": 67,
     "metadata": {},
     "output_type": "execute_result"
    }
   ],
   "source": [
    "### b ###\n",
    "np.where(v == np.min(v))[0]"
   ]
  },
  {
   "cell_type": "code",
   "execution_count": 68,
   "metadata": {},
   "outputs": [
    {
     "data": {
      "text/plain": [
       "array([1111417, 1110267, 1111253, 1110054, 1110814, 1111341, 1110380,\n",
       "       1111631, 1112843])"
      ]
     },
     "execution_count": 68,
     "metadata": {},
     "output_type": "execute_result"
    }
   ],
   "source": [
    "### c ###\n",
    "count_occurances(9, v)"
   ]
  },
  {
   "cell_type": "markdown",
   "metadata": {},
   "source": [
    "### Exercise 7"
   ]
  },
  {
   "cell_type": "code",
   "execution_count": 19,
   "metadata": {},
   "outputs": [],
   "source": [
    "n = 8\n",
    "A = matlib.repmat(np.arange(1,n+1), 8,1)"
   ]
  },
  {
   "cell_type": "code",
   "execution_count": 20,
   "metadata": {},
   "outputs": [
    {
     "name": "stdout",
     "output_type": "stream",
     "text": [
      "[[1 2 3 4 5 6 7 8]\n",
      " [1 2 3 4 5 6 7 8]\n",
      " [1 2 3 4 5 6 7 8]\n",
      " [1 2 3 4 5 6 7 8]\n",
      " [1 2 3 4 5 6 7 8]\n",
      " [1 2 3 4 5 6 7 8]\n",
      " [1 2 3 4 5 6 7 8]\n",
      " [1 2 3 4 5 6 7 8]]\n"
     ]
    }
   ],
   "source": [
    "print(A)"
   ]
  },
  {
   "cell_type": "markdown",
   "metadata": {},
   "source": [
    "### Exercise 8"
   ]
  },
  {
   "cell_type": "code",
   "execution_count": 90,
   "metadata": {},
   "outputs": [],
   "source": [
    "A = me.magic(8)"
   ]
  },
  {
   "cell_type": "code",
   "execution_count": 91,
   "metadata": {},
   "outputs": [
    {
     "name": "stdout",
     "output_type": "stream",
     "text": [
      "[[64  2  3 61 60  6  7 57]\n",
      " [ 9 55 54 12 13 51 50 16]\n",
      " [17 47 46 20 21 43 42 24]\n",
      " [40 26 27 37 36 30 31 33]\n",
      " [32 34 35 29 28 38 39 25]\n",
      " [41 23 22 44 45 19 18 48]\n",
      " [49 15 14 52 53 11 10 56]\n",
      " [ 8 58 59  5  4 62 63  1]]\n"
     ]
    }
   ],
   "source": [
    "print(A)"
   ]
  },
  {
   "cell_type": "code",
   "execution_count": 98,
   "metadata": {},
   "outputs": [
    {
     "name": "stdout",
     "output_type": "stream",
     "text": [
      "[[64  0  0 61 60  0  0 57]\n",
      " [ 0 55 54  0  0 51 50  0]\n",
      " [ 0 47 46  0  0 43 42  0]\n",
      " [40  0  0 37 36  0  0 33]\n",
      " [32 34 35  0  0 38 39  0]\n",
      " [41  0  0 44 45  0  0 48]\n",
      " [49  0  0 52 53  0  0 56]\n",
      " [ 0 58 59  0  0 62 63  0]]\n"
     ]
    }
   ],
   "source": [
    "### a ###\n",
    "def ex8a(mat):\n",
    "    mat[sparse.find(mat < 32)[:-1]] = 0\n",
    "    print(mat)\n",
    "\n",
    "ex8a(A.copy())"
   ]
  },
  {
   "cell_type": "code",
   "execution_count": 95,
   "metadata": {},
   "outputs": [
    {
     "name": "stdout",
     "output_type": "stream",
     "text": [
      "[[64  2  3 61 60  7 57]\n",
      " [ 9 55 54 12 13 50 16]\n",
      " [17 47 46 20 21 42 24]\n",
      " [40 26 27 37 36 31 33]\n",
      " [32 34 35 29 28 39 25]\n",
      " [41 23 22 44 45 18 48]\n",
      " [49 15 14 52 53 10 56]\n",
      " [ 8 58 59  5  4 63  1]]\n"
     ]
    }
   ],
   "source": [
    "### b ###\n",
    "print(np.delete(A.copy(), 5, axis=-1))"
   ]
  },
  {
   "cell_type": "code",
   "execution_count": 99,
   "metadata": {},
   "outputs": [
    {
     "name": "stdout",
     "output_type": "stream",
     "text": [
      "[[64  2  3 61 60  6  7 57]\n",
      " [ 9 55 54 12 13 51 50 16]\n",
      " [17 47 46 20 21 43 42 24]\n",
      " [40 26 27 37 36 30 31 33]\n",
      " [32 34 35 29 28 38 39 25]\n",
      " [41 23 22 44 45 19 18 48]\n",
      " [49 15 14 52 53 11 10 56]]\n"
     ]
    }
   ],
   "source": [
    "### c ###\n",
    "print(np.delete(A.copy(), -1, axis=0))"
   ]
  },
  {
   "cell_type": "code",
   "execution_count": 100,
   "metadata": {},
   "outputs": [
    {
     "name": "stdout",
     "output_type": "stream",
     "text": [
      "[[64  2  3 61 60  6  7 57]\n",
      " [ 9 55  0 12 13 51 50 16]\n",
      " [17 47 46 20 21 43 42 24]\n",
      " [40  0 27 37 36 30 31  0]\n",
      " [32 34 35 29 28 38 39 25]\n",
      " [41 23 22 44 45 19 18 48]\n",
      " [49 15 14 52  0 11 10 56]\n",
      " [ 8 58 59  5  4 62 63  1]]\n"
     ]
    }
   ],
   "source": [
    "### d ###\n",
    "def ex8d(mat, I, J):\n",
    "    A[I,J] = 0\n",
    "    return A\n",
    "\n",
    "I = [3, 1, 3, 6]\n",
    "J = [1, 2, 7, 4]\n",
    "\n",
    "print(ex8d(A.copy(), I, J))"
   ]
  },
  {
   "cell_type": "code",
   "execution_count": 101,
   "metadata": {},
   "outputs": [
    {
     "name": "stdout",
     "output_type": "stream",
     "text": [
      "[[1 0 0 0 0]\n",
      " [0 2 0 0 0]\n",
      " [0 0 3 0 0]\n",
      " [0 0 0 4 0]\n",
      " [0 0 0 0 5]]\n"
     ]
    }
   ],
   "source": [
    "### e ###\n",
    "def ex8e(n):\n",
    "    return np.diag(np.arange(1,n+1))\n",
    "\n",
    "print(ex8e(5))"
   ]
  },
  {
   "cell_type": "markdown",
   "metadata": {},
   "source": [
    "### Exercise 9"
   ]
  },
  {
   "cell_type": "code",
   "execution_count": 105,
   "metadata": {},
   "outputs": [
    {
     "name": "stdout",
     "output_type": "stream",
     "text": [
      "[[0.         0.         0.         0.         0.37189458 0.\n",
      "  0.         0.        ]\n",
      " [0.         0.         0.         0.         0.         0.\n",
      "  0.         0.        ]\n",
      " [0.71963797 0.         0.         0.         0.         0.\n",
      "  0.         0.        ]\n",
      " [0.02584222 0.         0.         0.         0.         0.\n",
      "  0.         0.        ]\n",
      " [0.         0.         0.         0.50721234 0.         0.\n",
      "  0.         0.        ]\n",
      " [0.         0.         0.         0.         0.         0.\n",
      "  0.         0.        ]\n",
      " [0.         0.9507732  0.         0.         0.79845092 0.\n",
      "  0.         0.        ]\n",
      " [0.         0.         0.         0.         0.         0.\n",
      "  0.         0.        ]]\n"
     ]
    }
   ],
   "source": [
    "np.random.seed(623827)\n",
    "n = 8; d = 0.1\n",
    "A = sparse.rand(n, n, d,format=\"csc\"); \n",
    "print(A.todense())\n"
   ]
  },
  {
   "cell_type": "code",
   "execution_count": 82,
   "metadata": {},
   "outputs": [
    {
     "data": {
      "text/plain": [
       "matrix([[ 0.,  0.,  0.,  0.,  4.,  0.,  0.,  0.],\n",
       "        [ 0.,  0.,  0.,  0.,  0.,  0.,  0.,  0.],\n",
       "        [20.,  0.,  0.,  0.,  0.,  0.,  0.,  0.],\n",
       "        [30.,  0.,  0.,  0.,  0.,  0.,  0.,  0.],\n",
       "        [ 0.,  0.,  0., 43.,  0.,  0.,  0.,  0.],\n",
       "        [ 0.,  0.,  0.,  0.,  0.,  0.,  0.,  0.],\n",
       "        [ 0., 61.,  0.,  0., 64.,  0.,  0.,  0.],\n",
       "        [ 0.,  0.,  0.,  0.,  0.,  0.,  0.,  0.]])"
      ]
     },
     "execution_count": 82,
     "metadata": {},
     "output_type": "execute_result"
    }
   ],
   "source": [
    "### a ###\n",
    "def ex9a(matrix):\n",
    "    I, J, V = sparse.find(matrix)\n",
    "    matrix[I, J] = 10*I + J\n",
    "\n",
    "    return matrix.todense()\n",
    "\n",
    "ex9a(A.copy())"
   ]
  },
  {
   "cell_type": "code",
   "execution_count": 83,
   "metadata": {},
   "outputs": [
    {
     "name": "stderr",
     "output_type": "stream",
     "text": [
      "/Users/larsschilders/opt/anaconda3/lib/python3.7/site-packages/ipykernel_launcher.py:8: SparseEfficiencyWarning: Comparing a sparse matrix with 0 using == is inefficient, try using != instead.\n",
      "  \n",
      "/Users/larsschilders/opt/anaconda3/lib/python3.7/site-packages/scipy/sparse/_index.py:126: SparseEfficiencyWarning: Changing the sparsity structure of a csc_matrix is expensive. lil_matrix is more efficient.\n",
      "  self._set_arrayXarray(i, j, x)\n"
     ]
    },
    {
     "data": {
      "text/plain": [
       "matrix([[2.        , 2.        , 2.        , 2.        , 0.37189458,\n",
       "         2.        , 2.        , 2.        ],\n",
       "        [2.        , 2.        , 2.        , 2.        , 2.        ,\n",
       "         2.        , 2.        , 2.        ],\n",
       "        [0.71963797, 2.        , 2.        , 2.        , 2.        ,\n",
       "         2.        , 2.        , 2.        ],\n",
       "        [0.02584222, 2.        , 2.        , 2.        , 2.        ,\n",
       "         2.        , 2.        , 2.        ],\n",
       "        [2.        , 2.        , 2.        , 0.50721234, 2.        ,\n",
       "         2.        , 2.        , 2.        ],\n",
       "        [2.        , 2.        , 2.        , 2.        , 2.        ,\n",
       "         2.        , 2.        , 2.        ],\n",
       "        [2.        , 0.9507732 , 2.        , 2.        , 0.79845092,\n",
       "         2.        , 2.        , 2.        ],\n",
       "        [2.        , 2.        , 2.        , 2.        , 2.        ,\n",
       "         2.        , 2.        , 2.        ]])"
      ]
     },
     "execution_count": 83,
     "metadata": {},
     "output_type": "execute_result"
    }
   ],
   "source": [
    "### b ###\n",
    "def ex9b(matrix):\n",
    "    I, J, _ = sparse.find(matrix == 0)\n",
    "    matrix[I, J] = 2\n",
    "\n",
    "    return matrix.todense()\n",
    "\n",
    "ex9b(A.copy())"
   ]
  },
  {
   "cell_type": "code",
   "execution_count": 84,
   "metadata": {},
   "outputs": [
    {
     "data": {
      "text/plain": [
       "matrix([[0., 0., 0., 0., 4., 0., 0., 0.],\n",
       "        [0., 0., 0., 0., 0., 0., 0., 0.],\n",
       "        [0., 0., 0., 0., 0., 0., 0., 0.],\n",
       "        [0., 0., 0., 0., 0., 0., 0., 0.],\n",
       "        [0., 0., 0., 3., 0., 0., 0., 0.],\n",
       "        [0., 0., 0., 0., 0., 0., 0., 0.],\n",
       "        [0., 1., 0., 0., 4., 0., 0., 0.],\n",
       "        [0., 0., 0., 0., 0., 0., 0., 0.]])"
      ]
     },
     "execution_count": 84,
     "metadata": {},
     "output_type": "execute_result"
    }
   ],
   "source": [
    "### c ###\n",
    "def ex9c(matrix):\n",
    "    I, J, V = sparse.find(matrix)\n",
    "    matrix[I, J] = J\n",
    "\n",
    "    return matrix.todense()\n",
    "\n",
    "ex9c(A.copy())"
   ]
  },
  {
   "cell_type": "code",
   "execution_count": 107,
   "metadata": {},
   "outputs": [
    {
     "data": {
      "text/plain": [
       "matrix([[0.        , 0.        , 0.        , 0.        , 0.37189458,\n",
       "         0.        , 0.        , 0.        ],\n",
       "        [0.        , 0.        , 0.        , 0.        , 0.        ,\n",
       "         0.        , 0.        , 0.        ],\n",
       "        [0.71963797, 0.        , 0.        , 0.        , 0.        ,\n",
       "         0.        , 0.        , 0.        ],\n",
       "        [0.02584222, 0.        , 0.        , 0.        , 0.        ,\n",
       "         0.        , 0.        , 0.        ],\n",
       "        [0.        , 0.        , 0.        , 0.50721234, 0.        ,\n",
       "         0.        , 0.        , 0.        ],\n",
       "        [0.        , 0.        , 0.        , 0.        , 0.        ,\n",
       "         0.        , 0.        , 0.        ],\n",
       "        [0.        , 0.9507732 , 0.        , 0.        , 0.79845092,\n",
       "         0.        , 0.        , 0.        ],\n",
       "        [0.        , 0.        , 0.        , 0.        , 0.        ,\n",
       "         0.        , 0.        , 0.        ]])"
      ]
     },
     "execution_count": 107,
     "metadata": {},
     "output_type": "execute_result"
    }
   ],
   "source": [
    "### d ###\n",
    "A.todense()"
   ]
  },
  {
   "cell_type": "code",
   "execution_count": 116,
   "metadata": {},
   "outputs": [
    {
     "data": {
      "text/plain": [
       "(array([2, 3, 6, 4, 0, 6], dtype=int32),\n",
       " array([0, 0, 1, 3, 4, 4], dtype=int32),\n",
       " array([0.71963797, 0.02584222, 0.9507732 , 0.50721234, 0.37189458,\n",
       "        0.79845092]))"
      ]
     },
     "execution_count": 116,
     "metadata": {},
     "output_type": "execute_result"
    }
   ],
   "source": [
    "sparse.find(A)"
   ]
  },
  {
   "cell_type": "markdown",
   "metadata": {},
   "source": [
    "### Exercise 10"
   ]
  },
  {
   "cell_type": "code",
   "execution_count": 214,
   "metadata": {},
   "outputs": [
    {
     "name": "stdout",
     "output_type": "stream",
     "text": [
      "[[10  2]\n",
      " [ 5  1]\n",
      " [ 1  2]\n",
      " [ 2  2]\n",
      " [12  3]\n",
      " [13  1]\n",
      " [10  2]]\n"
     ]
    },
    {
     "data": {
      "text/plain": [
       "array([[12,  3],\n",
       "       [13,  1],\n",
       "       [10,  2]])"
      ]
     },
     "execution_count": 214,
     "metadata": {},
     "output_type": "execute_result"
    }
   ],
   "source": [
    "n = 7\n",
    "np.random.seed(10)\n",
    "suit, rank = np.random.randint(1, 14, size=n), np.random.randint(1, 5, size=n)\n",
    "\n",
    "H = np.array(list(zip(suit,rank, np.arange(n))))\n",
    "print(np.delete(H,2,axis=1))\n",
    "\n",
    "H_sorted_on_rank = H[np.argsort(H[:,0])[::-1]]\n",
    "# print(H_sorted_on_rank)\n",
    "H_highest_rank_per_suit = H_sorted_on_rank[np.unique(H_sorted_on_rank[:,1], return_index=True)[1]]\n",
    "sorted_answer = H_highest_rank_per_suit[np.argsort(H_highest_rank_per_suit[:,2])]\n",
    "np.delete(sorted_answer,2, axis=1)"
   ]
  },
  {
   "cell_type": "code",
   "execution_count": null,
   "metadata": {},
   "outputs": [],
   "source": []
  }
 ],
 "metadata": {
  "kernelspec": {
   "display_name": "Python 3",
   "language": "python",
   "name": "python3"
  },
  "language_info": {
   "codemirror_mode": {
    "name": "ipython",
    "version": 3
   },
   "file_extension": ".py",
   "mimetype": "text/x-python",
   "name": "python",
   "nbconvert_exporter": "python",
   "pygments_lexer": "ipython3",
   "version": "3.7.4"
  }
 },
 "nbformat": 4,
 "nbformat_minor": 4
}
