{
 "cells": [
  {
   "cell_type": "markdown",
   "metadata": {},
   "source": [
    "# Matrices\n",
    "\n",
    "## 143. Example matrix creation"
   ]
  },
  {
   "cell_type": "code",
   "execution_count": 1,
   "metadata": {
    "pycharm": {
     "name": "#%%\n"
    }
   },
   "outputs": [
    {
     "data": {
      "text/plain": [
       "[[1, 2, 3], [4, 5, 6], [7, 8, 9]]"
      ]
     },
     "execution_count": 1,
     "metadata": {},
     "output_type": "execute_result"
    }
   ],
   "source": [
    "M = [[1, 2, 3], [4, 5, 6], [7, 8, 9]]\n",
    "M"
   ]
  },
  {
   "cell_type": "markdown",
   "metadata": {},
   "source": [
    "A numpy array/matrix is created by passing in a python array/matrix.\n",
    "According to the numpy documentation, don't use the `np.matrix()`, but use regular numpy arrays to create a matrix:\n",
    "\n",
    "> It is no longer recommended to use this class, even for linear algebra. Instead use regular arrays. The class may be removed in the future.\n",
    "\n",
    "When passing in an array, both `(...)` and `[...]` are valid syntax."
   ]
  },
  {
   "cell_type": "code",
   "execution_count": 2,
   "metadata": {
    "lines_to_next_cell": 2,
    "pycharm": {
     "name": "#%%\n"
    }
   },
   "outputs": [
    {
     "data": {
      "text/plain": [
       "array([[1, 2, 3],\n",
       "       [4, 5, 6],\n",
       "       [7, 8, 9]])"
      ]
     },
     "execution_count": 2,
     "metadata": {},
     "output_type": "execute_result"
    }
   ],
   "source": [
    "import numpy as np\n",
    "np.array(M)"
   ]
  },
  {
   "cell_type": "code",
   "execution_count": 3,
   "metadata": {
    "pycharm": {
     "name": "#%%\n"
    }
   },
   "outputs": [
    {
     "data": {
      "text/plain": [
       "array([[1, 2, 3],\n",
       "       [4, 5, 6]])"
      ]
     },
     "execution_count": 3,
     "metadata": {},
     "output_type": "execute_result"
    }
   ],
   "source": [
    "np.array(((1, 2, 3), (4, 5, 6)))"
   ]
  },
  {
   "cell_type": "markdown",
   "metadata": {},
   "source": [
    "To create a matrix from columns, use one of the following:"
   ]
  },
  {
   "cell_type": "code",
   "execution_count": 4,
   "metadata": {
    "pycharm": {
     "name": "#%%\n"
    }
   },
   "outputs": [
    {
     "data": {
      "text/plain": [
       "array([[1, 2, 3],\n",
       "       [4, 5, 6],\n",
       "       [7, 8, 9]])"
      ]
     },
     "execution_count": 4,
     "metadata": {},
     "output_type": "execute_result"
    }
   ],
   "source": [
    "columns = [[1, 4, 7], [2, 5, 8], [3, 6, 9]]\n",
    "np.array([[1, 4, 7], [2, 5, 8], [3, 6, 9]]).transpose()"
   ]
  },
  {
   "cell_type": "code",
   "execution_count": 5,
   "metadata": {
    "pycharm": {
     "name": "#%%\n"
    }
   },
   "outputs": [
    {
     "data": {
      "text/plain": [
       "array([[1, 2, 3],\n",
       "       [4, 5, 6],\n",
       "       [7, 8, 9]])"
      ]
     },
     "execution_count": 5,
     "metadata": {},
     "output_type": "execute_result"
    }
   ],
   "source": [
    "np.column_stack([[1, 4, 7], [2, 5, 8], [3, 6, 9]])"
   ]
  },
  {
   "cell_type": "markdown",
   "metadata": {},
   "source": [
    "## 145. Example matrix composition\n",
    "\n",
    "Append columns: see above.\n",
    "Append rows:"
   ]
  },
  {
   "cell_type": "code",
   "execution_count": 6,
   "metadata": {
    "pycharm": {
     "name": "#%%\n"
    }
   },
   "outputs": [
    {
     "data": {
      "text/plain": [
       "array([[1, 2, 4],\n",
       "       [5, 4, 3]])"
      ]
     },
     "execution_count": 6,
     "metadata": {},
     "output_type": "execute_result"
    }
   ],
   "source": [
    "np.stack(([1, 2, 4], [5, 4, 3]))"
   ]
  },
  {
   "cell_type": "markdown",
   "metadata": {},
   "source": [
    "To actually concatenate matrices, use `np.concatenate()` with the appropriate axis (0 for rows, 1 for columns)."
   ]
  },
  {
   "cell_type": "code",
   "execution_count": 7,
   "metadata": {
    "pycharm": {
     "name": "#%%\n"
    }
   },
   "outputs": [
    {
     "data": {
      "text/plain": [
       "array([[1, 2, 3],\n",
       "       [4, 5, 6],\n",
       "       [7, 8, 9],\n",
       "       [1, 4, 7],\n",
       "       [2, 5, 8],\n",
       "       [3, 6, 9]])"
      ]
     },
     "execution_count": 7,
     "metadata": {},
     "output_type": "execute_result"
    }
   ],
   "source": [
    "A = np.array(M)\n",
    "B = np.array(M).transpose()\n",
    "\n",
    "np.concatenate((A, B), axis=0)  # concatenate rows (default)"
   ]
  },
  {
   "cell_type": "code",
   "execution_count": 8,
   "metadata": {
    "pycharm": {
     "name": "#%%\n"
    }
   },
   "outputs": [
    {
     "data": {
      "text/plain": [
       "array([[1, 2, 3, 1, 4, 7],\n",
       "       [4, 5, 6, 2, 5, 8],\n",
       "       [7, 8, 9, 3, 6, 9]])"
      ]
     },
     "execution_count": 8,
     "metadata": {},
     "output_type": "execute_result"
    }
   ],
   "source": [
    "np.concatenate((A, B), axis=1)  # concatenate columns"
   ]
  },
  {
   "cell_type": "markdown",
   "metadata": {},
   "source": [
    "## 148. Diagonal part remark\n",
    "\n",
    "`np.diag(A)` behaves similar to MATLABs `diag(A)`:"
   ]
  },
  {
   "cell_type": "code",
   "execution_count": 9,
   "metadata": {
    "pycharm": {
     "name": "#%%\n"
    }
   },
   "outputs": [
    {
     "data": {
      "text/plain": [
       "array([[0.71169382, 0.16368106, 0.24755917],\n",
       "       [0.5137922 , 0.5798803 , 0.62360335],\n",
       "       [0.17089954, 0.52363781, 0.41869508]])"
      ]
     },
     "execution_count": 9,
     "metadata": {},
     "output_type": "execute_result"
    }
   ],
   "source": [
    "A = np.random.random((3,3))\n",
    "A"
   ]
  },
  {
   "cell_type": "code",
   "execution_count": 10,
   "metadata": {
    "pycharm": {
     "name": "#%%\n"
    }
   },
   "outputs": [
    {
     "data": {
      "text/plain": [
       "array([0.71169382, 0.5798803 , 0.41869508])"
      ]
     },
     "execution_count": 10,
     "metadata": {},
     "output_type": "execute_result"
    }
   ],
   "source": [
    "np.diag(A)"
   ]
  },
  {
   "cell_type": "markdown",
   "metadata": {},
   "source": [
    "## 160. Layout\n",
    "\n",
    "Interesting read in the numpy documentation about [multidimensional array indexing order issues](https://numpy.org/doc/stable/reference/internals.html#multidimensional-array-indexing-order-issues).\n",
    "The takeaway from this is that numpy offers both a row- and column-major order (row-major order denoted by C, column-major order denoted by F (for FORTRAN)).\n",
    "The default is to use row-major order, watch out when going for a column-major approach (see the last paragraph).\n",
    "\n",
    "Note: MATLAB uses column-major order (like FORTRAN). Thus the complexity table refers to the Python numpy column-major order."
   ]
  },
  {
   "cell_type": "code",
   "execution_count": 14,
   "metadata": {
    "pycharm": {
     "name": "#%%\n"
    }
   },
   "outputs": [],
   "source": [
    "A = np.array(M, order='C')"
   ]
  },
  {
   "cell_type": "code",
   "execution_count": 15,
   "metadata": {
    "pycharm": {
     "name": "#%%\n"
    }
   },
   "outputs": [],
   "source": [
    "B = np.array(M, order='F')"
   ]
  },
  {
   "cell_type": "markdown",
   "metadata": {
    "pycharm": {
     "name": "#%% md\n"
    }
   },
   "source": [
    "## 166. Complexity\n",
    "\n",
    "According to [this answer](https://stackoverflow.com/a/52208910/6629569) on SO (stack overflow) to the question if there exists a table of time complexity of numpy operations (as we have on the slides):\n",
    "\n",
    "> BigO complexity is not often used with Python and numpy.\n",
    "> It's a measure of how the code scales with problem size.\n",
    "> That's useful in a compiled language like C.\n",
    "> But here the code is a mix of interpreted Python and compiled code.\n",
    "> Both can have the same bigO, but the interpreted version will be orders of magnitude slower.\n",
    "> That's why most of the SO questions about improving numpy speed, talk about 'removing loops' and 'vectorizing'.\n",
    "\n",
    "I suppose the table will be similar, but my guess is that it might not make much sense, other than that (obviously) operations on matrices are slower than operations on vectors.\n",
    "There seems to be no significant difference between speed in column selection and row selection:"
   ]
  },
  {
   "cell_type": "code",
   "execution_count": 18,
   "metadata": {
    "pycharm": {
     "name": "#%%\n"
    }
   },
   "outputs": [
    {
     "name": "stdout",
     "output_type": "stream",
     "text": [
      "0.018729271999973207\n",
      "0.18228781100003744\n"
     ]
    }
   ],
   "source": [
    "from timeit import repeat\n",
    "\n",
    "for i in [1000, 10000]:\n",
    "    n = int(i)\n",
    "    print(min(repeat(\n",
    "        \"for j in range(len(A)): A[:,j]\",\n",
    "        setup=f\"import numpy as np; A = np.random.randint(1, 9, ({n}, {n}))\",\n",
    "        repeat=3,\n",
    "        number=100\n",
    "    )))"
   ]
  },
  {
   "cell_type": "code",
   "execution_count": 20,
   "metadata": {
    "pycharm": {
     "name": "#%%\n"
    }
   },
   "outputs": [
    {
     "name": "stdout",
     "output_type": "stream",
     "text": [
      "0.018654706000006627\n",
      "0.18862914600003933\n"
     ]
    }
   ],
   "source": [
    "for i in [1000, 10000]:\n",
    "    n = int(i)\n",
    "    print(min(repeat(\n",
    "        \"for j in range(len(B)): B[j,:]\",\n",
    "        setup=f\"import numpy as np; B = np.random.randint(1, 9, ({n}, {n}))\",\n",
    "        repeat=3,\n",
    "        number=100\n",
    "    )))"
   ]
  },
  {
   "cell_type": "markdown",
   "metadata": {
    "pycharm": {
     "name": "#%% md\n"
    }
   },
   "source": [
    "## 159. Random numbers"
   ]
  },
  {
   "cell_type": "code",
   "execution_count": 21,
   "metadata": {
    "pycharm": {
     "name": "#%%\n"
    }
   },
   "outputs": [
    {
     "data": {
      "text/plain": [
       "array([], dtype=float64)"
      ]
     },
     "execution_count": 21,
     "metadata": {},
     "output_type": "execute_result"
    }
   ],
   "source": [
    "np.array([])"
   ]
  },
  {
   "cell_type": "code",
   "execution_count": 22,
   "metadata": {
    "pycharm": {
     "name": "#%%\n"
    }
   },
   "outputs": [
    {
     "data": {
      "text/plain": [
       "array([[6, 6, 1, 3, 6, 2, 1, 1],\n",
       "       [1, 1, 5, 5, 3, 1, 1, 7],\n",
       "       [3, 4, 1, 3, 5, 5, 5, 2],\n",
       "       [4, 6, 3, 6, 4, 3, 3, 4],\n",
       "       [2, 6, 4, 4, 2, 2, 1, 4],\n",
       "       [5, 2, 6, 4, 1, 4, 4, 3],\n",
       "       [3, 1, 6, 2, 3, 3, 3, 6],\n",
       "       [5, 4, 3, 5, 4, 4, 3, 2]])"
      ]
     },
     "execution_count": 22,
     "metadata": {},
     "output_type": "execute_result"
    }
   ],
   "source": [
    "np.random.randint(1, 8, (8,8))"
   ]
  },
  {
   "cell_type": "code",
   "execution_count": 23,
   "metadata": {
    "pycharm": {
     "name": "#%%\n"
    }
   },
   "outputs": [
    {
     "data": {
      "text/plain": [
       "array([[0.45764892, 0.01596371, 0.43768702, 0.03080297, 0.57967638,\n",
       "        0.31478103, 0.60930224, 0.68765955],\n",
       "       [0.73147041, 0.54110168, 0.92752292, 0.3673118 , 0.97355051,\n",
       "        0.8620122 , 0.67173983, 0.79422224],\n",
       "       [0.38961624, 0.67202733, 0.58983842, 0.27396383, 0.70866229,\n",
       "        0.5865223 , 0.75231253, 0.75124151],\n",
       "       [0.74191611, 0.41274275, 0.95133227, 0.3988309 , 0.73536004,\n",
       "        0.47631841, 0.01097888, 0.84469128],\n",
       "       [0.97010637, 0.37638748, 0.91091484, 0.53770709, 0.05751691,\n",
       "        0.74017068, 0.27023999, 0.10923205],\n",
       "       [0.56992165, 0.78675951, 0.002028  , 0.57385803, 0.6791502 ,\n",
       "        0.48162286, 0.8411864 , 0.51041573],\n",
       "       [0.92780935, 0.04729101, 0.06150038, 0.77924747, 0.82069841,\n",
       "        0.04132609, 0.86253867, 0.38113331],\n",
       "       [0.39846692, 0.70887455, 0.19480623, 0.23204985, 0.15192304,\n",
       "        0.10599748, 0.95848786, 0.52147968]])"
      ]
     },
     "execution_count": 23,
     "metadata": {},
     "output_type": "execute_result"
    }
   ],
   "source": [
    "np.random.rand(8*8).reshape((8,8))"
   ]
  },
  {
   "cell_type": "code",
   "execution_count": 24,
   "metadata": {
    "pycharm": {
     "name": "#%%\n"
    }
   },
   "outputs": [
    {
     "data": {
      "text/plain": [
       "array([[0.08301154, 0.34723501, 0.40351129, 0.90763419, 0.17213234,\n",
       "        0.61291368, 0.04454096, 0.50608997],\n",
       "       [0.95935704, 0.56255313, 0.67209712, 0.83249478, 0.61537527,\n",
       "        0.73521679, 0.65564831, 0.41767543],\n",
       "       [0.44223714, 0.37755384, 0.23517513, 0.79199983, 0.76093577,\n",
       "        0.91287696, 0.61001938, 0.45133945],\n",
       "       [0.86810184, 0.55137194, 0.37634565, 0.8063799 , 0.61457813,\n",
       "        0.96724817, 0.26658466, 0.1855013 ],\n",
       "       [0.55094266, 0.09946192, 0.91029717, 0.26219546, 0.26135454,\n",
       "        0.52077223, 0.80092531, 0.60387695],\n",
       "       [0.57873942, 0.57058425, 0.53732949, 0.50503665, 0.34692412,\n",
       "        0.27672246, 0.03493322, 0.01410724],\n",
       "       [0.98010987, 0.21695881, 0.73367894, 0.01322263, 0.87546501,\n",
       "        0.73988351, 0.44524573, 0.15062191],\n",
       "       [0.46159342, 0.13064638, 0.66807754, 0.60441932, 0.39605348,\n",
       "        0.50238504, 0.65243169, 0.61069863]])"
      ]
     },
     "execution_count": 24,
     "metadata": {},
     "output_type": "execute_result"
    }
   ],
   "source": [
    "np.random.random((8,8))"
   ]
  },
  {
   "cell_type": "code",
   "execution_count": 25,
   "metadata": {
    "pycharm": {
     "name": "#%%\n"
    }
   },
   "outputs": [
    {
     "data": {
      "text/plain": [
       "array([[0, 1, 1, 0, 1, 4, 0, 0],\n",
       "       [0, 0, 1, 0, 1, 0, 0, 1],\n",
       "       [1, 0, 0, 1, 1, 0, 0, 0],\n",
       "       [1, 1, 2, 0, 1, 1, 0, 0],\n",
       "       [2, 0, 1, 0, 1, 1, 1, 0],\n",
       "       [1, 0, 2, 0, 0, 0, 1, 0],\n",
       "       [1, 2, 0, 2, 0, 2, 0, 0],\n",
       "       [1, 2, 0, 0, 0, 0, 0, 1]])"
      ]
     },
     "execution_count": 25,
     "metadata": {},
     "output_type": "execute_result"
    }
   ],
   "source": [
    "np.random.poisson(0.7, (8,8))"
   ]
  },
  {
   "cell_type": "markdown",
   "metadata": {
    "pycharm": {
     "name": "#%% md\n"
    }
   },
   "source": [
    "## 171. Visualization"
   ]
  },
  {
   "cell_type": "code",
   "execution_count": 26,
   "metadata": {
    "pycharm": {
     "name": "#%%\n"
    }
   },
   "outputs": [
    {
     "data": {
      "text/plain": [
       "<matplotlib.image.AxesImage at 0x7f89e108c198>"
      ]
     },
     "execution_count": 26,
     "metadata": {},
     "output_type": "execute_result"
    },
    {
     "data": {
      "image/png": "[encoded data removed]",
      "text/plain": [
       "<Figure size 288x288 with 1 Axes>"
      ]
     },
     "metadata": {
      "image/png": {
       "height": 257,
       "width": 251
      },
      "needs_background": "light"
     },
     "output_type": "display_data"
    }
   ],
   "source": [
    "import matplotlib.pyplot as plt\n",
    "\n",
    "n = 10\n",
    "A = np.random.random((n,n))\n",
    "\n",
    "plt.matshow(A)"
   ]
  },
  {
   "cell_type": "markdown",
   "metadata": {
    "pycharm": {
     "name": "#%% md\n"
    }
   },
   "source": [
    "## 172. Comparison (example)"
   ]
  },
  {
   "cell_type": "code",
   "execution_count": 27,
   "metadata": {
    "pycharm": {
     "name": "#%%\n"
    }
   },
   "outputs": [
    {
     "data": {
      "text/plain": [
       "3.0"
      ]
     },
     "execution_count": 27,
     "metadata": {},
     "output_type": "execute_result"
    }
   ],
   "source": [
    "A = np.zeros((3,3))\n",
    "B = np.ones((3,3))\n",
    "np.linalg.norm(A - B, np.inf)"
   ]
  },
  {
   "cell_type": "markdown",
   "metadata": {
    "pycharm": {
     "name": "#%% md\n"
    }
   },
   "source": [
    "## 173-174. Read/write (elements and columns)"
   ]
  },
  {
   "cell_type": "code",
   "execution_count": 28,
   "metadata": {
    "pycharm": {
     "name": "#%%\n"
    }
   },
   "outputs": [
    {
     "data": {
      "text/plain": [
       "array([[3, 5, 1],\n",
       "       [1, 0, 5],\n",
       "       [2, 7, 2]])"
      ]
     },
     "execution_count": 28,
     "metadata": {},
     "output_type": "execute_result"
    }
   ],
   "source": [
    "A = np.random.randint(0, 9, (3,3))\n",
    "A"
   ]
  },
  {
   "cell_type": "markdown",
   "metadata": {
    "pycharm": {
     "name": "#%% md\n"
    }
   },
   "source": [
    "Read entry"
   ]
  },
  {
   "cell_type": "code",
   "execution_count": 29,
   "metadata": {
    "pycharm": {
     "name": "#%%\n"
    }
   },
   "outputs": [
    {
     "data": {
      "text/plain": [
       "5"
      ]
     },
     "execution_count": 29,
     "metadata": {},
     "output_type": "execute_result"
    }
   ],
   "source": [
    "A[1, 2]"
   ]
  },
  {
   "cell_type": "markdown",
   "metadata": {
    "pycharm": {
     "name": "#%% md\n"
    }
   },
   "source": [
    "Write entry"
   ]
  },
  {
   "cell_type": "code",
   "execution_count": 30,
   "metadata": {
    "pycharm": {
     "name": "#%%\n"
    }
   },
   "outputs": [
    {
     "data": {
      "text/plain": [
       "array([[3, 5, 1],\n",
       "       [1, 0, 0],\n",
       "       [2, 7, 2]])"
      ]
     },
     "execution_count": 30,
     "metadata": {},
     "output_type": "execute_result"
    }
   ],
   "source": [
    "A[1, 2] = 0\n",
    "A"
   ]
  },
  {
   "cell_type": "markdown",
   "metadata": {
    "pycharm": {
     "name": "#%% md\n"
    }
   },
   "source": [
    "Read/write column"
   ]
  },
  {
   "cell_type": "code",
   "execution_count": 31,
   "metadata": {
    "pycharm": {
     "name": "#%%\n"
    }
   },
   "outputs": [
    {
     "data": {
      "text/plain": [
       "array([[3, 0, 1],\n",
       "       [1, 1, 0],\n",
       "       [2, 2, 2]])"
      ]
     },
     "execution_count": 31,
     "metadata": {},
     "output_type": "execute_result"
    }
   ],
   "source": [
    "A[:, 1] = [0, 1, 2]\n",
    "A"
   ]
  },
  {
   "cell_type": "markdown",
   "metadata": {
    "pycharm": {
     "name": "#%% md\n"
    }
   },
   "source": [
    "Read/write row"
   ]
  },
  {
   "cell_type": "code",
   "execution_count": 32,
   "metadata": {
    "pycharm": {
     "name": "#%%\n"
    }
   },
   "outputs": [
    {
     "data": {
      "text/plain": [
       "array([[ 3,  0,  1],\n",
       "       [11, 12, 13],\n",
       "       [ 2,  2,  2]])"
      ]
     },
     "execution_count": 32,
     "metadata": {},
     "output_type": "execute_result"
    }
   ],
   "source": [
    "A[1, :] = [11, 12, 13]\n",
    "A"
   ]
  },
  {
   "cell_type": "markdown",
   "metadata": {
    "pycharm": {
     "name": "#%% md\n"
    }
   },
   "source": [
    "## 175-176. Entry read/write blocks"
   ]
  },
  {
   "cell_type": "code",
   "execution_count": 33,
   "metadata": {
    "pycharm": {
     "name": "#%%\n"
    }
   },
   "outputs": [
    {
     "data": {
      "text/plain": [
       "array([[11, 12, 13],\n",
       "       [ 2,  2,  2]])"
      ]
     },
     "execution_count": 33,
     "metadata": {},
     "output_type": "execute_result"
    }
   ],
   "source": [
    "A[[1,2]]"
   ]
  },
  {
   "cell_type": "code",
   "execution_count": 34,
   "metadata": {
    "pycharm": {
     "name": "#%%\n"
    }
   },
   "outputs": [
    {
     "data": {
      "text/plain": [
       "array([[11, 12, 13],\n",
       "       [ 2,  2,  2]])"
      ]
     },
     "execution_count": 34,
     "metadata": {},
     "output_type": "execute_result"
    }
   ],
   "source": [
    "A[[1,2], :]"
   ]
  },
  {
   "cell_type": "markdown",
   "metadata": {
    "pycharm": {
     "name": "#%% md\n"
    }
   },
   "source": [
    "To obtain a submatrix, use slicing:"
   ]
  },
  {
   "cell_type": "code",
   "execution_count": 35,
   "metadata": {
    "pycharm": {
     "name": "#%%\n"
    }
   },
   "outputs": [
    {
     "data": {
      "text/plain": [
       "array([[12, 13],\n",
       "       [ 2,  2]])"
      ]
     },
     "execution_count": 35,
     "metadata": {},
     "output_type": "execute_result"
    }
   ],
   "source": [
    "A[1:, 1:]"
   ]
  },
  {
   "cell_type": "markdown",
   "metadata": {
    "pycharm": {
     "name": "#%% md\n"
    }
   },
   "source": [
    "Note that the right index in a slice is exclusive:"
   ]
  },
  {
   "cell_type": "code",
   "execution_count": 36,
   "metadata": {
    "pycharm": {
     "name": "#%%\n"
    }
   },
   "outputs": [
    {
     "data": {
      "text/plain": [
       "array([[5, 2, 2, 6],\n",
       "       [4, 2, 8, 2],\n",
       "       [7, 3, 3, 5],\n",
       "       [4, 3, 7, 3]])"
      ]
     },
     "execution_count": 36,
     "metadata": {},
     "output_type": "execute_result"
    }
   ],
   "source": [
    "B = np.random.randint(1, 9, (4,4))\n",
    "B"
   ]
  },
  {
   "cell_type": "code",
   "execution_count": 37,
   "metadata": {
    "pycharm": {
     "name": "#%%\n"
    }
   },
   "outputs": [
    {
     "data": {
      "text/plain": [
       "array([[2, 8],\n",
       "       [3, 3]])"
      ]
     },
     "execution_count": 37,
     "metadata": {},
     "output_type": "execute_result"
    }
   ],
   "source": [
    "B[1:3, 1:3]"
   ]
  },
  {
   "cell_type": "markdown",
   "metadata": {
    "pycharm": {
     "name": "#%% md\n"
    }
   },
   "source": [
    "## 177. Entry read/write: Efficiency\n",
    "\n",
    "As mentioned above: no significant difference between row and column selection.\n",
    "This claim might need some further research.\n",
    "This also goes for the subsequent slides.\n",
    "My current guess is that it does not make much of a difference, but maybe it does when doing some heavy work?"
   ]
  },
  {
   "cell_type": "markdown",
   "metadata": {
    "pycharm": {
     "name": "#%% md\n"
    }
   },
   "source": [
    "## 183. Logicals/Filters"
   ]
  },
  {
   "cell_type": "code",
   "execution_count": 38,
   "metadata": {
    "pycharm": {
     "name": "#%%\n"
    }
   },
   "outputs": [
    {
     "data": {
      "text/plain": [
       "array([[ 3,  0,  1],\n",
       "       [11, 12, 13],\n",
       "       [ 2,  2,  2]])"
      ]
     },
     "execution_count": 38,
     "metadata": {},
     "output_type": "execute_result"
    }
   ],
   "source": [
    "A"
   ]
  },
  {
   "cell_type": "code",
   "execution_count": 39,
   "metadata": {
    "pycharm": {
     "name": "#%%\n"
    }
   },
   "outputs": [
    {
     "data": {
      "text/plain": [
       "array([11, 12, 13])"
      ]
     },
     "execution_count": 39,
     "metadata": {},
     "output_type": "execute_result"
    }
   ],
   "source": [
    "A[A > 4]"
   ]
  },
  {
   "cell_type": "markdown",
   "metadata": {
    "pycharm": {
     "name": "#%% md\n"
    }
   },
   "source": [
    "## 184. Unique/Sorting"
   ]
  },
  {
   "cell_type": "code",
   "execution_count": 40,
   "metadata": {
    "pycharm": {
     "name": "#%%\n"
    }
   },
   "outputs": [
    {
     "data": {
      "text/plain": [
       "array([[12,  8,  1,  6, 19,  4, 13,  2,  8, 11, 18,  3,  4, 19,  6,  8,\n",
       "        19,  4,  7,  4],\n",
       "       [18,  1, 17,  7,  5,  2,  8, 18,  8, 15, 11,  7,  3,  5, 18, 10,\n",
       "        18,  9, 19, 19],\n",
       "       [ 9,  7,  9,  6,  9, 12,  7,  7,  5,  6, 18, 17,  9, 13,  7,  8,\n",
       "         5,  7, 14, 18],\n",
       "       [18, 14,  6,  8,  1,  4, 11, 14, 12,  6, 10, 19, 15, 12, 11,  3,\n",
       "        10, 14, 11, 10],\n",
       "       [10, 10,  5, 19,  4,  7,  8,  8, 17,  9, 13,  2, 14,  7, 11, 15,\n",
       "        19, 13, 17,  9],\n",
       "       [18,  5,  3,  7,  6,  3, 19,  3,  9, 18,  2, 13, 13,  4, 17, 19,\n",
       "        14,  6,  9,  1],\n",
       "       [11,  5, 14, 19,  7,  3,  2, 14, 14,  3,  1,  6, 11, 16, 16, 15,\n",
       "         2,  7,  8,  6],\n",
       "       [ 7,  8, 11, 18,  4,  8,  7, 10,  7, 17, 19, 10,  5, 16, 18,  8,\n",
       "         2,  8, 17,  5],\n",
       "       [ 1, 13,  6, 10,  8, 19, 18, 11, 19, 17,  9, 18,  6, 13, 17, 13,\n",
       "         6,  9, 11, 13],\n",
       "       [ 9, 14,  8, 10, 19, 10, 11,  6,  1,  1,  2,  5, 12, 11, 17, 17,\n",
       "         5, 10,  1,  7],\n",
       "       [11, 10,  5,  7, 19,  1,  7, 18, 17, 17, 17,  7, 16, 10,  6, 16,\n",
       "         9,  8,  7,  4],\n",
       "       [10, 15,  9, 16, 13, 14,  8, 13, 10,  8,  7,  9,  5,  7,  3, 13,\n",
       "         1,  7, 15, 19],\n",
       "       [ 8,  1, 18, 11,  9,  1,  4, 12, 16,  6,  4, 19, 13,  7,  1, 15,\n",
       "        18,  9, 19,  8],\n",
       "       [ 1,  8, 11,  7,  5,  4,  8, 17, 15, 10,  6, 18,  3, 19, 10,  1,\n",
       "        15,  7,  4, 18],\n",
       "       [ 8, 10, 16, 12, 11,  3, 19,  4, 11,  5, 15, 19, 10,  2, 13,  3,\n",
       "        15,  7, 17,  5],\n",
       "       [17, 16, 16, 18,  4,  4,  4,  8,  2, 13, 19,  1,  1, 18,  1, 19,\n",
       "        10, 14,  2,  9],\n",
       "       [14,  7, 15, 11,  5,  4,  2,  9, 18, 13,  2, 15, 12, 10,  5, 13,\n",
       "        13, 17, 14, 16],\n",
       "       [13,  9, 11, 16,  5, 13,  9,  9, 11, 12, 16, 15,  5, 13,  9,  3,\n",
       "        19,  8,  7,  7],\n",
       "       [18,  4, 18,  6, 11,  8,  3,  2, 16, 17, 19, 18, 17,  4, 11, 17,\n",
       "        10, 15,  8,  2],\n",
       "       [ 2,  9,  8,  9,  8, 13,  9,  2, 12, 11,  5, 11,  2, 12,  5,  5,\n",
       "        12, 17, 16, 18]])"
      ]
     },
     "execution_count": 40,
     "metadata": {},
     "output_type": "execute_result"
    }
   ],
   "source": [
    "I = np.random.randint(1, 20, (20, 20))\n",
    "I"
   ]
  },
  {
   "cell_type": "markdown",
   "metadata": {
    "pycharm": {
     "name": "#%% md\n"
    }
   },
   "source": [
    "`np.sort()` sorts each column (independently)."
   ]
  },
  {
   "cell_type": "code",
   "execution_count": 41,
   "metadata": {
    "pycharm": {
     "name": "#%%\n"
    }
   },
   "outputs": [
    {
     "data": {
      "text/plain": [
       "array([[ 1,  2,  3,  4,  4,  4,  4,  6,  6,  7,  8,  8,  8, 11, 12, 13,\n",
       "        18, 19, 19, 19],\n",
       "       [ 1,  2,  3,  5,  5,  7,  7,  8,  8,  9, 10, 11, 15, 17, 18, 18,\n",
       "        18, 18, 19, 19],\n",
       "       [ 5,  5,  6,  6,  7,  7,  7,  7,  7,  8,  9,  9,  9,  9, 12, 13,\n",
       "        14, 17, 18, 18],\n",
       "       [ 1,  3,  4,  6,  6,  8, 10, 10, 10, 11, 11, 11, 12, 12, 14, 14,\n",
       "        14, 15, 18, 19],\n",
       "       [ 2,  4,  5,  7,  7,  8,  8,  9,  9, 10, 10, 11, 13, 13, 14, 15,\n",
       "        17, 17, 19, 19],\n",
       "       [ 1,  2,  3,  3,  3,  4,  5,  6,  6,  7,  9,  9, 13, 13, 14, 17,\n",
       "        18, 18, 19, 19],\n",
       "       [ 1,  2,  2,  3,  3,  5,  6,  6,  7,  7,  8, 11, 11, 14, 14, 14,\n",
       "        15, 16, 16, 19],\n",
       "       [ 2,  4,  5,  5,  7,  7,  7,  8,  8,  8,  8, 10, 10, 11, 16, 17,\n",
       "        17, 18, 18, 19],\n",
       "       [ 1,  6,  6,  6,  8,  9,  9, 10, 11, 11, 13, 13, 13, 13, 17, 17,\n",
       "        18, 18, 19, 19],\n",
       "       [ 1,  1,  1,  2,  5,  5,  6,  7,  8,  9, 10, 10, 10, 11, 11, 12,\n",
       "        14, 17, 17, 19],\n",
       "       [ 1,  4,  5,  6,  7,  7,  7,  7,  8,  9, 10, 10, 11, 16, 16, 17,\n",
       "        17, 17, 18, 19],\n",
       "       [ 1,  3,  5,  7,  7,  7,  8,  8,  9,  9, 10, 10, 13, 13, 13, 14,\n",
       "        15, 15, 16, 19],\n",
       "       [ 1,  1,  1,  4,  4,  6,  7,  8,  8,  9,  9, 11, 12, 13, 15, 16,\n",
       "        18, 18, 19, 19],\n",
       "       [ 1,  1,  3,  4,  4,  5,  6,  7,  7,  8,  8, 10, 10, 11, 15, 15,\n",
       "        17, 18, 18, 19],\n",
       "       [ 2,  3,  3,  4,  5,  5,  7,  8, 10, 10, 11, 11, 12, 13, 15, 15,\n",
       "        16, 17, 19, 19],\n",
       "       [ 1,  1,  1,  2,  2,  4,  4,  4,  8,  9, 10, 13, 14, 16, 16, 17,\n",
       "        18, 18, 19, 19],\n",
       "       [ 2,  2,  4,  5,  5,  7,  9, 10, 11, 12, 13, 13, 13, 14, 14, 15,\n",
       "        15, 16, 17, 18],\n",
       "       [ 3,  5,  5,  7,  7,  8,  9,  9,  9,  9, 11, 11, 12, 13, 13, 13,\n",
       "        15, 16, 16, 19],\n",
       "       [ 2,  2,  3,  4,  4,  6,  8,  8, 10, 11, 11, 15, 16, 17, 17, 17,\n",
       "        18, 18, 18, 19],\n",
       "       [ 2,  2,  2,  5,  5,  5,  8,  8,  9,  9,  9, 11, 11, 12, 12, 12,\n",
       "        13, 16, 17, 18]])"
      ]
     },
     "execution_count": 41,
     "metadata": {},
     "output_type": "execute_result"
    }
   ],
   "source": [
    "np.sort(I)"
   ]
  },
  {
   "cell_type": "markdown",
   "metadata": {
    "pycharm": {
     "name": "#%% md\n"
    }
   },
   "source": [
    "`np.unique()` lists the unique elements in a (multidimensional) array."
   ]
  },
  {
   "cell_type": "code",
   "execution_count": 42,
   "metadata": {
    "pycharm": {
     "name": "#%%\n"
    }
   },
   "outputs": [
    {
     "data": {
      "text/plain": [
       "array([ 1,  2,  3,  4,  5,  6,  7,  8,  9, 10, 11, 12, 13, 14, 15, 16, 17,\n",
       "       18, 19])"
      ]
     },
     "execution_count": 42,
     "metadata": {},
     "output_type": "execute_result"
    }
   ],
   "source": [
    "np.unique(I)"
   ]
  },
  {
   "cell_type": "markdown",
   "metadata": {
    "pycharm": {
     "name": "#%% md\n"
    }
   },
   "source": [
    "## 186. Arithmetic"
   ]
  },
  {
   "cell_type": "code",
   "execution_count": 43,
   "metadata": {
    "pycharm": {
     "name": "#%%\n"
    }
   },
   "outputs": [
    {
     "data": {
      "text/plain": [
       "array([[ 4, 13, 12,  1],\n",
       "       [ 2, 15,  4,  1],\n",
       "       [ 4, 12, 16,  3],\n",
       "       [13, 10,  2,  2]])"
      ]
     },
     "execution_count": 43,
     "metadata": {},
     "output_type": "execute_result"
    }
   ],
   "source": [
    "A = np.random.randint(1, 20, (4,4))\n",
    "c = 3\n",
    "A"
   ]
  },
  {
   "cell_type": "code",
   "execution_count": 44,
   "metadata": {
    "pycharm": {
     "name": "#%%\n"
    }
   },
   "outputs": [
    {
     "data": {
      "text/plain": [
       "array([[12, 39, 36,  3],\n",
       "       [ 6, 45, 12,  3],\n",
       "       [12, 36, 48,  9],\n",
       "       [39, 30,  6,  6]])"
      ]
     },
     "execution_count": 44,
     "metadata": {},
     "output_type": "execute_result"
    }
   ],
   "source": [
    "c * A"
   ]
  },
  {
   "cell_type": "code",
   "execution_count": 45,
   "metadata": {
    "pycharm": {
     "name": "#%%\n"
    }
   },
   "outputs": [
    {
     "data": {
      "text/plain": [
       "array([[12, 39, 36,  3],\n",
       "       [ 6, 45, 12,  3],\n",
       "       [12, 36, 48,  9],\n",
       "       [39, 30,  6,  6]])"
      ]
     },
     "execution_count": 45,
     "metadata": {},
     "output_type": "execute_result"
    }
   ],
   "source": [
    "A * c"
   ]
  },
  {
   "cell_type": "markdown",
   "metadata": {
    "pycharm": {
     "name": "#%% md\n"
    }
   },
   "source": [
    "Hadamard multiplication"
   ]
  },
  {
   "cell_type": "code",
   "execution_count": 46,
   "metadata": {
    "pycharm": {
     "name": "#%%\n"
    }
   },
   "outputs": [
    {
     "data": {
      "text/plain": [
       "array([[ 16, 169, 144,   1],\n",
       "       [  4, 225,  16,   1],\n",
       "       [ 16, 144, 256,   9],\n",
       "       [169, 100,   4,   4]])"
      ]
     },
     "execution_count": 46,
     "metadata": {},
     "output_type": "execute_result"
    }
   ],
   "source": [
    "A * A"
   ]
  },
  {
   "cell_type": "markdown",
   "metadata": {
    "pycharm": {
     "name": "#%% md\n"
    }
   },
   "source": [
    "Matrix multiplication"
   ]
  },
  {
   "cell_type": "code",
   "execution_count": 47,
   "metadata": {
    "pycharm": {
     "name": "#%%\n"
    }
   },
   "outputs": [
    {
     "data": {
      "text/plain": [
       "array([[160,  73, 155, 113],\n",
       "       [102,  49, 143,  65],\n",
       "       [192,  89, 173, 137],\n",
       "       [127,  58, 126, 114]])"
      ]
     },
     "execution_count": 47,
     "metadata": {},
     "output_type": "execute_result"
    }
   ],
   "source": [
    "A.dot(B)"
   ]
  },
  {
   "cell_type": "code",
   "execution_count": 48,
   "metadata": {
    "pycharm": {
     "name": "#%%\n"
    }
   },
   "outputs": [
    {
     "data": {
      "text/plain": [
       "array([[103, 401, 294,  55],\n",
       "       [ 67, 309, 150,  31],\n",
       "       [143, 454, 358,  70],\n",
       "       [106, 363, 232,  33]])"
      ]
     },
     "execution_count": 48,
     "metadata": {},
     "output_type": "execute_result"
    }
   ],
   "source": [
    "np.dot(A, A)"
   ]
  },
  {
   "cell_type": "code",
   "execution_count": 49,
   "metadata": {
    "pycharm": {
     "name": "#%%\n"
    }
   },
   "outputs": [
    {
     "data": {
      "text/plain": [
       "array([[103, 401, 294,  55],\n",
       "       [ 67, 309, 150,  31],\n",
       "       [143, 454, 358,  70],\n",
       "       [106, 363, 232,  33]])"
      ]
     },
     "execution_count": 49,
     "metadata": {},
     "output_type": "execute_result"
    }
   ],
   "source": [
    "A @ A"
   ]
  },
  {
   "cell_type": "code",
   "execution_count": 50,
   "metadata": {
    "pycharm": {
     "name": "#%%\n"
    }
   },
   "outputs": [
    {
     "data": {
      "text/plain": [
       "array([[103, 401, 294,  55],\n",
       "       [ 67, 309, 150,  31],\n",
       "       [143, 454, 358,  70],\n",
       "       [106, 363, 232,  33]])"
      ]
     },
     "execution_count": 50,
     "metadata": {},
     "output_type": "execute_result"
    }
   ],
   "source": [
    "A.__matmul__(A)"
   ]
  },
  {
   "cell_type": "markdown",
   "metadata": {
    "pycharm": {
     "name": "#%% md\n"
    }
   },
   "source": [
    "Hadamard power"
   ]
  },
  {
   "cell_type": "code",
   "execution_count": 51,
   "metadata": {
    "pycharm": {
     "name": "#%%\n"
    }
   },
   "outputs": [
    {
     "data": {
      "text/plain": [
       "array([[ 16, 169, 144,   1],\n",
       "       [  4, 225,  16,   1],\n",
       "       [ 16, 144, 256,   9],\n",
       "       [169, 100,   4,   4]])"
      ]
     },
     "execution_count": 51,
     "metadata": {},
     "output_type": "execute_result"
    }
   ],
   "source": [
    "A ** 2"
   ]
  },
  {
   "cell_type": "code",
   "execution_count": 52,
   "metadata": {
    "pycharm": {
     "name": "#%%\n"
    }
   },
   "outputs": [
    {
     "data": {
      "text/plain": [
       "array([[103, 401, 294,  55],\n",
       "       [ 67, 309, 150,  31],\n",
       "       [143, 454, 358,  70],\n",
       "       [106, 363, 232,  33]])"
      ]
     },
     "execution_count": 52,
     "metadata": {},
     "output_type": "execute_result"
    }
   ],
   "source": [
    "np.linalg.matrix_power(A, 2)"
   ]
  },
  {
   "cell_type": "markdown",
   "metadata": {
    "pycharm": {
     "name": "#%% md\n"
    }
   },
   "source": [
    "## 187. Arithmetic"
   ]
  },
  {
   "cell_type": "code",
   "execution_count": 53,
   "metadata": {
    "pycharm": {
     "name": "#%%\n"
    }
   },
   "outputs": [
    {
     "name": "stdout",
     "output_type": "stream",
     "text": [
      "[[3 1 1 3]\n",
      " [3 2 3 3]\n",
      " [1 1 3 3]\n",
      " [1 1 1 2]]\n",
      "[[1]\n",
      " [2]\n",
      " [2]\n",
      " [3]]\n"
     ]
    }
   ],
   "source": [
    "A = np.random.randint(1, 4, (4,4))\n",
    "b = np.random.randint(1, 4, (4, 1))\n",
    "print(A)\n",
    "print(b)"
   ]
  },
  {
   "cell_type": "markdown",
   "metadata": {},
   "source": [
    "Left division ($$Ax = b$$)"
   ]
  },
  {
   "cell_type": "code",
   "execution_count": 54,
   "metadata": {
    "pycharm": {
     "name": "#%%\n"
    }
   },
   "outputs": [
    {
     "data": {
      "text/plain": [
       "array([[-1.625],\n",
       "       [ 3.25 ],\n",
       "       [-1.125],\n",
       "       [ 1.25 ]])"
      ]
     },
     "execution_count": 54,
     "metadata": {},
     "output_type": "execute_result"
    }
   ],
   "source": [
    "np.linalg.solve(A, b)"
   ]
  },
  {
   "cell_type": "markdown",
   "metadata": {
    "pycharm": {
     "name": "#%% md\n"
    }
   },
   "source": [
    "Left division by solving the least squares problem to minimize $$||Ax - b||_2$$\n",
    "also returns solution for singular $A$."
   ]
  },
  {
   "cell_type": "code",
   "execution_count": 55,
   "metadata": {
    "pycharm": {
     "name": "#%%\n"
    }
   },
   "outputs": [
    {
     "data": {
      "text/plain": [
       "array([[-1.625],\n",
       "       [ 3.25 ],\n",
       "       [-1.125],\n",
       "       [ 1.25 ]])"
      ]
     },
     "execution_count": 55,
     "metadata": {},
     "output_type": "execute_result"
    }
   ],
   "source": [
    "# rcond=None to use future default for precision\n",
    "np.linalg.lstsq(A, b, rcond=None)[0]"
   ]
  },
  {
   "cell_type": "markdown",
   "metadata": {},
   "source": [
    "Numpy/Python does not have a right division like MATLAB does, instead, transpose both arguments and use left division:"
   ]
  },
  {
   "cell_type": "code",
   "execution_count": 56,
   "metadata": {
    "pycharm": {
     "name": "#%%\n"
    }
   },
   "outputs": [
    {
     "data": {
      "text/plain": [
       "array([[-0.28571429, -0.42857143,  0.28571429,  1.71428571],\n",
       "       [ 0.14285714,  0.71428571, -0.14285714,  1.14285714],\n",
       "       [-1.42857143, -2.14285714,  3.42857143,  0.57142857],\n",
       "       [-0.42857143, -1.14285714,  1.42857143,  0.57142857]])"
      ]
     },
     "execution_count": 56,
     "metadata": {},
     "output_type": "execute_result"
    }
   ],
   "source": [
    "B = np.random.randint(1, 4, (4, 4))\n",
    "# rcond=None to use future default for precision\n",
    "np.linalg.lstsq(B.T, A.T, rcond=None)[0].T"
   ]
  },
  {
   "cell_type": "markdown",
   "metadata": {
    "pycharm": {
     "name": "#%% md\n"
    }
   },
   "source": [
    "# 189.  Tensors\n",
    "Tensors in numpy are simply multi-dimensional arrays."
   ]
  },
  {
   "cell_type": "code",
   "execution_count": 57,
   "metadata": {
    "pycharm": {
     "name": "#%%\n"
    }
   },
   "outputs": [
    {
     "data": {
      "text/plain": [
       "array([[[ 1,  2],\n",
       "        [ 3,  4]],\n",
       "\n",
       "       [[ 5,  6],\n",
       "        [ 7,  8]],\n",
       "\n",
       "       [[ 9, 10],\n",
       "        [11, 12]]])"
      ]
     },
     "execution_count": 57,
     "metadata": {},
     "output_type": "execute_result"
    }
   ],
   "source": [
    "T = np.array([\n",
    "    [[1, 2], [3, 4]],\n",
    "    [[5, 6], [7, 8]],\n",
    "    [[9, 10], [11, 12]]\n",
    "])\n",
    "T"
   ]
  },
  {
   "cell_type": "code",
   "execution_count": 58,
   "metadata": {
    "pycharm": {
     "name": "#%%\n"
    }
   },
   "outputs": [
    {
     "data": {
      "text/plain": [
       "6"
      ]
     },
     "execution_count": 58,
     "metadata": {},
     "output_type": "execute_result"
    }
   ],
   "source": [
    "T[1, 0, 1]"
   ]
  },
  {
   "cell_type": "markdown",
   "metadata": {
    "pycharm": {
     "name": "#%% md\n"
    }
   },
   "source": [
    "## 193. Visualization\n",
    "Visualization uses lots of memory. If you use PyCharm and are limited to 4GB you may not have enough memory ...\n",
    "To prevent this notebook from getting very slow, the visualization part is in the separate notebook: `week2_visualization`."
   ]
  },
  {
   "cell_type": "markdown",
   "metadata": {
    "pycharm": {
     "name": "#%% md\n"
    }
   },
   "source": [
    "## 198. Block matrices\n",
    "numpy has block matrix support, for example"
   ]
  },
  {
   "cell_type": "code",
   "execution_count": 59,
   "metadata": {
    "pycharm": {
     "name": "#%%\n"
    }
   },
   "outputs": [
    {
     "data": {
      "text/plain": [
       "array([[3., 0., 0., 0., 0.],\n",
       "       [0., 3., 0., 0., 0.],\n",
       "       [0., 0., 3., 0., 0.],\n",
       "       [0., 0., 0., 2., 0.],\n",
       "       [0., 0., 0., 0., 2.]])"
      ]
     },
     "execution_count": 59,
     "metadata": {},
     "output_type": "execute_result"
    }
   ],
   "source": [
    "np.block([\n",
    "    [np.eye(3) * 3, np.zeros((3, 2))],\n",
    "    [np.zeros((2, 3)), np.eye(2) * 2]\n",
    "])"
   ]
  },
  {
   "cell_type": "code",
   "execution_count": 60,
   "metadata": {
    "lines_to_next_cell": 0,
    "pycharm": {
     "name": "#%%\n"
    }
   },
   "outputs": [
    {
     "data": {
      "text/plain": [
       "<matplotlib.image.AxesImage at 0x7f89f11a9208>"
      ]
     },
     "execution_count": 60,
     "metadata": {},
     "output_type": "execute_result"
    },
    {
     "data": {
      "image/png": "[encoded data removed]",
      "text/plain": [
       "<Figure size 432x288 with 1 Axes>"
      ]
     },
     "metadata": {
      "image/png": {
       "height": 251,
       "width": 251
      },
      "needs_background": "light"
     },
     "output_type": "display_data"
    }
   ],
   "source": [
    "plt.spy(np.random.randint(0, 5, (100, 100)))\n"
   ]
  },
  {
   "cell_type": "code",
   "execution_count": null,
   "metadata": {
    "lines_to_next_cell": 2
   },
   "outputs": [],
   "source": []
  }
 ],
 "metadata": {
  "jupytext": {
   "formats": "src/notebooks//ipynb,src/python//py"
  },
  "kernelspec": {
   "display_name": "Python 3",
   "language": "python",
   "name": "python3"
  },
  "language_info": {
   "codemirror_mode": {
    "name": "ipython",
    "version": 3
   },
   "file_extension": ".py",
   "mimetype": "text/x-python",
   "name": "python",
   "nbconvert_exporter": "python",
   "pygments_lexer": "ipython3",
   "version": "3.7.3"
  }
 },
 "nbformat": 4,
 "nbformat_minor": 4
}
