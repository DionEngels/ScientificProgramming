{
 "cells": [
  {
   "cell_type": "code",
   "execution_count": 1,
   "metadata": {},
   "outputs": [
    {
     "name": "stdout",
     "output_type": "stream",
     "text": [
      "Populating the interactive namespace from numpy and matplotlib\n"
     ]
    }
   ],
   "source": [
    "%pylab inline"
   ]
  },
  {
   "cell_type": "markdown",
   "metadata": {},
   "source": [
    "TODO:\n",
    "\n",
    "- 9d\n",
    "- 10\n",
    "- commenting"
   ]
  },
  {
   "cell_type": "markdown",
   "metadata": {},
   "source": [
    "## Exercise 2"
   ]
  },
  {
   "cell_type": "code",
   "execution_count": 58,
   "metadata": {},
   "outputs": [
    {
     "name": "stdout",
     "output_type": "stream",
     "text": [
      "[0 1 1 1 0 2 0 1 1 0]\n"
     ]
    }
   ],
   "source": [
    "n=7; k=10; V=[3, 6, 9, 6, 4, 2, 8]\n",
    "\n",
    "# code\n",
    "count_occurances = lambda _: np.bincount(_, minlength=k+1)[1:]\n",
    "\n",
    "# testing/timing\n",
    "print(count_occurances(V))"
   ]
  },
  {
   "cell_type": "code",
   "execution_count": 59,
   "metadata": {},
   "outputs": [
    {
     "name": "stdout",
     "output_type": "stream",
     "text": [
      "[0 1 1 1 0 2 0 1 1 0]\n"
     ]
    }
   ],
   "source": [
    "n=7; k=10; V=[3, 6, 9, 6, 4, 2, 8]\n",
    "\n",
    "# code\n",
    "count_occurances = lambda _: np.bincount(_, minlength=k+1)[1:]\n",
    "\n",
    "# testing/timing\n",
    "print(count_occurances(V))"
   ]
  },
  {
   "cell_type": "markdown",
   "metadata": {},
   "source": [
    "# Exercise 3"
   ]
  },
  {
   "cell_type": "code",
   "execution_count": 60,
   "metadata": {},
   "outputs": [
    {
     "name": "stdout",
     "output_type": "stream",
     "text": [
      "[1 0 1 0 1 0]\n"
     ]
    }
   ],
   "source": [
    "v = np.zeros(6, dtype=np.int32)\n",
    "v[[0,2,4,2,0]] = v[[0,2,4,2,0]] + 1 \n",
    "print(v)"
   ]
  },
  {
   "cell_type": "markdown",
   "metadata": {},
   "source": [
    "# Exercise 4"
   ]
  },
  {
   "cell_type": "code",
   "execution_count": 6,
   "metadata": {},
   "outputs": [
    {
     "name": "stdout",
     "output_type": "stream",
     "text": [
      "Base array \t: [1.  4.  4.  3.  2.  0.  1.5 1.  4.  3. ]\n",
      "a) Result \t: [ 1.   4.   8.   3.   2.   7.   1.5 -7.   4.   3. ]\n",
      "b) Result \t: [ 1.   4.   8.   7.  -7.   1.   1.5  1.   4.   3. ]\n",
      "c) Result \t: [ 1.  -7.  -7.   3.   2.   0.   1.5  1.  -7.   3. ]\n",
      "d) Result \t: [False False False  True  True False False False False  True]\n",
      "e) Result \t: [3 4 9]\n",
      "f) Result \t: 3\n",
      "g) Result \t: [1.  4.  3.  2.  1.5 4.  3. ]\n",
      "h) Result \t: [1.  4.  4.  3.  2.  1.5 1.  4.  3. ]\n",
      "i) Result \t: 9\n"
     ]
    }
   ],
   "source": [
    "def ex4abc(array, indices, values):\n",
    "    array[indices] = values\n",
    "    return array\n",
    "\n",
    "def ex4d(array, lb, ub):\n",
    "    return np.logical_and(array >= lb, array < ub)\n",
    "\n",
    "def ex4e(array, lb, ub):\n",
    "    return np.logical_and(array >= lb, array < ub).nonzero()[0]\n",
    "\n",
    "def ex4f(array, value):\n",
    "    return len(array[array == value])\n",
    "\n",
    "def ex4g(array, to_delete):\n",
    "    return np.delete(array, to_delete)\n",
    "\n",
    "def ex4h(array):\n",
    "    return array[array.nonzero()]\n",
    "\n",
    "def ex4i(array):\n",
    "    return len(array[array.nonzero()])\n",
    "\n",
    "v = np.asarray([1, 4, 4, 3, 2, 0, 1.5, 1, 4, 3])  # reset\n",
    "print(f'Base array \\t: {v}')\n",
    "print(f'a) Result \\t: {ex4abc(v.copy(), [2, 5, 7], [8, 7, -7])}')\n",
    "print(f'b) Result \\t: {ex4abc(v.copy(), slice(2,6), [8, 7, -7, 1])}')\n",
    "print(f'c) Result \\t: {ex4abc(v.copy(), v==4, -7)}')\n",
    "print(f'd) Result \\t: {ex4d(v.copy(), 2, 4)}')\n",
    "print(f'e) Result \\t: {ex4e(v.copy(), 2, 4)}')\n",
    "print(f'f) Result \\t: {ex4f(v.copy(), 4)}')\n",
    "print(f'g) Result \\t: {ex4g(v.copy(), [2, 5, 7])}')\n",
    "print(f'h) Result \\t: {ex4h(v.copy())}')\n",
    "print(f'i) Result \\t: {ex4i(v.copy())}')"
   ]
  },
  {
   "cell_type": "markdown",
   "metadata": {},
   "source": [
    "# Exercise 5"
   ]
  },
  {
   "cell_type": "code",
   "execution_count": 33,
   "metadata": {},
   "outputs": [
    {
     "name": "stdout",
     "output_type": "stream",
     "text": [
      "[6 9]\n"
     ]
    },
    {
     "data": {
      "text/plain": [
       "array([6, 6, 9])"
      ]
     },
     "execution_count": 33,
     "metadata": {},
     "output_type": "execute_result"
    }
   ],
   "source": [
    "I = np.array([8, 6, 3, 6, 8, 9]); J = np.array([3, 8, 7])\n",
    "\n",
    "## EXERCISE A\n",
    "maxlength = np.max(np.concatenate([I,J]))+1\n",
    "S = np.bincount(I, minlength = maxlength)\n",
    "T = np.bincount(J, minlength = maxlength)\n",
    "A = np.logical_and( (S > 0), (T == 0) )\n",
    "print(np.nonzero(A)[0] )\n",
    "\n",
    "\n",
    "## EXERCISE B\n",
    "I[~np.isin(I, J)] "
   ]
  },
  {
   "cell_type": "markdown",
   "metadata": {},
   "source": [
    "# Exercise 6"
   ]
  },
  {
   "cell_type": "code",
   "execution_count": 37,
   "metadata": {},
   "outputs": [
    {
     "name": "stdout",
     "output_type": "stream",
     "text": [
      "0\n",
      "[      0      15      20 ... 9999979 9999988 9999993]\n"
     ]
    },
    {
     "data": {
      "text/plain": [
       "array([[1109584],\n",
       "       [1110628],\n",
       "       [1111013],\n",
       "       [1112369],\n",
       "       [1112497],\n",
       "       [1110548],\n",
       "       [1112578],\n",
       "       [1109819],\n",
       "       [1110964]])"
      ]
     },
     "execution_count": 37,
     "metadata": {},
     "output_type": "execute_result"
    }
   ],
   "source": [
    "v = np.random.randint(1, 10, 10**7)\n",
    "\n",
    "# Exercise 6a\n",
    "print(np.argmin(v))\n",
    "\n",
    "# Exercise 6b\n",
    "print(np.where(v == v.min())[0])\n",
    "\n",
    "# Exercise 6c\n",
    "np.bincount(v, minlength = 10)[1:, np.newaxis]"
   ]
  },
  {
   "cell_type": "markdown",
   "metadata": {},
   "source": [
    "# Exercise 7"
   ]
  },
  {
   "cell_type": "code",
   "execution_count": 41,
   "metadata": {},
   "outputs": [
    {
     "data": {
      "text/plain": [
       "array([[1, 2, 3, 4, 5, 6, 7, 8],\n",
       "       [1, 2, 3, 4, 5, 6, 7, 8],\n",
       "       [1, 2, 3, 4, 5, 6, 7, 8],\n",
       "       [1, 2, 3, 4, 5, 6, 7, 8],\n",
       "       [1, 2, 3, 4, 5, 6, 7, 8],\n",
       "       [1, 2, 3, 4, 5, 6, 7, 8],\n",
       "       [1, 2, 3, 4, 5, 6, 7, 8],\n",
       "       [1, 2, 3, 4, 5, 6, 7, 8]])"
      ]
     },
     "execution_count": 41,
     "metadata": {},
     "output_type": "execute_result"
    }
   ],
   "source": [
    "from numpy import matlib\n",
    "\n",
    "n = 8\n",
    "A = matlib.repmat(np.arange(1,n+1), n, 1)\n",
    "A"
   ]
  },
  {
   "cell_type": "markdown",
   "metadata": {},
   "source": [
    "# Exercise 8"
   ]
  },
  {
   "cell_type": "code",
   "execution_count": 47,
   "metadata": {},
   "outputs": [
    {
     "name": "stdout",
     "output_type": "stream",
     "text": [
      "Base matrix:\n",
      "  64   2   3  61  60   6   7  57\n",
      "   9  55  54  12  13  51  50  16\n",
      "  17  47  46  20  21  43  42  24\n",
      "  40  26  27  37  36  30  31  33\n",
      "  32  34  35  29  28  38  39  25\n",
      "  41  23  22  44  45  19  18  48\n",
      "  49  15  14  52  53  11  10  56\n",
      "   8  58  59   5   4  62  63   1\n",
      "Result a)\n",
      "  64   0   0  61  60   0   0  57\n",
      "   0  55  54   0   0  51  50   0\n",
      "   0  47  46   0   0  43  42   0\n",
      "  40   0   0  37  36   0   0  33\n",
      "  32  34  35   0   0  38  39   0\n",
      "  41   0   0  44  45   0   0  48\n",
      "  49   0   0  52  53   0   0  56\n",
      "   0  58  59   0   0  62  63   0\n",
      "Result b)\n",
      "  64   2   3  61  60   6   7  57\n",
      "   9  55  54  12  13  51  50  16\n",
      "  17  47  46  20  21  43  42  24\n",
      "  40  26  27  37  36  30  31  33\n",
      "  41  23  22  44  45  19  18  48\n",
      "  49  15  14  52  53  11  10  56\n",
      "   8  58  59   5   4  62  63   1\n",
      "Result c)\n",
      "  64   2   3  61  60   6   7\n",
      "   9  55  54  12  13  51  50\n",
      "  17  47  46  20  21  43  42\n",
      "  40  26  27  37  36  30  31\n",
      "  32  34  35  29  28  38  39\n",
      "  41  23  22  44  45  19  18\n",
      "  49  15  14  52  53  11  10\n",
      "   8  58  59   5   4  62  63\n",
      "Result d)\n",
      "  64   2   3  61  60   6   7  57\n",
      "   9  55   0  12  13  51  50  16\n",
      "  17  47  46  20  21  43  42  24\n",
      "  40   0  27  37  36  30  31   0\n",
      "  32  34  35  29  28  38  39  25\n",
      "  41  23  22  44  45  19  18  48\n",
      "  49  15  14  52   0  11  10  56\n",
      "   8  58  59   5   4  62  63   1\n",
      "Result e)\n",
      "  1  0  0  0  0  0  0  0\n",
      "  0  2  0  0  0  0  0  0\n",
      "  0  0  3  0  0  0  0  0\n",
      "  0  0  0  4  0  0  0  0\n",
      "  0  0  0  0  5  0  0  0\n",
      "  0  0  0  0  0  6  0  0\n",
      "  0  0  0  0  0  0  7  0\n",
      "  0  0  0  0  0  0  0  8\n",
      "Result e)\n",
      "  1  0  0  0  0  0  0  0\n",
      "  0  2  0  0  0  0  0  0\n",
      "  0  0  3  0  0  0  0  0\n",
      "  0  0  0  4  0  0  0  0\n",
      "  0  0  0  0  5  0  0  0\n",
      "  0  0  0  0  0  6  0  0\n",
      "  0  0  0  0  0  0  7  0\n",
      "  0  0  0  0  0  0  0  8\n"
     ]
    }
   ],
   "source": [
    "import given_material.mlext as me\n",
    "\n",
    "\n",
    "def ex8a(matrix, value):\n",
    "    matrix[matrix < value] = 0\n",
    "    return matrix\n",
    "\n",
    "def ex8bc(matrix, n_col_row, n_axis):\n",
    "    return np.delete(matrix, n_col_row, axis=n_axis)\n",
    "\n",
    "def ex8d(matrix, values):\n",
    "    matrix[values] = 0\n",
    "    return matrix\n",
    "\n",
    "def ex8e_1(size):\n",
    "    return np.diag(np.arange(1, size+1, dtype=int))\n",
    "\n",
    "def ex8e_3(size):\n",
    "    # with some form of linear adressing\n",
    "    matrix = np.zeros(size * size, dtype=np.int)\n",
    "    matrix[np.array(range(0, size)) * size + np.array(range(0, size))] = range(1, size + 1)\n",
    "    return np.reshape(matrix, (size, size))\n",
    "\n",
    "\n",
    "size = 8\n",
    "A = me.magic(size)\n",
    "me.print_matrix('Base matrix:', A)\n",
    "me.print_matrix('Result a)', ex8a(A.copy(), 32))\n",
    "me.print_matrix('Result b)', ex8bc(A.copy(), 4, 0))\n",
    "me.print_matrix('Result c)', ex8bc(A.copy(), -1, 1))\n",
    "input_I = [3, 1, 3, 6]\n",
    "input_J = [1, 2, 7, 4]\n",
    "me.print_matrix('Result d)', ex8d(A.copy(), (input_I, input_J)))\n",
    "me.print_matrix('Result e)', ex8e_1(size))\n",
    "me.print_matrix('Result e)', ex8e_3(size))"
   ]
  },
  {
   "cell_type": "markdown",
   "metadata": {},
   "source": [
    "# Exercise 9"
   ]
  },
  {
   "cell_type": "code",
   "execution_count": 54,
   "metadata": {},
   "outputs": [
    {
     "name": "stdout",
     "output_type": "stream",
     "text": [
      "[[0.         0.         0.         0.         0.37189458 0.\n",
      "  0.         0.        ]\n",
      " [0.         0.         0.         0.         0.         0.\n",
      "  0.         0.        ]\n",
      " [0.71963797 0.         0.         0.         0.         0.\n",
      "  0.         0.        ]\n",
      " [0.02584222 0.         0.         0.         0.         0.\n",
      "  0.         0.        ]\n",
      " [0.         0.         0.         0.50721234 0.         0.\n",
      "  0.         0.        ]\n",
      " [0.         0.         0.         0.         0.         0.\n",
      "  0.         0.        ]\n",
      " [0.         0.9507732  0.         0.         0.79845092 0.\n",
      "  0.         0.        ]\n",
      " [0.         0.         0.         0.         0.         0.\n",
      "  0.         0.        ]]\n"
     ]
    },
    {
     "data": {
      "text/plain": [
       "matrix([[0., 0., 0., 0., 4., 0., 0., 0.],\n",
       "        [0., 0., 0., 0., 0., 0., 0., 0.],\n",
       "        [0., 0., 0., 0., 0., 0., 0., 0.],\n",
       "        [0., 0., 0., 0., 0., 0., 0., 0.],\n",
       "        [0., 0., 0., 3., 0., 0., 0., 0.],\n",
       "        [0., 0., 0., 0., 0., 0., 0., 0.],\n",
       "        [0., 1., 0., 0., 4., 0., 0., 0.],\n",
       "        [0., 0., 0., 0., 0., 0., 0., 0.]])"
      ]
     },
     "execution_count": 54,
     "metadata": {},
     "output_type": "execute_result"
    }
   ],
   "source": [
    "from scipy import sparse \n",
    "\n",
    "np.random.seed(623827)\n",
    "n = 8; d = 0.1\n",
    "A = sparse.rand(n, n, d, format='csc'); print(A.todense())\n",
    "\n",
    "### a ###\n",
    "def ex9a(matrix):\n",
    "    I, J, V = sparse.find(matrix)\n",
    "    matrix[I, J] = 10*I + J\n",
    "\n",
    "    return matrix.todense()\n",
    "\n",
    "ex9a(A.copy())\n",
    "\n",
    "### b ###\n",
    "\n",
    "def ex9a():\n",
    "    A[A == 0] = 2\n",
    "    return A.todense()\n",
    "\n",
    "### c ###\n",
    "def ex9c(matrix):\n",
    "    I, J, V = sparse.find(matrix)\n",
    "    matrix[I, J] = J\n",
    "\n",
    "    return matrix.todense()\n",
    "\n",
    "ex9c(A.copy())\n",
    "\n",
    "### d ###\n",
    "# A.todense()"
   ]
  },
  {
   "cell_type": "markdown",
   "metadata": {},
   "source": [
    "# Exercise 10"
   ]
  },
  {
   "cell_type": "code",
   "execution_count": 55,
   "metadata": {},
   "outputs": [
    {
     "name": "stdout",
     "output_type": "stream",
     "text": [
      "Hand:\n",
      "[[10  2]\n",
      " [ 5  1]\n",
      " [ 1  2]\n",
      " [ 2  2]\n",
      " [12  3]\n",
      " [13  1]\n",
      " [10  2]]\n",
      "Hand sorted on rank with indices of original hand:\n",
      "[[13  1  5]\n",
      " [12  3  4]\n",
      " [10  2  6]\n",
      " [10  2  0]\n",
      " [ 5  1  1]\n",
      " [ 2  2  3]\n",
      " [ 1  2  2]]\n",
      "Highest rank per suit:\n",
      "[[13  1  5]\n",
      " [10  2  6]\n",
      " [12  3  4]]\n",
      "Sorted Highest rank per suit:\n",
      "[[12  3  4]\n",
      " [13  1  5]\n",
      " [10  2  6]]\n",
      "Answer:\n",
      "[[12  3]\n",
      " [13  1]\n",
      " [10  2]]\n"
     ]
    }
   ],
   "source": [
    "n = 7\n",
    "np.random.seed(10)\n",
    "suit, rank = np.random.randint(1, 14, size=n), np.random.randint(1, 5, size=n)\n",
    "\n",
    "H = np.array(list(zip(suit,rank, np.arange(n))))\n",
    "print(\"Hand:\")\n",
    "print(np.delete(H,2,axis=1))\n",
    "\n",
    "H_sorted_on_rank = H[np.argsort(H[:,0])][::-1]\n",
    "print(\"Hand sorted on rank with indices of original hand:\")\n",
    "print(H_sorted_on_rank)\n",
    "\n",
    "H_highest_rank_per_suit = H_sorted_on_rank[np.unique(H_sorted_on_rank[:,1], return_index=True)[1]]\n",
    "print(\"Highest rank per suit:\")\n",
    "print(H_highest_rank_per_suit)\n",
    "\n",
    "sorted_answer = H_highest_rank_per_suit[np.argsort(H_highest_rank_per_suit[:,2])]\n",
    "print('Sorted Highest rank per suit:')\n",
    "print(sorted_answer)\n",
    "\n",
    "print(\"Answer:\")\n",
    "print(np.delete(sorted_answer,2, axis=1))"
   ]
  },
  {
   "cell_type": "markdown",
   "metadata": {},
   "source": [
    "# Exercise 11"
   ]
  },
  {
   "cell_type": "code",
   "execution_count": 57,
   "metadata": {},
   "outputs": [
    {
     "name": "stdout",
     "output_type": "stream",
     "text": [
      "True\n",
      "False\n"
     ]
    }
   ],
   "source": [
    "n=4; m=5\n",
    "A = np.random.randint(-10, 10, size=(n,m))\n",
    "\n",
    "# Exercise 11a\n",
    "isL = lambda x: np.all(x.diagonal() > 0) & np.all(x[~np.eye(x.shape[0], x.shape[1], dtype=np.bool)] <=0)\n",
    "isL(A)\n",
    "\n",
    "# Exercise 11b\n",
    "A = sparse.csc_matrix([[1, 0, -2], [0, 4, 0], [-9, -2, 6]])\n",
    "print(isL(A))\n",
    "\n",
    "# Exercise 11c\n",
    "A = sparse.csc_matrix([[-2, -6, 0, 1], [5, 11, -8, -9], [0, 20, 22, -4], [3, 2, 1, -7]])\n",
    "print(isL(A))"
   ]
  },
  {
   "cell_type": "markdown",
   "metadata": {},
   "source": [
    "# Exercise 12"
   ]
  },
  {
   "cell_type": "code",
   "execution_count": null,
   "metadata": {},
   "outputs": [],
   "source": [
    "n=4; m=5\n",
    "A = np.random.randint(-10, 10, size=(n,m))\n",
    "\n",
    "# Exercise 11a\n",
    "isL = lambda x: np.all(x.diagonal() > 0) & np.all(x[~np.eye(x.shape[0], x.shape[1], dtype=np.bool)] <=0)\n",
    "isL(A)\n",
    "\n",
    "# Exercise 11b\n",
    "A = sparse.csc_matrix([[1, 0, -2], [0, 4, 0], [-9, -2, 6]])\n",
    "print(isL(A))\n",
    "\n",
    "# Exercise 11c\n",
    "A = sparse.csc_matrix([[-2, -6, 0, 1], [5, 11, -8, -9], [0, 20, 22, -4], [3, 2, 1, -7]])\n",
    "print(isL(A))"
   ]
  },
  {
   "cell_type": "code",
   "execution_count": null,
   "metadata": {},
   "outputs": [],
   "source": [
    "instances = 100\n",
    "n = 10000\n",
    "t = timeit.Timer(functools.partial(f, n))\n",
    "f_time = t.timeit(instances) / instances\n",
    "print(\"Timing for f: {:.10f} sec.\".format(f_time))\n",
    "t = timeit.Timer(functools.partial(tridiag, n))\n",
    "tridiag_time = t.timeit(instances) / instances\n",
    "print(\"Timing for tridiag: {:.10f} sec.\".format(tridiag_time))\n",
    "\n",
    "print(\"tridiag is {:.1f} times faster than f\".format(f_time / tridiag_time))"
   ]
  }
 ],
 "metadata": {
  "kernelspec": {
   "display_name": "Python 3",
   "language": "python",
   "name": "python3"
  },
  "language_info": {
   "codemirror_mode": {
    "name": "ipython",
    "version": 3
   },
   "file_extension": ".py",
   "mimetype": "text/x-python",
   "name": "python",
   "nbconvert_exporter": "python",
   "pygments_lexer": "ipython3",
   "version": "3.7.4"
  }
 },
 "nbformat": 4,
 "nbformat_minor": 4
}
