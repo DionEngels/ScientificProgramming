{
 "cells": [
  {
   "cell_type": "markdown",
   "source": [
    "## Required imports"
   ],
   "metadata": {
    "collapsed": false,
    "pycharm": {
     "name": "#%% md\n"
    }
   }
  },
  {
   "cell_type": "code",
   "execution_count": 117,
   "metadata": {},
   "outputs": [],
   "source": [
    "import numpy as np\n",
    "import given_material.mlext as me\n",
    "from scipy import sparse\n",
    "import timeit\n",
    "import functools"
   ]
  },
  {
   "cell_type": "markdown",
   "source": [
    "## General\n",
    "Note, that in general, for every question where an index was asked, we added +1 to the result.\n",
    "This is to prevent confusion between 0 (no result) and 0 (index).\n",
    "This does result in some clunky notation, but in the nicest output possible.\n",
    "\n",
    "Furthermore, we have adapted the print_matrix command in the given material to also include a header.\n",
    "There was also a bug there we fixed."
   ],
   "metadata": {
    "collapsed": false,
    "pycharm": {
     "name": "#%% md\n"
    }
   }
  },
  {
   "cell_type": "markdown",
   "metadata": {},
   "source": [
    "TODO:\n",
    "\n",
    "- 9d\n",
    "- 10\n",
    "- commenting"
   ]
  },
  {
   "cell_type": "markdown",
   "metadata": {},
   "source": [
    "# Exercise 2"
   ]
  },
  {
   "cell_type": "code",
   "execution_count": 118,
   "metadata": {},
   "outputs": [
    {
     "name": "stdout",
     "output_type": "stream",
     "text": [
      "Input array:\t[10  7 10  2 10  5  3]\n",
      "Result 2a:\t[0 1 1 0 1 0 1 0 0 3]\n"
     ]
    }
   ],
   "source": [
    "# 2a\n",
    "n=7; k=10; V = np.random.randint(low=1, high=k+1, size=n)  # declare inputs\n",
    "\n",
    "count_occurrences = lambda _: np.bincount(_, minlength=k+1)[1:]\n",
    "print(f\"Input array:\\t{V}\")\n",
    "print(f\"Result 2a:\\t{count_occurrences(V)}\")"
   ]
  },
  {
   "cell_type": "code",
   "execution_count": 119,
   "metadata": {},
   "outputs": [
    {
     "name": "stdout",
     "output_type": "stream",
     "text": [
      "Input array:\t[10  7 10  2 10  5  3]\n",
      "Result 2b:\t[0 4 7 0 6 0 2 0 0 1]\n"
     ]
    }
   ],
   "source": [
    "# 2b\n",
    "def first_occurrence_index(v):\n",
    "    v_unique, v_indices = np.unique(v, return_index=True)\n",
    "    return np.bincount(v_unique, weights=v_indices+1, minlength=k)[1:].astype(np.int16)\n",
    "\n",
    "print(f\"Input array:\\t{V}\")\n",
    "print(f\"Result 2b:\\t{first_occurrence_index(V)}\")"
   ]
  },
  {
   "cell_type": "markdown",
   "metadata": {},
   "source": [
    "# Exercise 3"
   ]
  },
  {
   "cell_type": "code",
   "execution_count": 120,
   "metadata": {},
   "outputs": [
    {
     "name": "stdout",
     "output_type": "stream",
     "text": [
      "Result given \t\t: [1 0 1 0 1 0]\n",
      "Possible solution \t: [2 0 1 0 2 0]\n"
     ]
    }
   ],
   "source": [
    "v = np.zeros(6, dtype=np.int32)\n",
    "v[[0,2,4,2,0]] = v[[0,2,4,2,0]] + 1 \n",
    "print(f'Result given \\t\\t: {v}')\n",
    "print(f'Possible solution \\t: {np.asarray([2, 0, 1, 0, 2, 0])}')"
   ]
  },
  {
   "cell_type": "markdown",
   "source": [
    "As indices 0 and 2 occur twice, it would have been possible that these would get +1 twice.\n",
    "However, this is not the case, resulting in [1 0 1 0 1 0], even though [2 0 1 0 2 0] could have been possible."
   ],
   "metadata": {
    "collapsed": false,
    "pycharm": {
     "name": "#%% md\n"
    }
   }
  },
  {
   "cell_type": "markdown",
   "metadata": {},
   "source": [
    "# Exercise 4"
   ]
  },
  {
   "cell_type": "code",
   "execution_count": 121,
   "metadata": {},
   "outputs": [
    {
     "name": "stdout",
     "output_type": "stream",
     "text": [
      "Base array \t: [1.  4.  4.  3.  2.  0.  1.5 1.  4.  3. ]\n",
      "a) Result \t: [ 1.   4.   8.   3.   2.   7.   1.5 -7.   4.   3. ]\n",
      "b) Result \t: [ 1.   4.   8.   7.  -7.   1.   1.5  1.   4.   3. ]\n",
      "c) Result \t: [ 1.  -7.  -7.   3.   2.   0.   1.5  1.  -7.   3. ]\n",
      "d) Result \t: [False False False  True  True False False False False  True]\n",
      "e) Result \t: [3 4 9]\n",
      "f) Result \t: 3\n",
      "g) Result \t: [1.  4.  3.  2.  1.5 4.  3. ]\n",
      "h) Result \t: [1.  4.  4.  3.  2.  1.5 1.  4.  3. ]\n",
      "i) Result \t: 9\n"
     ]
    }
   ],
   "source": [
    "def ex4abc(array, indices, values):\n",
    "    array[indices] = values\n",
    "    return array\n",
    "\n",
    "def ex4d(array, lb, ub):\n",
    "    return np.logical_and(array >= lb, array < ub)\n",
    "\n",
    "def ex4e(array, lb, ub):\n",
    "    return np.logical_and(array >= lb, array < ub).nonzero()[0]\n",
    "\n",
    "def ex4f(array, value):\n",
    "    return len(array[array == value])\n",
    "\n",
    "def ex4g(array, to_delete):\n",
    "    return np.delete(array, to_delete)\n",
    "\n",
    "def ex4h(array):\n",
    "    return array[array.nonzero()]\n",
    "\n",
    "def ex4i(array):\n",
    "    return len(array[array.nonzero()])\n",
    "\n",
    "v = np.asarray([1, 4, 4, 3, 2, 0, 1.5, 1, 4, 3])  # reset\n",
    "print(f'Base array \\t: {v}')\n",
    "print(f'a) Result \\t: {ex4abc(v.copy(), [2, 5, 7], [8, 7, -7])}')\n",
    "print(f'b) Result \\t: {ex4abc(v.copy(), slice(2,6), [8, 7, -7, 1])}')\n",
    "print(f'c) Result \\t: {ex4abc(v.copy(), v==4, -7)}')\n",
    "print(f'd) Result \\t: {ex4d(v.copy(), 2, 4)}')\n",
    "print(f'e) Result \\t: {ex4e(v.copy(), 2, 4)}')\n",
    "print(f'f) Result \\t: {ex4f(v.copy(), 4)}')\n",
    "print(f'g) Result \\t: {ex4g(v.copy(), [2, 5, 7])}')\n",
    "print(f'h) Result \\t: {ex4h(v.copy())}')\n",
    "print(f'i) Result \\t: {ex4i(v.copy())}')"
   ]
  },
  {
   "cell_type": "markdown",
   "metadata": {},
   "source": [
    "# Exercise 5"
   ]
  },
  {
   "cell_type": "code",
   "execution_count": 122,
   "metadata": {},
   "outputs": [
    {
     "name": "stdout",
     "output_type": "stream",
     "text": [
      "Input array I:\t[8 6 3 6 8 9]\n",
      "Input array J:\t[3 8 7]\n",
      "Result:\t\t[6 9]\n"
     ]
    }
   ],
   "source": [
    "def ex5a(large, small):\n",
    "    maxlength = np.max(np.concatenate([large, small]))+1\n",
    "    S = np.bincount(large, minlength = maxlength)\n",
    "    T = np.bincount(small, minlength = maxlength)\n",
    "    A = np.logical_and((S > 0), (T == 0))\n",
    "    return np.nonzero(A)[0]\n",
    "\n",
    "\n",
    "I = np.array([8, 6, 3, 6, 8, 9]); J = np.array([3, 8, 7])  # define inputs\n",
    "\n",
    "print(f'Input array I:\\t{I}')\n",
    "print(f'Input array J:\\t{J}')\n",
    "print(f'Result:\\t\\t{ex5a(I, J)}')"
   ]
  },
  {
   "cell_type": "code",
   "execution_count": 123,
   "outputs": [
    {
     "name": "stdout",
     "output_type": "stream",
     "text": [
      "Result 5b: [6 6 9]\n"
     ]
    }
   ],
   "source": [
    "# 5b\n",
    "def ex5b(large, small):\n",
    "    return large[~np.isin(large, small)]\n",
    "\n",
    "print(f'Result 5b: {ex5b(I, J)}')"
   ],
   "metadata": {
    "collapsed": false,
    "pycharm": {
     "name": "#%%\n"
    }
   }
  },
  {
   "cell_type": "markdown",
   "metadata": {},
   "source": [
    "# Exercise 6"
   ]
  },
  {
   "cell_type": "code",
   "execution_count": 124,
   "metadata": {},
   "outputs": [
    {
     "name": "stdout",
     "output_type": "stream",
     "text": [
      "Result 6a:\t5\n",
      "Result 6b:\t[      5      13      29 ... 9999986 9999989 9999995]\n",
      "Result 6c:\t[1110222 1110442 1111872 1110657 1110405 1113516 1110484 1111816 1110586]\n"
     ]
    }
   ],
   "source": [
    "v = np.random.randint(1, 10, 10**7)  # declare input\n",
    "\n",
    "print(f'Result 6a:\\t{np.argmin(v)}')\n",
    "print(f'Result 6b:\\t{np.where(v == v.min())[0]}')\n",
    "print(f'Result 6c:\\t{np.bincount(v, minlength = 10)[1:]}')"
   ]
  },
  {
   "cell_type": "markdown",
   "metadata": {},
   "source": [
    "# Exercise 7"
   ]
  },
  {
   "cell_type": "code",
   "execution_count": 125,
   "metadata": {},
   "outputs": [
    {
     "name": "stdout",
     "output_type": "stream",
     "text": [
      "Result 7\n",
      "  1  2  3  4  5  6  7  8\n",
      "  1  2  3  4  5  6  7  8\n",
      "  1  2  3  4  5  6  7  8\n",
      "  1  2  3  4  5  6  7  8\n",
      "  1  2  3  4  5  6  7  8\n",
      "  1  2  3  4  5  6  7  8\n",
      "  1  2  3  4  5  6  7  8\n",
      "  1  2  3  4  5  6  7  8\n"
     ]
    }
   ],
   "source": [
    "def ex7(n):\n",
    "    return np.tile(np.arange(1, n+1), (n, 1))\n",
    "\n",
    "n = 8  # declare size\n",
    "me.print_matrix('Result 7', ex7(n))"
   ]
  },
  {
   "cell_type": "markdown",
   "metadata": {},
   "source": [
    "# Exercise 8"
   ]
  },
  {
   "cell_type": "code",
   "execution_count": 126,
   "metadata": {},
   "outputs": [
    {
     "name": "stdout",
     "output_type": "stream",
     "text": [
      "Base matrix:\n",
      "  64   2   3  61  60   6   7  57\n",
      "   9  55  54  12  13  51  50  16\n",
      "  17  47  46  20  21  43  42  24\n",
      "  40  26  27  37  36  30  31  33\n",
      "  32  34  35  29  28  38  39  25\n",
      "  41  23  22  44  45  19  18  48\n",
      "  49  15  14  52  53  11  10  56\n",
      "   8  58  59   5   4  62  63   1\n",
      "Result a)\n",
      "  64   0   0  61  60   0   0  57\n",
      "   0  55  54   0   0  51  50   0\n",
      "   0  47  46   0   0  43  42   0\n",
      "  40   0   0  37  36   0   0  33\n",
      "  32  34  35   0   0  38  39   0\n",
      "  41   0   0  44  45   0   0  48\n",
      "  49   0   0  52  53   0   0  56\n",
      "   0  58  59   0   0  62  63   0\n",
      "Result b)\n",
      "  64   2   3  61  60   6   7  57\n",
      "   9  55  54  12  13  51  50  16\n",
      "  17  47  46  20  21  43  42  24\n",
      "  40  26  27  37  36  30  31  33\n",
      "  41  23  22  44  45  19  18  48\n",
      "  49  15  14  52  53  11  10  56\n",
      "   8  58  59   5   4  62  63   1\n",
      "Result c)\n",
      "  64   2   3  61  60   6   7\n",
      "   9  55  54  12  13  51  50\n",
      "  17  47  46  20  21  43  42\n",
      "  40  26  27  37  36  30  31\n",
      "  32  34  35  29  28  38  39\n",
      "  41  23  22  44  45  19  18\n",
      "  49  15  14  52  53  11  10\n",
      "   8  58  59   5   4  62  63\n",
      "Result d)\n",
      "  64   2   3  61  60   6   7  57\n",
      "   9  55   0  12  13  51  50  16\n",
      "  17  47  46  20  21  43  42  24\n",
      "  40   0  27  37  36  30  31   0\n",
      "  32  34  35  29  28  38  39  25\n",
      "  41  23  22  44  45  19  18  48\n",
      "  49  15  14  52   0  11  10  56\n",
      "   8  58  59   5   4  62  63   1\n",
      "Result e)\n",
      "  1  0  0  0  0  0  0  0\n",
      "  0  2  0  0  0  0  0  0\n",
      "  0  0  3  0  0  0  0  0\n",
      "  0  0  0  4  0  0  0  0\n",
      "  0  0  0  0  5  0  0  0\n",
      "  0  0  0  0  0  6  0  0\n",
      "  0  0  0  0  0  0  7  0\n",
      "  0  0  0  0  0  0  0  8\n",
      "Result e)\n",
      "  1  0  0  0  0  0  0  0\n",
      "  0  2  0  0  0  0  0  0\n",
      "  0  0  3  0  0  0  0  0\n",
      "  0  0  0  4  0  0  0  0\n",
      "  0  0  0  0  5  0  0  0\n",
      "  0  0  0  0  0  6  0  0\n",
      "  0  0  0  0  0  0  7  0\n",
      "  0  0  0  0  0  0  0  8\n"
     ]
    }
   ],
   "source": [
    "def ex8a(matrix, value):\n",
    "    matrix[matrix < value] = 0\n",
    "    return matrix\n",
    "\n",
    "def ex8bc(matrix, n_col_row, n_axis):\n",
    "    return np.delete(matrix, n_col_row, axis=n_axis)\n",
    "\n",
    "def ex8d(matrix, values):\n",
    "    matrix[values] = 0\n",
    "    return matrix\n",
    "\n",
    "def ex8e_1(size):\n",
    "    return np.diag(np.arange(1, size+1, dtype=int))\n",
    "\n",
    "def ex8e_3(size):\n",
    "    # with some form of linear addressing\n",
    "    matrix = np.zeros(size * size, dtype=np.int)\n",
    "    matrix[np.array(range(0, size)) * size + np.array(range(0, size))] = range(1, size + 1)\n",
    "    return np.reshape(matrix, (size, size))\n",
    "\n",
    "\n",
    "size = 8  # input size\n",
    "A = me.magic(size)\n",
    "me.print_matrix('Base matrix:', A)\n",
    "me.print_matrix('Result a)', ex8a(A.copy(), 32))\n",
    "me.print_matrix('Result b)', ex8bc(A.copy(), 4, 0))\n",
    "me.print_matrix('Result c)', ex8bc(A.copy(), -1, 1))\n",
    "input_I = [3, 1, 3, 6]\n",
    "input_J = [1, 2, 7, 4]\n",
    "me.print_matrix('Result d)', ex8d(A.copy(), (input_I, input_J)))\n",
    "me.print_matrix('Result e)', ex8e_1(size))\n",
    "me.print_matrix('Result e)', ex8e_3(size))"
   ]
  },
  {
   "cell_type": "markdown",
   "source": [
    "In the exercise above, we offer two solutions to 8e.\n",
    "It was asked to use linear index addressing, however, this does if not exist in numpy:\n",
    "Therefore, we decided to work around this, by initially declaring the matrix as a vector.\n",
    "This way, linear adressing can be used, even though it is likely not as efficient as the one-line solution offered."
   ],
   "metadata": {
    "collapsed": false,
    "pycharm": {
     "name": "#%% md\n"
    }
   }
  },
  {
   "cell_type": "markdown",
   "metadata": {},
   "source": [
    "# Exercise 9"
   ]
  },
  {
   "cell_type": "code",
   "execution_count": 127,
   "metadata": {},
   "outputs": [
    {
     "name": "stdout",
     "output_type": "stream",
     "text": [
      "Base matrix A\n",
      "  [[0.         0.         0.         0.         0.37189458 0.\n",
      "  0.         0.        ]]\n",
      "                                                            [[0. 0. 0. 0. 0. 0. 0. 0.]]\n",
      "  [[0.71963797 0.         0.         0.         0.         0.\n",
      "  0.         0.        ]]\n",
      "  [[0.02584222 0.         0.         0.         0.         0.\n",
      "  0.         0.        ]]\n",
      "  [[0.         0.         0.         0.50721234 0.         0.\n",
      "  0.         0.        ]]\n",
      "                                                            [[0. 0. 0. 0. 0. 0. 0. 0.]]\n",
      "  [[0.         0.9507732  0.         0.         0.79845092 0.\n",
      "  0.         0.        ]]\n",
      "                                                            [[0. 0. 0. 0. 0. 0. 0. 0.]]\n",
      "Result 9a\n",
      "          [[0 0 0 0 4 0 0 0]]\n",
      "          [[0 0 0 0 0 0 0 0]]\n",
      "  [[20  0  0  0  0  0  0  0]]\n",
      "  [[30  0  0  0  0  0  0  0]]\n",
      "  [[ 0  0  0 43  0  0  0  0]]\n",
      "          [[0 0 0 0 0 0 0 0]]\n",
      "  [[ 0 61  0  0 64  0  0  0]]\n",
      "          [[0 0 0 0 0 0 0 0]]\n",
      "Result 9b\n",
      "  [[2.         2.         2.         2.         0.37189458 2.\n",
      "  2.         2.        ]]\n",
      "                                                            [[2. 2. 2. 2. 2. 2. 2. 2.]]\n",
      "  [[0.71963797 2.         2.         2.         2.         2.\n",
      "  2.         2.        ]]\n",
      "  [[0.02584222 2.         2.         2.         2.         2.\n",
      "  2.         2.        ]]\n",
      "  [[2.         2.         2.         0.50721234 2.         2.\n",
      "  2.         2.        ]]\n",
      "                                                            [[2. 2. 2. 2. 2. 2. 2. 2.]]\n",
      "  [[2.         0.9507732  2.         2.         0.79845092 2.\n",
      "  2.         2.        ]]\n",
      "                                                            [[2. 2. 2. 2. 2. 2. 2. 2.]]\n",
      "Result 9c\n",
      "  [[0 0 0 0 4 0 0 0]]\n",
      "  [[0 0 0 0 0 0 0 0]]\n",
      "  [[0 0 0 0 0 0 0 0]]\n",
      "  [[0 0 0 0 0 0 0 0]]\n",
      "  [[0 0 0 3 0 0 0 0]]\n",
      "  [[0 0 0 0 0 0 0 0]]\n",
      "  [[0 1 0 0 4 0 0 0]]\n",
      "  [[0 0 0 0 0 0 0 0]]\n"
     ]
    },
    {
     "name": "stderr",
     "output_type": "stream",
     "text": [
      "C:\\Users\\s150127\\AppData\\Local\\Continuum\\anaconda3\\envs\\ScientificProgramming\\lib\\site-packages\\ipykernel_launcher.py:22: SparseEfficiencyWarning: Comparing a sparse matrix with 0 using == is inefficient, try using != instead.\n",
      "C:\\Users\\s150127\\AppData\\Local\\Continuum\\anaconda3\\envs\\ScientificProgramming\\lib\\site-packages\\scipy\\sparse\\_index.py:125: SparseEfficiencyWarning: Changing the sparsity structure of a csc_matrix is expensive. lil_matrix is more efficient.\n",
      "  self._set_arrayXarray(i, j, x)\n"
     ]
    }
   ],
   "source": [
    "# declare inputs\n",
    "np.random.seed(623827)\n",
    "n = 8; d = 0.1\n",
    "A = sparse.rand(n, n, d, format='csc')\n",
    "me.print_matrix('Base matrix A', A.todense())\n",
    "\n",
    "def ex9a(matrix):\n",
    "    I, J, V = sparse.find(matrix)\n",
    "    matrix[I, J] = 10*I + J\n",
    "    return matrix.todense().astype(np.int16)\n",
    "\n",
    "def ex9b(matrix):\n",
    "    matrix[matrix == 0] = 2\n",
    "    return matrix.todense()\n",
    "\n",
    "def ex9c(matrix):\n",
    "    I, J, V = sparse.find(matrix)\n",
    "    matrix[I, J] = J\n",
    "    return matrix.todense().astype(np.int16)\n",
    "\n",
    "me.print_matrix('Result 9a', ex9a(A.copy()))\n",
    "me.print_matrix('Result 9b', ex9b(A.copy()))\n",
    "me.print_matrix('Result 9c', ex9c(A.copy()))\n",
    "# 9d is to do"
   ]
  },
  {
   "cell_type": "markdown",
   "metadata": {},
   "source": [
    "# Exercise 10\n",
    "To do with formatting since exercise is not done yet"
   ]
  },
  {
   "cell_type": "code",
   "execution_count": 128,
   "metadata": {},
   "outputs": [
    {
     "name": "stdout",
     "output_type": "stream",
     "text": [
      "Hand:\n",
      "[[10  2]\n",
      " [ 5  1]\n",
      " [ 1  2]\n",
      " [ 2  2]\n",
      " [12  3]\n",
      " [13  1]\n",
      " [10  2]]\n",
      "Hand sorted on rank with indices of original hand:\n",
      "[[13  1  5]\n",
      " [12  3  4]\n",
      " [10  2  6]\n",
      " [10  2  0]\n",
      " [ 5  1  1]\n",
      " [ 2  2  3]\n",
      " [ 1  2  2]]\n",
      "Highest rank per suit:\n",
      "[[13  1  5]\n",
      " [10  2  6]\n",
      " [12  3  4]]\n",
      "Sorted Highest rank per suit:\n",
      "[[12  3  4]\n",
      " [13  1  5]\n",
      " [10  2  6]]\n",
      "Answer:\n",
      "[[12  3]\n",
      " [13  1]\n",
      " [10  2]]\n"
     ]
    }
   ],
   "source": [
    "n = 7\n",
    "np.random.seed(10)\n",
    "suit, rank = np.random.randint(1, 14, size=n), np.random.randint(1, 5, size=n)\n",
    "\n",
    "H = np.array(list(zip(suit,rank, np.arange(n))))\n",
    "print(\"Hand:\")\n",
    "print(np.delete(H,2,axis=1))\n",
    "\n",
    "H_sorted_on_rank = H[np.argsort(H[:,0])][::-1]\n",
    "print(\"Hand sorted on rank with indices of original hand:\")\n",
    "print(H_sorted_on_rank)\n",
    "\n",
    "H_highest_rank_per_suit = H_sorted_on_rank[np.unique(H_sorted_on_rank[:,1], return_index=True)[1]]\n",
    "print(\"Highest rank per suit:\")\n",
    "print(H_highest_rank_per_suit)\n",
    "\n",
    "sorted_answer = H_highest_rank_per_suit[np.argsort(H_highest_rank_per_suit[:,2])]\n",
    "print('Sorted Highest rank per suit:')\n",
    "print(sorted_answer)\n",
    "\n",
    "print(\"Answer:\")\n",
    "print(np.delete(sorted_answer,2, axis=1))"
   ]
  },
  {
   "cell_type": "markdown",
   "metadata": {},
   "source": [
    "# Exercise 11"
   ]
  },
  {
   "cell_type": "code",
   "execution_count": 129,
   "metadata": {},
   "outputs": [
    {
     "name": "stdout",
     "output_type": "stream",
     "text": [
      "Input Matrix:\n",
      "  -10   0  -2  -6  9\n",
      "    6  -6   5   1  1\n",
      "   -9  -2  -6   4  7\n",
      "    9   3  -5   3  9\n",
      "Is given matrix an L-matrix:\t False\n",
      "Input Matrix:\n",
      "  [[ 1  0 -2]]\n",
      "     [[0 4 0]]\n",
      "  [[-9 -2  6]]\n",
      "Is given matrix an L-matrix:\t True\n",
      "Input Matrix:\n",
      "  [[-2 -6  0  1]]\n",
      "  [[ 5 11 -8 -9]]\n",
      "  [[ 0 20 22 -4]]\n",
      "  [[ 3  2  1 -7]]\n",
      "Is given matrix an L-matrix:\t False\n"
     ]
    }
   ],
   "source": [
    "# declare inputs\n",
    "n=4; m=5\n",
    "A = np.random.randint(-10, 10, size=(n,m))\n",
    "\n",
    "# 11a\n",
    "isL = lambda x: np.all(x.diagonal() > 0) & np.all(x[~np.eye(x.shape[0], x.shape[1], dtype=np.bool)] <=0)\n",
    "me.print_matrix('Input Matrix:', A)\n",
    "print(f'Is given matrix an L-matrix:\\t {isL(A)}')\n",
    "\n",
    "# 11b\n",
    "A = sparse.csc_matrix([[1, 0, -2], [0, 4, 0], [-9, -2, 6]])  # new given matrix\n",
    "me.print_matrix('Input Matrix:', A.todense())\n",
    "print(f'Is given matrix an L-matrix:\\t {isL(A)}')\n",
    "\n",
    "# 11c\n",
    "A = sparse.csc_matrix([[-2, -6, 0, 1], [5, 11, -8, -9], [0, 20, 22, -4], [3, 2, 1, -7]])   # new given matrix\n",
    "me.print_matrix('Input Matrix:', A.todense())\n",
    "print(f'Is given matrix an L-matrix:\\t {isL(A)}')"
   ]
  },
  {
   "cell_type": "markdown",
   "metadata": {},
   "source": [
    "# Exercise 12"
   ]
  },
  {
   "cell_type": "code",
   "execution_count": 132,
   "metadata": {},
   "outputs": [
    {
     "name": "stdout",
     "output_type": "stream",
     "text": [
      "Timing for f: 0.0393550700 s.\n",
      "Timing for tridiag: 0.0001060170 s.\n",
      "tridiag is 371.2 times faster than f\n"
     ]
    }
   ],
   "source": [
    "# declare inputs\n",
    "instances = 100\n",
    "n = 10000\n",
    "\n",
    "def f(n: int) -> np.array:\n",
    "    A = np.zeros((n,n))\n",
    "    for i in range(0,n):\n",
    "        A[i,i] = 2\n",
    "        if i > 1:\n",
    "            A[i,i-1] = -1\n",
    "        if i < n-1:\n",
    "            A[i,i+1] = -1\n",
    "    return A\n",
    "\n",
    "def tridiag(n: int) -> np.array:\n",
    "    return sparse.diags([-1, 2, -1], offsets=[-1, 0, 1], shape=(n,n))\n",
    "\n",
    "# run function f\n",
    "t = timeit.Timer(functools.partial(f, n))\n",
    "f_time = t.timeit(instances) / instances\n",
    "print(f\"Timing for f: {f_time:.10f} s.\")\n",
    "\n",
    "# run function tridag\n",
    "t = timeit.Timer(functools.partial(tridiag, n))\n",
    "tridiag_time = t.timeit(instances) / instances\n",
    "print(f\"Timing for tridiag: {tridiag_time:.10f} s.\")\n",
    "\n",
    "# comparison\n",
    "print(f\"tridiag is {f_time / tridiag_time:.1f} times faster than f\")"
   ]
  }
 ],
 "metadata": {
  "kernelspec": {
   "name": "python3",
   "language": "python",
   "display_name": "Python 3"
  },
  "language_info": {
   "codemirror_mode": {
    "name": "ipython",
    "version": 3
   },
   "file_extension": ".py",
   "mimetype": "text/x-python",
   "name": "python",
   "nbconvert_exporter": "python",
   "pygments_lexer": "ipython3",
   "version": "3.7.4"
  }
 },
 "nbformat": 4,
 "nbformat_minor": 4
}