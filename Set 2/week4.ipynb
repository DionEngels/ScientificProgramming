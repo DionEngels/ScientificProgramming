{
 "cells": [
  {
   "cell_type": "markdown",
   "metadata": {
    "pycharm": {
     "name": "#%% md\n"
    }
   },
   "source": [
    "# Graphs\n",
    "\n",
    "## 280. Example with plot"
   ]
  },
  {
   "cell_type": "code",
   "execution_count": null,
   "metadata": {
    "pycharm": {
     "name": "#%%\n"
    }
   },
   "outputs": [],
   "source": [
    "import networkx as nx\n",
    "\n",
    "nodes_pos = {0: (0, 0), 1: (1, 0), 2: (0, 1), 3: (1, 1)}\n",
    "nodes_pos_double = {0: (0.0, 0.0), 1: (1.0, 0.0), 2: (0.0, 1.0), 3: (1.0, 1.0)}\n",
    "arc_list = [(0, 0), (0, 1), (0, 2), (1, 1), (1, 2), (1, 3), (2, 2), (2, 3)]\n",
    "\n",
    "G = nx.DiGraph()\n",
    "G.add_nodes_from(nodes_pos.keys())\n",
    "\n",
    "G.add_edges_from(arc_list)"
   ]
  },
  {
   "cell_type": "markdown",
   "metadata": {
    "pycharm": {
     "name": "#%% md\n"
    }
   },
   "source": [
    "It turns out that drawing self loops with `networkx` is impossible:"
   ]
  },
  {
   "cell_type": "code",
   "execution_count": null,
   "metadata": {
    "pycharm": {
     "name": "#%%\n"
    }
   },
   "outputs": [],
   "source": [
    "# pos is a dictionary with the nodes (that we added before) as keys\n",
    "# and their positions as values.\n",
    "nx.draw(G, pos=nodes_pos)"
   ]
  },
  {
   "cell_type": "markdown",
   "metadata": {
    "pycharm": {
     "name": "#%% md\n"
    }
   },
   "source": [
    "Fortunately, we can use graphviz through `pygraphviz` to create png images (and show them inline in a notebook)."
   ]
  },
  {
   "cell_type": "code",
   "execution_count": null,
   "metadata": {
    "pycharm": {
     "name": "#%%\n"
    }
   },
   "outputs": [],
   "source": [
    "# Requires graphviz (install with pacman on Arch, probably apt-get graphviz on ubuntu)\n",
    "import pygraphviz as pgv\n",
    "from networkx.drawing.nx_pydot import to_pydot\n",
    "from networkx.drawing.nx_agraph import to_agraph\n",
    "from IPython.display import Image\n",
    "\n",
    "g_string = to_pydot(G).to_string()\n",
    "Image(pgv.AGraph(g_string).draw(format='png', prog='dot'))"
   ]
  },
  {
   "cell_type": "markdown",
   "metadata": {
    "pycharm": {
     "name": "#%% md\n"
    }
   },
   "source": [
    "Unfortunately, graphviz (or the dot language) does not have a way to force the nodes to be drawn in a certain position, but networkx can do this.\n",
    "So depending on your use case:\n",
    "\n",
    "- Use `graphviz` when plotting self loops.\n",
    "- Use `networkx` when plotting a graph with nodes in certain positions.\n",
    "\n",
    "In all other cases, use what seems the easiest/most suitable.\n",
    "The `networkx` plots look more consistent with `matplotlib` plots, but `networkx` will deprecate drawing/plotting functionality at some point in the future and encourage tools like `graphviz` (which are made for drawing graphs).\n",
    "\n",
    "For drawing with `graphviz`, we can use the following function:"
   ]
  },
  {
   "cell_type": "code",
   "execution_count": null,
   "metadata": {
    "pycharm": {
     "name": "#%%\n"
    }
   },
   "outputs": [],
   "source": [
    "def draw(g, path=None):\n",
    "    \"\"\"\n",
    "    Draw the graph g and return as png. The graph is plotted inline in an IPython notebook.\n",
    "    When a path is given, also save the image to a file at path, using the export function.\n",
    "    \"\"\"\n",
    "    if path is not None:\n",
    "        to_agraph(G).draw(format='png', prog='dot', path=path)\n",
    "    return Image(to_agraph(G).draw(format='png', prog='dot'))\n",
    "\n",
    "draw(G, 'test.png')\n",
    "draw(G)"
   ]
  },
  {
   "cell_type": "markdown",
   "metadata": {
    "pycharm": {
     "name": "#%% md\n"
    }
   },
   "source": [
    "## 295. Connectivity matrix example"
   ]
  },
  {
   "cell_type": "code",
   "execution_count": null,
   "metadata": {
    "pycharm": {
     "name": "#%%\n"
    }
   },
   "outputs": [],
   "source": [
    "import numpy as np\n",
    "import scipy.sparse as sparse\n",
    "\n",
    "A = sparse.random(8, 8, 0.2, data_rvs=np.ones)\n",
    "A.toarray()  # To print A"
   ]
  },
  {
   "cell_type": "markdown",
   "metadata": {
    "pycharm": {
     "name": "#%% md\n"
    }
   },
   "source": [
    "## 302. Incidence matrix"
   ]
  },
  {
   "cell_type": "code",
   "execution_count": null,
   "metadata": {
    "pycharm": {
     "name": "#%%\n"
    }
   },
   "outputs": [],
   "source": [
    "import networkx.linalg.graphmatrix as gm\n",
    "G = nx.gn_graph(5)\n",
    "# oriented=True is needed to get the directed/oriented incidence matrix.\n",
    "gm.incidence_matrix(G, oriented=True).toarray()"
   ]
  },
  {
   "cell_type": "markdown",
   "metadata": {
    "pycharm": {
     "name": "#%% md\n"
    }
   },
   "source": [
    "## 305. Incidence matrix"
   ]
  },
  {
   "cell_type": "code",
   "execution_count": null,
   "metadata": {
    "pycharm": {
     "name": "#%%\n"
    }
   },
   "outputs": [],
   "source": [
    "n = 4\n",
    "arc_list = [(1, 1), (1,2), (1,3), (2, 2), (2, 3), (2, 4), (3, 3), (3, 4)]\n",
    "G = nx.DiGraph()\n",
    "G.add_nodes_from(range(1, n+1))\n",
    "G.add_edges_from(arc_list)\n",
    "gm.incidence_matrix(G, oriented=True).toarray()"
   ]
  },
  {
   "cell_type": "markdown",
   "metadata": {
    "pycharm": {
     "name": "#%% md\n"
    }
   },
   "source": [
    "## 306. Mathamatica GraphPlot[]\n",
    "\n",
    "Skipping this example for several reasons:\n",
    "\n",
    "1. It is not very useful in the context of the course (I also don't remember that I needed this during the course).\n",
    "2. There exist dedicated graph visualization libraries, like graphviz.\n",
    "3. I don't have Mathematica installed and probably can't get to a license anymore."
   ]
  },
  {
   "cell_type": "markdown",
   "metadata": {
    "pycharm": {
     "name": "#%% md\n"
    }
   },
   "source": [
    "## 310. Hamiltonian path"
   ]
  },
  {
   "cell_type": "code",
   "execution_count": null,
   "metadata": {
    "pycharm": {
     "name": "#%%\n"
    }
   },
   "outputs": [],
   "source": [
    "def plot_dodecahedral_graph(layout):\n",
    "    G = nx.dodecahedral_graph()\n",
    "    pos = layout(G)\n",
    "    nx.draw_networkx_nodes(G, pos)\n",
    "    nx.draw_networkx_edges(G, pos)\n",
    "    ham_cycle = list(zip(range(19), range(1, 20))) + [(19, 0)]\n",
    "    nx.draw_networkx_edges(G, pos, edgelist=ham_cycle, edge_color='red', width=2)\n",
    "\n",
    "plot_dodecahedral_graph(nx.kamada_kawai_layout)"
   ]
  },
  {
   "cell_type": "markdown",
   "metadata": {
    "pycharm": {
     "name": "#%% md\n"
    }
   },
   "source": [
    "The planar layout doesn't look good:"
   ]
  },
  {
   "cell_type": "code",
   "execution_count": null,
   "metadata": {
    "pycharm": {
     "name": "#%%\n"
    }
   },
   "outputs": [],
   "source": [
    "plot_dodecahedral_graph(nx.planar_layout)"
   ]
  },
  {
   "cell_type": "markdown",
   "metadata": {
    "pycharm": {
     "name": "#%% md\n"
    }
   },
   "source": [
    "# Permutations\n",
    "\n",
    "## 321. Permutations: representations"
   ]
  },
  {
   "cell_type": "code",
   "execution_count": null,
   "metadata": {
    "pycharm": {
     "name": "#%%\n"
    }
   },
   "outputs": [],
   "source": [
    "A = sparse.random(8, 8, .3, format='csc', data_rvs=np.ones, dtype='uint8')\n",
    "A.A  # Just found out that .A is equivalent with .toarray()"
   ]
  },
  {
   "cell_type": "markdown",
   "metadata": {
    "pycharm": {
     "name": "#%% md\n"
    }
   },
   "source": [
    "The following is equivalent to Matlab's `A(p, p)`:\n",
    "https://stackoverflow.com/a/45739482/6629569"
   ]
  },
  {
   "cell_type": "code",
   "execution_count": null,
   "metadata": {
    "pycharm": {
     "name": "#%%\n"
    }
   },
   "outputs": [],
   "source": [
    "p = [3, 6, 0, 4, 1, 2, 7, 5]\n",
    "I, J = np.ix_(p, p)\n",
    "B = A[I, J]\n",
    "B.A"
   ]
  },
  {
   "cell_type": "markdown",
   "metadata": {
    "pycharm": {
     "name": "#%% md\n"
    }
   },
   "source": [
    "## 322. Inverse permutation\n",
    "\n",
    "Define (linear-time) function to get the inverse permutation array.\n",
    "https://stackoverflow.com/a/25535723/6629569\n",
    "\n",
    "Apply it to B to check if we get A back:"
   ]
  },
  {
   "cell_type": "code",
   "execution_count": null,
   "metadata": {
    "pycharm": {
     "name": "#%%\n"
    }
   },
   "outputs": [],
   "source": [
    "def inverse_permutation(p):\n",
    "    q = np.empty_like(p)\n",
    "    q[p] = np.arange(len(p))\n",
    "    return q\n",
    "\n",
    "q = inverse_permutation(p)\n",
    "I, J = np.ix_(q, q)\n",
    "B[I, J].A"
   ]
  },
  {
   "cell_type": "markdown",
   "metadata": {
    "pycharm": {
     "name": "#%% md\n"
    }
   },
   "source": [
    "## 323. Random permutation"
   ]
  },
  {
   "cell_type": "code",
   "execution_count": null,
   "metadata": {
    "pycharm": {
     "name": "#%%\n"
    }
   },
   "outputs": [],
   "source": [
    "np.random.permutation(12)"
   ]
  },
  {
   "cell_type": "code",
   "execution_count": null,
   "metadata": {
    "pycharm": {
     "name": "#%%\n"
    }
   },
   "outputs": [],
   "source": [
    "np.random.permutation(12)[:5]"
   ]
  },
  {
   "cell_type": "markdown",
   "metadata": {
    "pycharm": {
     "name": "#%% md\n"
    }
   },
   "source": [
    "# Reordering algorithms\n",
    "\n",
    "The test matrix used in the slides:"
   ]
  },
  {
   "cell_type": "code",
   "execution_count": null,
   "metadata": {
    "pycharm": {
     "name": "#%%\n"
    }
   },
   "outputs": [],
   "source": [
    "nodes = range(1, 17)\n",
    "edge_list = [(1, 2), (1, 5), (1, 6), (2, 3), (2, 6), (2, 7), (3, 4), (3, 7), (4, 7), (4, 8), (5, 6), (5, 9), (5, 10), (6, 10), (6, 7), (7, 11), (7, 8), (8, 11), (8, 12), (9, 10), (9, 13), (10, 13), (10, 14), (10, 11), (11, 15), (11, 16), (11, 12), (12, 16), (13, 14), (14, 15), (15, 16)]\n",
    "G = nx.Graph()\n",
    "G.add_nodes_from(nodes)\n",
    "G.add_edges_from(edge_list)\n",
    "nx.draw(G, with_labels=True)"
   ]
  },
  {
   "cell_type": "markdown",
   "metadata": {
    "pycharm": {
     "name": "#%% md\n"
    }
   },
   "source": [
    "It looks like `scipy.sparse.csgraph` has some of the reordering algorithms mentioned in the lecture notes.\n",
    "At least:\n",
    "\n",
    "### 1. BFS levelset\n",
    "_This could also be 2. BFS queue, depending on the actual implementation?_\n",
    "\n",
    "Note that `i_start` is the index of the adjacency matrix.\n",
    "Thus, even though we have indexed our nodes starting at 1, in the adjacency matrix the indices start from 0 (as they always do in Python)."
   ]
  },
  {
   "cell_type": "code",
   "execution_count": null,
   "metadata": {
    "pycharm": {
     "name": "#%%\n"
    }
   },
   "outputs": [],
   "source": [
    "import scipy.sparse.csgraph as csgraph\n",
    "\n",
    "csgraph.breadth_first_order(gm.adjacency_matrix(G), i_start=0, return_predecessors=False)"
   ]
  },
  {
   "cell_type": "markdown",
   "metadata": {
    "pycharm": {
     "name": "#%% md\n"
    }
   },
   "source": [
    "### 4. Reverse Cuthill McKee"
   ]
  },
  {
   "cell_type": "code",
   "execution_count": null,
   "metadata": {
    "pycharm": {
     "name": "#%%\n"
    }
   },
   "outputs": [],
   "source": [
    "csgraph.reverse_cuthill_mckee(gm.adjacency_matrix(G))"
   ]
  },
  {
   "cell_type": "markdown",
   "metadata": {
    "pycharm": {
     "name": "#%% md\n"
    }
   },
   "source": [
    "# Grids\n",
    "\n",
    "## 450. Triangular grid"
   ]
  },
  {
   "cell_type": "code",
   "execution_count": null,
   "metadata": {
    "pycharm": {
     "name": "#%%\n"
    }
   },
   "outputs": [],
   "source": [
    "from scipy.spatial import Delaunay\n",
    "import matplotlib.pyplot as plt\n",
    "\n",
    "points = np.array([[0, 0], [1, 0], [0, 1], [1, 1]])\n",
    "triangles = np.array([[0, 1, 2], [1, 2, 3]])\n",
    "plt.triplot(points[:, 0], points[:, 1], triangles)"
   ]
  },
  {
   "cell_type": "code",
   "execution_count": null,
   "metadata": {
    "pycharm": {
     "name": "#%%\n"
    }
   },
   "outputs": [],
   "source": [
    "tri = Delaunay(points)\n",
    "plt.triplot(points[:, 0], points[:, 1], tri.simplices)"
   ]
  },
  {
   "cell_type": "markdown",
   "metadata": {},
   "source": [
    "## 451. Grid\n",
    "\n",
    "Little showcase to check if `trimesh` is working:\n",
    "(uncomment the `mesh.show()`, it is too heavy for PyCharm to keep it running...)"
   ]
  },
  {
   "cell_type": "code",
   "execution_count": null,
   "metadata": {
    "pycharm": {
     "name": "#%%\n"
    }
   },
   "outputs": [],
   "source": [
    "import trimesh\n",
    "\n",
    "mesh = trimesh.primitives.Sphere()\n",
    "# mesh.show()"
   ]
  },
  {
   "cell_type": "code",
   "execution_count": null,
   "metadata": {
    "pycharm": {
     "name": "#%%\n"
    }
   },
   "outputs": [],
   "source": [
    "vertices = np.array([[1.0, 1.0, 1.0], [2.0, 1.0, 1.0], [1.0, 2.0, 1.0], [1.0, 1.0, 2.0], [2.0, 2.0, 2.0]])\n",
    "\n",
    "# We need both sides of each face, otherwise the face will be invisible from one side.\n",
    "# There are better ways to do this, but for this example it is good enough.\n",
    "faces = [\n",
    "    [0, 1, 2], [0, 2, 3], [0, 3, 1], [4, 1, 2], [4, 2, 3], [4, 1, 3],\n",
    "    [0, 2, 1], [0, 3, 2], [0, 1, 3], [4, 2, 1], [4, 3, 1], [4, 3, 1]\n",
    "]\n",
    "\n",
    "mesh = trimesh.Trimesh(\n",
    "    vertices=vertices,\n",
    "    faces=faces\n",
    ")\n",
    "\n",
    "# mesh.show()"
   ]
  },
  {
   "cell_type": "markdown",
   "metadata": {
    "pycharm": {
     "name": "#%% md\n"
    }
   },
   "source": [
    "## 461. Grid connectivity matrix\n",
    "\n",
    "Math walks of the slide :p\n"
   ]
  }
 ],
 "metadata": {
  "jupytext": {
   "formats": "src/notebooks//ipynb,src/python//py:light"
  },
  "kernelspec": {
   "display_name": "Python 3",
   "language": "python",
   "name": "python3"
  },
  "language_info": {
   "codemirror_mode": {
    "name": "ipython",
    "version": 3
   },
   "file_extension": ".py",
   "mimetype": "text/x-python",
   "name": "python",
   "nbconvert_exporter": "python",
   "pygments_lexer": "ipython3",
   "version": "3.8.5"
  }
 },
 "nbformat": 4,
 "nbformat_minor": 4
}
