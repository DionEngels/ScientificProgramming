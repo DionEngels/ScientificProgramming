{
 "cells": [
  {
   "cell_type": "code",
   "execution_count": 2,
   "metadata": {},
   "outputs": [],
   "source": [
    "import numpy as np\n",
    "import networkx as nx\n",
    "from scipy import sparse\n",
    "import itertools\n",
    "import given_material.mlext as me\n",
    "from given_material.plot_graph import plot_graph\n",
    "from given_material.square_triangular_grid import square_triangular_grid\n",
    "from given_material.reorder import *\n",
    "import scipy.stats as ss"
   ]
  },
  {
   "cell_type": "markdown",
   "metadata": {},
   "source": [
    "### Exercise 1"
   ]
  },
  {
   "cell_type": "code",
   "execution_count": 3,
   "metadata": {},
   "outputs": [],
   "source": [
    "A = [[-2, -8, -7, 0, 0, 1],\n",
    "     [1, 2, 0, -8, 0, 0],\n",
    "     [-5, 0, 1, -7, 0, 0],\n",
    "     [0, 0, 0, 0, 0, 0],\n",
    "     [0, 5, 0, 0, 8, -8],\n",
    "     [0, 0, 0, 0, 0, 0]]"
   ]
  },
  {
   "cell_type": "code",
   "execution_count": 4,
   "metadata": {},
   "outputs": [
    {
     "name": "stdout",
     "output_type": "stream",
     "text": [
      " n: 6 \n",
      " m: 6 \n",
      " I: [0 1 2 0 1 4 0 2 1 2 4 0 4] \n",
      " J: [0 0 0 1 1 1 2 2 3 3 4 5 5] \n",
      " V: [-2  1 -5 -8  2  5 -7  1 -8 -7  8  1 -8]\n"
     ]
    }
   ],
   "source": [
    "### a\n",
    "def ex1a(mat):\n",
    "    coo_mat = sparse.coo_matrix(mat)\n",
    "    n, m = coo_mat.shape\n",
    "    I, J, V = sparse.find(coo_mat)\n",
    "    print(f\" n: {n} \\n m: {m} \\n I: {I} \\n J: {J} \\n V: {V}\")\n",
    "\n",
    "ex1a(A.copy())"
   ]
  },
  {
   "cell_type": "code",
   "execution_count": 5,
   "metadata": {},
   "outputs": [
    {
     "name": "stdout",
     "output_type": "stream",
     "text": [
      " n: 6 \n",
      " m: 6 \n",
      " I: [0 1 2 0 1 4 0 2 1 2 4 0 4] \n",
      " N: [3 3 2 2 1 2] \n",
      " V: [-2  1 -5 -8  2  5 -7  1 -8 -7  8  1 -8]\n"
     ]
    }
   ],
   "source": [
    "### b\n",
    "def ex1b(mat):\n",
    "    csc_mat = sparse.csc_matrix(mat)\n",
    "    n, m = csc_mat.shape\n",
    "    I, J, V = sparse.find(csc_mat)\n",
    "    N = np.bincount(J)\n",
    "    print(f\" n: {n} \\n m: {m} \\n I: {I} \\n N: {N} \\n V: {V}\")\n",
    "\n",
    "ex1b(A.copy())"
   ]
  },
  {
   "cell_type": "code",
   "execution_count": 6,
   "metadata": {},
   "outputs": [
    {
     "data": {
      "text/plain": [
       "matrix([[0., 0., 0., 0., 0., 0., 0., 0., 0., 7.],\n",
       "        [0., 0., 0., 0., 0., 0., 0., 0., 0., 0.],\n",
       "        [0., 8., 8., 0., 0., 0., 0., 0., 0., 0.],\n",
       "        [0., 0., 0., 0., 0., 0., 8., 0., 0., 0.],\n",
       "        [0., 0., 0., 0., 0., 0., 0., 0., 0., 0.],\n",
       "        [0., 7., 0., 7., 0., 0., 0., 0., 0., 0.],\n",
       "        [0., 0., 0., 0., 0., 0., 0., 0., 8., 0.],\n",
       "        [0., 0., 0., 0., 0., 0., 0., 0., 0., 4.]])"
      ]
     },
     "execution_count": 6,
     "metadata": {},
     "output_type": "execute_result"
    }
   ],
   "source": [
    "### c\n",
    "def sprandi(interval, n, m, d):\n",
    "    return sparse.random(n, m, density=d, data_rvs=ss.randint(interval[0], interval[1]+1).rvs)\n",
    "\n",
    "k = 1\n",
    "l = 8\n",
    "n = 8\n",
    "m = 10\n",
    "d = 0.1\n",
    "\n",
    "sprandi([k,l], n, m, d).todense()\n"
   ]
  },
  {
   "cell_type": "markdown",
   "metadata": {},
   "source": [
    "### Exercise 2"
   ]
  },
  {
   "cell_type": "code",
   "execution_count": 7,
   "metadata": {},
   "outputs": [],
   "source": [
    "A = np.random.randint(*[0,2], (8,8))"
   ]
  },
  {
   "cell_type": "code",
   "execution_count": 8,
   "metadata": {},
   "outputs": [
    {
     "data": {
      "text/plain": [
       "matrix([[ 0,  0,  0,  3,  0,  0,  0,  7],\n",
       "        [ 0,  0, 12, 13,  0,  0,  0,  0],\n",
       "        [20, 21, 22,  0, 24, 25, 26, 27],\n",
       "        [30, 31,  0,  0,  0, 35,  0, 37],\n",
       "        [ 0,  0,  0, 43,  0,  0, 46,  0],\n",
       "        [ 0,  0, 52, 53, 54, 55, 56, 57],\n",
       "        [ 0,  0, 62, 63, 64,  0,  0, 67],\n",
       "        [70,  0, 72,  0,  0, 75, 76,  0]], dtype=int64)"
      ]
     },
     "execution_count": 8,
     "metadata": {},
     "output_type": "execute_result"
    }
   ],
   "source": [
    "### a\n",
    "def ex2a(mat):\n",
    "    mat = sparse.csc_matrix(mat)\n",
    "    I, J, V = sparse.find(mat)\n",
    "\n",
    "    mat[I,J] = 10 * I + J\n",
    "    \n",
    "    return mat\n",
    "\n",
    "ex2a(A.copy()).todense()"
   ]
  },
  {
   "cell_type": "code",
   "execution_count": 9,
   "metadata": {},
   "outputs": [
    {
     "data": {
      "text/plain": [
       "array([[ 0,  1,  2,  3,  4,  5,  6,  7],\n",
       "       [10, 11, 12, 13, 14, 15, 16, 17],\n",
       "       [20, 21, 22, 23, 24, 25, 26, 27],\n",
       "       [30, 31, 32, 33, 34, 35, 36, 37],\n",
       "       [40, 41, 42, 43, 44, 45, 46, 47],\n",
       "       [50, 51, 52, 53, 54, 55, 56, 57],\n",
       "       [60, 61, 62, 63, 64, 65, 66, 67],\n",
       "       [70, 71, 72, 73, 74, 75, 76, 77]])"
      ]
     },
     "execution_count": 9,
     "metadata": {},
     "output_type": "execute_result"
    }
   ],
   "source": [
    "### b\n",
    "def ex2b(mat):\n",
    "    I, J, V = sparse.find(mat+1)\n",
    "    mat[I,J] = 10 * I + J\n",
    "    \n",
    "    return mat\n",
    "\n",
    "ex2b(A.copy())"
   ]
  },
  {
   "cell_type": "code",
   "execution_count": 10,
   "metadata": {},
   "outputs": [
    {
     "data": {
      "text/plain": [
       "array([[1, 0, 0, 1, 0, 0, 0, 1],\n",
       "       [0, 0, 7, 1, 0, 0, 0, 0],\n",
       "       [1, 1, 7, 0, 1, 1, 7, 1],\n",
       "       [1, 1, 0, 0, 0, 1, 0, 1],\n",
       "       [0, 0, 0, 1, 0, 0, 7, 0],\n",
       "       [0, 0, 7, 1, 1, 1, 7, 1],\n",
       "       [0, 0, 7, 1, 1, 0, 0, 1],\n",
       "       [1, 0, 7, 0, 0, 1, 7, 0]])"
      ]
     },
     "execution_count": 10,
     "metadata": {},
     "output_type": "execute_result"
    }
   ],
   "source": [
    "def ex2c(mat):\n",
    "    I, J, V = sparse.find(mat)\n",
    "    mat[I[(J == 2) | (J == 6)], J[(J == 2) | (J == 6)]] = 7\n",
    "    return mat\n",
    "\n",
    "ex2c(A.copy())"
   ]
  },
  {
   "cell_type": "markdown",
   "metadata": {},
   "source": [
    "### Exercise 3"
   ]
  },
  {
   "cell_type": "code",
   "execution_count": 11,
   "metadata": {},
   "outputs": [
    {
     "data": {
      "text/plain": [
       "matrix([[ 0.,  0.,  0.,  0.,  0.,  0.,  0.,  0.,  0.,  0.],\n",
       "        [ 0.,  0.,  0.,  0.,  0.,  0.,  0.,  0.,  0.,  0.],\n",
       "        [ 0.,  0.,  0.,  0.,  0.,  0.,  0.,  0.,  0.,  0.],\n",
       "        [ 0.,  0.,  0.,  0.,  0.,  0.,  0.,  0.,  0.,  0.],\n",
       "        [ 0.,  0.,  0.,  0.,  0.,  0.,  0.,  0.,  0.,  0.],\n",
       "        [ 0., -1.,  0.,  0.,  0.,  0.,  0.,  0.,  0.,  0.],\n",
       "        [ 2.,  0.,  0., -3., -3.,  0.,  0.,  0.,  0.,  0.],\n",
       "        [ 0.,  0.,  0.,  0.,  0.,  0.,  0.,  0.,  0.,  0.],\n",
       "        [ 0.,  1.,  0.,  6.,  0.,  0.,  0.,  0.,  0.,  0.],\n",
       "        [ 0.,  0.,  5.,  0.,  0.,  0.,  0.,  0.,  0.,  0.]])"
      ]
     },
     "execution_count": 11,
     "metadata": {},
     "output_type": "execute_result"
    }
   ],
   "source": [
    "### a\n",
    "def ex3a(n, k, l):\n",
    "    A = sparse.random(int(n/2), int(n/2), density= l / (n**2/4), data_rvs=ss.randint(-k, k+1).rvs)\n",
    "    return sparse.kron([[0,0], [1,0]], A).todense()\n",
    "\n",
    "n = 10\n",
    "k = 6\n",
    "l = 8\n",
    "\n",
    "ex3a(n,k,l)"
   ]
  },
  {
   "cell_type": "code",
   "execution_count": 12,
   "metadata": {},
   "outputs": [
    {
     "name": "stdout",
     "output_type": "stream",
     "text": [
      "[[1. 0. 0. 0. 0.]\n",
      " [1. 1. 0. 0. 0.]\n",
      " [9. 5. 1. 0. 0.]\n",
      " [5. 8. 9. 1. 0.]\n",
      " [3. 1. 9. 2. 1.]]\n",
      "[[0. 0. 0. 0. 0.]\n",
      " [0. 9. 0. 0. 0.]\n",
      " [0. 0. 3. 0. 0.]\n",
      " [0. 0. 0. 3. 0.]\n",
      " [0. 0. 0. 0. 7.]]\n"
     ]
    }
   ],
   "source": [
    "### b\n",
    "n = 5\n",
    "A = np.random.randint(0,10, size=(n,n))\n",
    "L = sparse.csc_matrix(sparse.tril(A, k= -1).toarray() + np.eye(n))\n",
    "print(L.toarray())\n",
    "D = sparse.diags(np.random.randint(0, 10, size=n), shape=(n,n))\n",
    "print(D.toarray())"
   ]
  },
  {
   "cell_type": "code",
   "execution_count": 13,
   "metadata": {},
   "outputs": [
    {
     "data": {
      "text/plain": [
       "array([[  0.,   0.,   0.,   0.,   0.],\n",
       "       [  0.,   9.,  45.,  72.,   9.],\n",
       "       [  0.,  45., 228., 387.,  72.],\n",
       "       [  0.,  72., 387., 822., 321.],\n",
       "       [  0.,   9.,  72., 321., 271.]])"
      ]
     },
     "execution_count": 13,
     "metadata": {},
     "output_type": "execute_result"
    }
   ],
   "source": [
    "LDLT = (L * D * L.T)\n",
    "LDLT.toarray()"
   ]
  },
  {
   "cell_type": "markdown",
   "metadata": {},
   "source": [
    "### Exercise 4"
   ]
  },
  {
   "cell_type": "code",
   "execution_count": 14,
   "metadata": {},
   "outputs": [],
   "source": [
    "import pygraphviz as pgv\n",
    "from networkx.drawing.nx_pydot import to_pydot\n",
    "from networkx.drawing.nx_agraph import to_agraph\n",
    "from IPython.display import Image\n"
   ]
  },
  {
   "cell_type": "code",
   "execution_count": 15,
   "metadata": {},
   "outputs": [],
   "source": [
    "def draw(G, path=None):\n",
    "    \"\"\"\n",
    "    Draw the graph g and return as png. The graph is plotted inline in an IPython notebook.\n",
    "    When a path is given, also save the image to a file at path, using the export function.\n",
    "    \"\"\"\n",
    "    if path is not None:\n",
    "        to_agraph(G).draw(format='png', prog='dot', path=path)\n",
    "    return Image(to_agraph(G).draw(format='png', prog='dot'))\n"
   ]
  },
  {
   "cell_type": "code",
   "execution_count": 16,
   "metadata": {},
   "outputs": [],
   "source": [
    "n = 8\n",
    "V = np.arange(n)\n",
    "C = sparse.dok_matrix([[1, 0, 1, 0, 0, 0, 0, 0],[0, 0, 0, 0, 1, 0, 0, 1],[1, 0, 1, 0, 0, 1, 1, 0],[1, 0, 1, 0, 1, 1, 1, 1],[1, 0, 1, 1, 1, 0, 0, 0],[0, 0, 1, 0, 0, 1, 1, 0],[1, 0, 0, 0, 1, 0, 0, 0],[0, 1, 0, 0, 0, 1, 1, 0]])\n",
    "XY = np.array([[1,2,3,1,2,3,1,2],[1,1,1,2,2,2,3,3]])"
   ]
  },
  {
   "cell_type": "code",
   "execution_count": 17,
   "metadata": {},
   "outputs": [
    {
     "name": "stderr",
     "output_type": "stream",
     "text": [
      "/Users/larsschilders/opt/anaconda3/lib/python3.7/site-packages/networkx/drawing/nx_pylab.py:579: MatplotlibDeprecationWarning: \n",
      "The iterable function was deprecated in Matplotlib 3.1 and will be removed in 3.3. Use np.iterable instead.\n",
      "  if not cb.iterable(width):\n"
     ]
    }
   ],
   "source": [
    "G = plot_graph(C, XY)"
   ]
  },
  {
   "cell_type": "code",
   "execution_count": 18,
   "metadata": {},
   "outputs": [
    {
     "data": {
      "image/png": "[encoded data removed]",
      "text/plain": [
       "<IPython.core.display.Image object>"
      ]
     },
     "execution_count": 18,
     "metadata": {},
     "output_type": "execute_result"
    }
   ],
   "source": [
    "draw(G)"
   ]
  },
  {
   "cell_type": "code",
   "execution_count": 19,
   "metadata": {},
   "outputs": [
    {
     "data": {
      "text/plain": [
       "array([[1, 0, 1, 0, 0, 0, 0, 0],\n",
       "       [0, 0, 0, 0, 1, 0, 0, 1],\n",
       "       [1, 0, 1, 0, 0, 1, 1, 0],\n",
       "       [1, 0, 1, 0, 1, 1, 1, 1],\n",
       "       [1, 0, 1, 1, 1, 0, 0, 0],\n",
       "       [0, 0, 1, 0, 0, 1, 1, 0],\n",
       "       [1, 0, 0, 0, 1, 0, 0, 0],\n",
       "       [0, 1, 0, 0, 0, 1, 1, 0]])"
      ]
     },
     "execution_count": 19,
     "metadata": {},
     "output_type": "execute_result"
    }
   ],
   "source": [
    "C.toarray()"
   ]
  },
  {
   "cell_type": "code",
   "execution_count": 20,
   "metadata": {},
   "outputs": [
    {
     "data": {
      "text/plain": [
       "array([3, 5, 7])"
      ]
     },
     "execution_count": 20,
     "metadata": {},
     "output_type": "execute_result"
    }
   ],
   "source": [
    "### c\n",
    "def ex4c(n, processed_list):\n",
    "    U = np.arange(1,n+1)\n",
    "    proc = np.array(processed_list)\n",
    "    U[proc-1] = 0\n",
    "    \n",
    "    return U[np.nonzero(U)[0]]\n",
    "\n",
    "n = 8\n",
    "processed_list = [1,2,4,6,8]\n",
    "\n",
    "ex4c(n, processed_list)"
   ]
  },
  {
   "cell_type": "code",
   "execution_count": 21,
   "metadata": {},
   "outputs": [
    {
     "data": {
      "text/plain": [
       "array([6, 2, 3])"
      ]
     },
     "execution_count": 21,
     "metadata": {},
     "output_type": "execute_result"
    }
   ],
   "source": [
    "### d\n",
    "def degr(C, VL):\n",
    "    # make entries of self-loops zero and rest of diagonal -1\n",
    "    A = C - np.eye(C.shape[0])\n",
    "    return np.bincount(sparse.find(A[VL] > 0)[0])\n",
    "\n",
    "VL = [3,1,7]\n",
    "degr(C, VL)"
   ]
  },
  {
   "cell_type": "code",
   "execution_count": 22,
   "metadata": {},
   "outputs": [
    {
     "data": {
      "text/plain": [
       "array([[1, 0, 1, 1, 1, 0, 1, 0],\n",
       "       [0, 0, 0, 0, 1, 0, 0, 2],\n",
       "       [3, 0, 3, 3, 3, 3, 1, 0],\n",
       "       [1, 0, 1, 0, 4, 1, 1, 1],\n",
       "       [1, 5, 1, 5, 5, 0, 5, 0],\n",
       "       [0, 0, 6, 6, 0, 6, 1, 6],\n",
       "       [1, 0, 7, 7, 1, 7, 0, 7],\n",
       "       [0, 8, 0, 8, 0, 1, 1, 0]])"
      ]
     },
     "execution_count": 22,
     "metadata": {},
     "output_type": "execute_result"
    }
   ],
   "source": [
    "### e\n",
    "def ex4e(C):\n",
    "    I, J, V = sparse.find(C.T)\n",
    "    C[I,J] = I + 1\n",
    "    return C\n",
    "\n",
    "N = ex4e(C.copy())\n",
    "N.toarray()"
   ]
  },
  {
   "cell_type": "code",
   "execution_count": 23,
   "metadata": {},
   "outputs": [
    {
     "data": {
      "text/plain": [
       "(array([0, 2, 3, 4, 6, 4, 7, 0, 2, 3, 4, 5, 6, 0, 2, 4, 5, 6, 7, 0, 1, 2,\n",
       "        3, 4, 6, 2, 3, 5, 6, 7, 0, 2, 3, 4, 5, 7, 1, 3, 5, 6], dtype=int32),\n",
       " array([0, 0, 0, 0, 0, 1, 1, 2, 2, 2, 2, 2, 2, 3, 3, 3, 3, 3, 3, 4, 4, 4,\n",
       "        4, 4, 4, 5, 5, 5, 5, 5, 6, 6, 6, 6, 6, 6, 7, 7, 7, 7], dtype=int32),\n",
       " array([1, 3, 1, 1, 1, 5, 8, 1, 3, 1, 1, 6, 7, 1, 3, 5, 6, 7, 8, 1, 1, 3,\n",
       "        4, 5, 1, 3, 1, 6, 7, 1, 1, 1, 1, 5, 1, 1, 2, 1, 6, 7]))"
      ]
     },
     "execution_count": 23,
     "metadata": {},
     "output_type": "execute_result"
    }
   ],
   "source": [
    "### f\n",
    "sparse.find(N)"
   ]
  },
  {
   "cell_type": "code",
   "execution_count": 24,
   "metadata": {},
   "outputs": [
    {
     "data": {
      "text/plain": [
       "array([[0, 1, 1],\n",
       "       [0, 0, 0],\n",
       "       [0, 3, 3],\n",
       "       [0, 0, 1],\n",
       "       [5, 5, 1],\n",
       "       [0, 6, 0],\n",
       "       [0, 7, 1],\n",
       "       [8, 8, 0]])"
      ]
     },
     "execution_count": 24,
     "metadata": {},
     "output_type": "execute_result"
    }
   ],
   "source": [
    "### g\n",
    "def ex4g(N, vertices):\n",
    "    return N[:,np.array(vertices)-1]\n",
    "\n",
    "vertices = [2,4,1]\n",
    "ex4g(N.copy(), vertices).toarray()"
   ]
  },
  {
   "cell_type": "code",
   "execution_count": 25,
   "metadata": {},
   "outputs": [
    {
     "data": {
      "text/plain": [
       "array([1, 3, 5, 6, 7, 8])"
      ]
     },
     "execution_count": 25,
     "metadata": {},
     "output_type": "execute_result"
    }
   ],
   "source": [
    "def ex4h(N):\n",
    "    _, _, V = sparse.find(N)\n",
    "    unique_indcs = np.unique(V, return_index=True)\n",
    "    return V[sorted(unique_indcs[1])]\n",
    "\n",
    "vertices = [2,4,1]\n",
    "N_ = ex4g(N.copy(), vertices).toarray()\n",
    "ex4h(N_)"
   ]
  },
  {
   "cell_type": "code",
   "execution_count": 26,
   "metadata": {},
   "outputs": [
    {
     "data": {
      "text/plain": [
       "array([[0., 0., 0., 1., 0., 0., 0., 0.],\n",
       "       [0., 0., 0., 1., 1., 0., 0., 0.],\n",
       "       [0., 0., 0., 0., 0., 0., 0., 0.],\n",
       "       [0., 0., 0., 0., 1., 0., 0., 0.],\n",
       "       [0., 0., 1., 0., 0., 0., 1., 0.],\n",
       "       [0., 0., 0., 0., 1., 0., 0., 0.],\n",
       "       [0., 0., 1., 1., 0., 1., 1., 0.],\n",
       "       [0., 0., 0., 0., 0., 1., 0., 0.]])"
      ]
     },
     "execution_count": 26,
     "metadata": {},
     "output_type": "execute_result"
    }
   ],
   "source": [
    "import networkx.linalg.graphmatrix as gm\n",
    "\n",
    "def ex4i(n, d):\n",
    "    return sparse.random(8, 8, 0.2, data_rvs=np.ones).toarray()\n",
    "\n",
    "ex4i(8,0.1)"
   ]
  },
  {
   "cell_type": "code",
   "execution_count": 27,
   "metadata": {},
   "outputs": [
    {
     "data": {
      "text/plain": [
       "array([[ 1.,  0.,  0.,  0.,  0.,  0.,  0.],\n",
       "       [-1.,  1.,  1.,  1.,  0.,  0.,  0.],\n",
       "       [ 0., -1.,  0.,  0.,  0.,  1.,  0.],\n",
       "       [ 0.,  0., -1.,  0.,  0.,  0.,  0.],\n",
       "       [ 0.,  0.,  0., -1.,  1.,  0.,  0.],\n",
       "       [ 0.,  0.,  0.,  0., -1.,  0.,  1.],\n",
       "       [ 0.,  0.,  0.,  0.,  0., -1.,  0.],\n",
       "       [ 0.,  0.,  0.,  0.,  0.,  0., -1.]])"
      ]
     },
     "execution_count": 27,
     "metadata": {},
     "output_type": "execute_result"
    }
   ],
   "source": [
    "n = 8\n",
    "gm.incidence_matrix(nx.gn_graph(n), nodelist=np.arange(n), oriented=True).toarray()"
   ]
  },
  {
   "cell_type": "code",
   "execution_count": 28,
   "metadata": {},
   "outputs": [
    {
     "name": "stdout",
     "output_type": "stream",
     "text": [
      "[[1 0 1 0 0 0 0 0]\n",
      " [0 0 0 0 1 0 0 1]\n",
      " [1 0 1 0 0 1 1 0]\n",
      " [1 0 1 0 1 1 1 1]\n",
      " [1 0 1 1 1 0 0 0]\n",
      " [0 0 1 0 0 1 1 0]\n",
      " [1 0 0 0 1 0 0 0]\n",
      " [0 1 0 0 0 1 1 0]]\n"
     ]
    },
    {
     "data": {
      "text/plain": [
       "array([1, 3, 5, 6, 7, 8])"
      ]
     },
     "execution_count": 28,
     "metadata": {},
     "output_type": "execute_result"
    }
   ],
   "source": [
    "def ex4j(C, vertices):\n",
    "    print(C.toarray())\n",
    "    N = ex4e(C.copy())\n",
    "    \n",
    "    N_ = ex4g(N.copy(), vertices)\n",
    "    \n",
    "    return ex4h(N_.copy().toarray())\n",
    "\n",
    "vertices = [2,4,1]\n",
    "ex4j(C.copy(), vertices)"
   ]
  },
  {
   "cell_type": "markdown",
   "metadata": {},
   "source": [
    "### Exercise 5"
   ]
  },
  {
   "cell_type": "code",
   "execution_count": 29,
   "metadata": {},
   "outputs": [],
   "source": [
    "from network2tikz import plot"
   ]
  },
  {
   "cell_type": "code",
   "execution_count": 30,
   "metadata": {},
   "outputs": [],
   "source": [
    "n = 11\n",
    "G = nx.gn_graph(n)\n",
    "XYZ = np.array(list(itertools.product(range(np.ceil(np.sqrt(n)).astype(int)), repeat=2)))\n",
    "np.random.shuffle(XYZ)\n",
    "IJV = G.edges()\n",
    "nb_dimension = 2\n",
    "nb_points = n\n",
    "C = nx.to_scipy_sparse_matrix(G)"
   ]
  },
  {
   "cell_type": "code",
   "execution_count": 31,
   "metadata": {},
   "outputs": [
    {
     "data": {
      "image/png": "[encoded data removed]",
      "text/plain": [
       "<IPython.core.display.Image object>"
      ]
     },
     "execution_count": 31,
     "metadata": {},
     "output_type": "execute_result"
    }
   ],
   "source": [
    "draw(G)"
   ]
  },
  {
   "cell_type": "code",
   "execution_count": 34,
   "metadata": {},
   "outputs": [
    {
     "data": {
      "text/plain": [
       "array([[0., 1., 1., 0., 0., 0., 0., 0.],\n",
       "       [0., 1., 0., 0., 1., 1., 0., 0.],\n",
       "       [0., 0., 1., 0., 1., 0., 0., 1.],\n",
       "       [0., 0., 0., 0., 0., 1., 0., 1.]])"
      ]
     },
     "execution_count": 34,
     "metadata": {},
     "output_type": "execute_result"
    }
   ],
   "source": [
    "### b\n",
    "def ex5b(v_coord, arc_list):\n",
    "    G = nx.DiGraph()\n",
    "#     G.add_nodes_from(v_coord)\n",
    "    G.add_edges_from(arc_list)\n",
    "    return gm.incidence_matrix(G,oriented=True).toarray()\n",
    "    \n",
    "nodes_pos = {0: (0, 0), 1: (1, 0), 2: (0, 1), 3: (1, 1)}    \n",
    "arc_list = [(0, 0), (0, 1), (0, 2), (1, 1), (1, 2), (1, 3), (2, 2), (2, 3)]\n",
    "# sparse.coo_matrix(([1] * len(arc_list), zip(*arc_list)), shape=(len(nodes_pos), len(nodes_pos))).toarray()\n",
    "\n",
    "B = ex5b(nodes_pos, arc_list)\n",
    "abs(B)"
   ]
  },
  {
   "cell_type": "code",
   "execution_count": 35,
   "metadata": {},
   "outputs": [
    {
     "data": {
      "text/plain": [
       "array([[0., 0., 0., 0., 0., 0., 0., 0.],\n",
       "       [0., 0., 1., 0., 1., 0., 0., 0.],\n",
       "       [0., 1., 0., 0., 0., 0., 0., 0.],\n",
       "       [1., 0., 0., 0., 0., 0., 0., 0.],\n",
       "       [0., 1., 0., 1., 0., 0., 0., 1.],\n",
       "       [0., 0., 0., 0., 0., 0., 0., 0.],\n",
       "       [0., 1., 0., 0., 0., 0., 0., 1.],\n",
       "       [0., 1., 1., 0., 0., 0., 0., 0.]])"
      ]
     },
     "execution_count": 35,
     "metadata": {},
     "output_type": "execute_result"
    }
   ],
   "source": [
    "###  c\n",
    "def ex5c(C):\n",
    "    C.setdiag(0)\n",
    "    return abs(C)\n",
    "\n",
    "### still an undirected connectivity matrix (change after solving 5b)\n",
    "A = sparse.random(8, 8, 0.2, data_rvs=np.ones)\n",
    "\n",
    "ex5c(A.copy()).toarray()\n"
   ]
  },
  {
   "cell_type": "code",
   "execution_count": 36,
   "metadata": {},
   "outputs": [
    {
     "name": "stdout",
     "output_type": "stream",
     "text": [
      "[[ 1.  0.  0.  0.  0.  0.]\n",
      " [-1.  1.  1.  0.  0.  0.]\n",
      " [ 0. -1.  0.  0.  0.  1.]\n",
      " [ 0.  0. -1.  1.  1.  0.]\n",
      " [ 0.  0.  0. -1.  0.  0.]\n",
      " [ 0.  0.  0.  0. -1.  0.]\n",
      " [ 0.  0.  0.  0.  0. -1.]]\n"
     ]
    },
    {
     "data": {
      "image/png": "[encoded data removed]",
      "text/plain": [
       "<IPython.core.display.Image object>"
      ]
     },
     "execution_count": 36,
     "metadata": {},
     "output_type": "execute_result"
    }
   ],
   "source": [
    "### d\n",
    "def ex5d(G):\n",
    "    return gm.incidence_matrix(G, oriented=True)\n",
    "\n",
    "n = 7\n",
    "G = nx.gn_graph(n)\n",
    "\n",
    "print(ex5d(G).toarray())\n",
    "draw(G)\n"
   ]
  },
  {
   "cell_type": "markdown",
   "metadata": {},
   "source": [
    "### Exercise 6"
   ]
  },
  {
   "cell_type": "code",
   "execution_count": 37,
   "metadata": {},
   "outputs": [
    {
     "name": "stdout",
     "output_type": "stream",
     "text": [
      "XYZ: [[0 0]\n",
      " [0 1]\n",
      " [0 2]\n",
      " [0 3]\n",
      " [1 0]\n",
      " [1 1]\n",
      " [1 2]\n",
      " [1 3]\n",
      " [2 0]\n",
      " [2 1]\n",
      " [2 2]\n",
      " [2 3]\n",
      " [3 0]\n",
      " [3 1]\n",
      " [3 2]\n",
      " [3 3]]\n",
      "IJV: [[ 2  7  3]\n",
      " [ 7  2  6]\n",
      " [ 5  2  1]\n",
      " [ 2  5  6]\n",
      " [ 5  1  0]\n",
      " [ 4  5  0]\n",
      " [ 9  8 13]\n",
      " [13  8 12]\n",
      " [ 8  5  4]\n",
      " [ 8  9  5]\n",
      " [ 5 10  6]\n",
      " [ 9 10  5]\n",
      " [ 7 10 11]\n",
      " [10  7  6]\n",
      " [10  9 13]\n",
      " [14 10 13]\n",
      " [11 10 15]\n",
      " [10 14 15]]\n",
      "nb_dimension: 2\n",
      "nb_points: 16\n",
      "nb_cells: 18\n"
     ]
    },
    {
     "data": {
      "image/png": "[encoded data removed]",
      "text/plain": [
       "<Figure size 432x288 with 1 Axes>"
      ]
     },
     "metadata": {
      "needs_background": "light"
     },
     "output_type": "display_data"
    }
   ],
   "source": [
    "### a\n",
    "from scipy.spatial import Delaunay\n",
    "import matplotlib.pyplot as plt\n",
    "\n",
    "n = 10\n",
    "XYZ = np.array(list(itertools.product(range(np.ceil(np.sqrt(n)).astype(int)), repeat=2)))\n",
    "IJV = Delaunay(XYZ).simplices\n",
    "plt.triplot(XYZ[:,0], XYZ[:,1], triangles=IJV)\n",
    "\n",
    "nb_dimension = np.size(XYZ, 1)\n",
    "nb_points = len(XYZ)\n",
    "nb_cells = len(IJV)\n",
    "\n",
    "print(f\"XYZ: {XYZ}\")\n",
    "print(f\"IJV: {IJV}\")\n",
    "print(f\"nb_dimension: {nb_dimension}\")\n",
    "print(f\"nb_points: {nb_points}\")\n",
    "print(f\"nb_cells: {nb_cells}\")\n"
   ]
  },
  {
   "cell_type": "code",
   "execution_count": 38,
   "metadata": {},
   "outputs": [],
   "source": [
    "### b"
   ]
  },
  {
   "cell_type": "code",
   "execution_count": 52,
   "metadata": {},
   "outputs": [],
   "source": [
    "### c"
   ]
  },
  {
   "cell_type": "code",
   "execution_count": 51,
   "metadata": {},
   "outputs": [
    {
     "data": {
      "text/plain": [
       "array([[0, 0, 0, 0, 0, 0, 0, 0, 0, 0, 0, 0, 0, 0, 0, 0],\n",
       "       [1, 0, 0, 0, 0, 0, 0, 0, 0, 0, 0, 0, 0, 0, 0, 0],\n",
       "       [0, 1, 0, 1, 0, 1, 2, 1, 0, 0, 0, 0, 0, 0, 0, 0],\n",
       "       [0, 0, 0, 0, 0, 0, 0, 0, 0, 0, 0, 0, 0, 0, 0, 0],\n",
       "       [1, 0, 0, 0, 0, 1, 0, 0, 0, 0, 0, 0, 0, 0, 0, 0],\n",
       "       [2, 2, 1, 0, 1, 0, 2, 0, 0, 0, 1, 0, 0, 0, 0, 0],\n",
       "       [0, 0, 0, 0, 0, 0, 0, 0, 0, 0, 0, 0, 0, 0, 0, 0],\n",
       "       [0, 0, 1, 1, 0, 0, 2, 0, 0, 0, 1, 1, 0, 0, 0, 0],\n",
       "       [0, 0, 0, 0, 1, 2, 0, 0, 0, 1, 0, 0, 1, 1, 0, 0],\n",
       "       [0, 0, 0, 0, 0, 2, 0, 0, 1, 0, 1, 0, 0, 2, 0, 0],\n",
       "       [0, 0, 0, 0, 0, 1, 2, 1, 0, 1, 0, 1, 0, 2, 1, 2],\n",
       "       [0, 0, 0, 0, 0, 0, 0, 0, 0, 0, 1, 0, 0, 0, 0, 1],\n",
       "       [0, 0, 0, 0, 0, 0, 0, 0, 0, 0, 0, 0, 0, 0, 0, 0],\n",
       "       [0, 0, 0, 0, 0, 0, 0, 0, 1, 0, 0, 0, 1, 0, 0, 0],\n",
       "       [0, 0, 0, 0, 0, 0, 0, 0, 0, 0, 1, 0, 0, 1, 0, 1]])"
      ]
     },
     "execution_count": 51,
     "metadata": {},
     "output_type": "execute_result"
    }
   ],
   "source": [
    "coord = list(itertools.chain.from_iterable([list(itertools.combinations(x, r=2)) for x in IJV]))\n",
    "\n",
    "A = sparse.coo_matrix(coord).toarray()\n",
    "C = sparse.coo_matrix(([1] * len(A), (A[:,0], A[:,1])))\n",
    "C.toarray()"
   ]
  },
  {
   "cell_type": "markdown",
   "metadata": {},
   "source": [
    "### Exercise 7"
   ]
  },
  {
   "cell_type": "code",
   "execution_count": 41,
   "metadata": {},
   "outputs": [],
   "source": [
    "grids_path = \"../../2mmn20_1/gallery/grids/\""
   ]
  },
  {
   "cell_type": "code",
   "execution_count": 42,
   "metadata": {},
   "outputs": [
    {
     "name": "stdout",
     "output_type": "stream",
     "text": [
      "[[  1   2   4   8]\n",
      " [  1   3   4   8]\n",
      " [  1   3   7   8]\n",
      " ...\n",
      " [155 648 646 645]\n",
      " [250 648 647 645]\n",
      " [155 648 647 645]]\n",
      "[[0.     0.     0.    ]\n",
      " [1.     0.     0.    ]\n",
      " [0.     1.     0.    ]\n",
      " ...\n",
      " [0.4375 0.1875 0.375 ]\n",
      " [0.4375 0.25   0.3125]\n",
      " [0.4375 0.25   0.375 ]]\n"
     ]
    }
   ],
   "source": [
    "# read and make cell list KLW (matrix: nb_cells x 4 vertices)\n",
    "KLW = np.fromfile(grids_path + \"GD1points.txt\",dtype=int,sep=' ')\n",
    "KLW = KLW.reshape((int(np.size(KLW)/4),4))\n",
    "print(KLW)\n",
    "# read and make XYZ coordinates (matrix: nb_vertices x 3 coordinates)\n",
    "XYZ = np.fromfile(grids_path + \"GD1XYZ.txt\",dtype=float,sep=' ')\n",
    "XYZ = XYZ.reshape((int(np.size(XYZ)/3),3))\n",
    "print(XYZ)"
   ]
  },
  {
   "cell_type": "code",
   "execution_count": 43,
   "metadata": {},
   "outputs": [
    {
     "name": "stdout",
     "output_type": "stream",
     "text": [
      "0.0\n"
     ]
    }
   ],
   "source": [
    "IJVW = np.array([[1,2,3.0],[2,2,-1.0],[3,2,0.1],[4,2,1/3]]);\n",
    "IJVW.tofile(\"IJV.txt\",sep=\" \",format=\"%s\");\n",
    "# well, tofile() does not save dimensions ....\n",
    "IJVR = np.fromfile(\"IJV.txt\",dtype=float,sep=' ')\n",
    "IJVR = IJVR.reshape((4,3))\n",
    "print(np.linalg.norm(IJVW-IJVR,2))"
   ]
  },
  {
   "cell_type": "code",
   "execution_count": null,
   "metadata": {},
   "outputs": [],
   "source": []
  },
  {
   "cell_type": "markdown",
   "metadata": {},
   "source": [
    "### Exercise 9"
   ]
  },
  {
   "cell_type": "code",
   "execution_count": 44,
   "metadata": {},
   "outputs": [
    {
     "name": "stdout",
     "output_type": "stream",
     "text": [
      "C:\n",
      "[[1 1 0 0 1 0 0 0 1 0 0 0 1 0 0 1 0 0 0 1]\n",
      " [1 0 0 0 1 0 0 0 0 0 0 0 0 0 0 0 0 0 0 0]\n",
      " [0 1 0 0 0 0 0 0 0 0 0 0 0 0 0 1 0 0 0 0]\n",
      " [0 0 1 1 0 1 1 0 0 1 0 0 0 0 0 0 0 0 0 0]\n",
      " [1 1 0 1 1 0 0 0 0 1 1 0 0 0 0 0 1 1 0 1]\n",
      " [0 0 0 1 0 1 1 0 0 1 0 0 0 0 0 1 0 1 0 0]\n",
      " [0 1 0 0 1 0 0 0 0 0 1 0 0 0 0 1 0 0 1 0]\n",
      " [0 0 0 0 0 0 1 0 0 1 0 0 0 1 0 1 0 0 0 0]\n",
      " [0 0 0 0 0 0 1 0 1 0 0 0 0 0 0 1 0 0 0 0]\n",
      " [1 0 0 0 0 0 0 0 0 0 0 0 0 0 0 0 0 0 0 0]\n",
      " [0 0 0 1 1 0 1 0 0 1 0 1 0 0 0 1 0 0 0 0]\n",
      " [0 0 0 0 0 0 0 0 0 0 0 0 0 0 0 0 0 0 0 0]\n",
      " [1 0 0 0 0 0 0 1 0 0 0 0 0 0 0 0 0 0 1 0]\n",
      " [0 0 0 1 0 0 0 0 0 0 0 0 0 1 0 0 0 0 0 0]\n",
      " [0 0 0 0 1 0 0 0 0 0 0 0 1 0 1 0 0 0 0 0]\n",
      " [1 0 1 0 0 0 0 0 1 0 0 0 0 0 0 1 1 1 0 0]\n",
      " [0 0 0 0 1 0 0 0 0 0 0 0 0 0 0 0 1 0 1 0]\n",
      " [0 0 0 0 0 0 0 0 0 0 0 0 0 0 0 0 0 0 1 1]\n",
      " [0 1 0 0 0 0 0 0 0 0 0 0 0 0 0 0 0 0 0 0]\n",
      " [0 0 0 0 0 0 0 1 1 0 0 1 1 0 0 0 0 1 0 0]]\n",
      "Found permutation:\n",
      "[ 1  2  5  9 13 16 20  4 10 11 17 18  7  8 19  3 12  6 14]\n"
     ]
    }
   ],
   "source": [
    "C = rcm(20,80); print('C:'); print(C.todense())\n",
    "V = np.array([0],dtype=int);\n",
    "P = bfs_levelset(C,V); print('Found permutation:'); print(P+1)"
   ]
  },
  {
   "cell_type": "code",
   "execution_count": 45,
   "metadata": {},
   "outputs": [
    {
     "name": "stdout",
     "output_type": "stream",
     "text": [
      "N:\n",
      "[ 0  1  4  8 12 15 19]\n",
      "N:\n",
      "[ 0  1  2  3  4  6  7  8  9 10 11 12 15 16 17 18 19]\n",
      "N:\n",
      "[ 0  1  2  3  4  5  6  9 10 11 13 15 16 18 19]\n",
      "N:\n",
      "[ 3  5  6  9 13 15 17]\n",
      "Found permutation:\n",
      "[ 1  2  5  9 13 16 20  3  4  7  8 10 11 12 17 18 19  6 14]\n"
     ]
    }
   ],
   "source": [
    "P = bfs_levelset_greedy(C,V); print('Found permutation:'); print(P+1)"
   ]
  },
  {
   "cell_type": "markdown",
   "metadata": {},
   "source": [
    "### Exercise 9"
   ]
  },
  {
   "cell_type": "code",
   "execution_count": 48,
   "metadata": {},
   "outputs": [
    {
     "ename": "FileNotFoundError",
     "evalue": "[Errno 2] No such file or directory: '../../2mmn20_1/gallery/stokes/ST4_IJV.txt'",
     "output_type": "error",
     "traceback": [
      "\u001b[0;31m---------------------------------------------------------------------------\u001b[0m",
      "\u001b[0;31mFileNotFoundError\u001b[0m                         Traceback (most recent call last)",
      "\u001b[0;32m<ipython-input-48-1766b0a78de8>\u001b[0m in \u001b[0;36m<module>\u001b[0;34m\u001b[0m\n\u001b[0;32m----> 1\u001b[0;31m \u001b[0mX\u001b[0m \u001b[0;34m=\u001b[0m \u001b[0mnp\u001b[0m\u001b[0;34m.\u001b[0m\u001b[0mfromfile\u001b[0m\u001b[0;34m(\u001b[0m\u001b[0;34m'../../2mmn20_1/gallery/stokes/ST4_IJV.txt'\u001b[0m\u001b[0;34m,\u001b[0m\u001b[0mdtype\u001b[0m\u001b[0;34m=\u001b[0m\u001b[0mfloat\u001b[0m\u001b[0;34m,\u001b[0m\u001b[0msep\u001b[0m\u001b[0;34m=\u001b[0m\u001b[0;34m' '\u001b[0m\u001b[0;34m)\u001b[0m\u001b[0;34m\u001b[0m\u001b[0;34m\u001b[0m\u001b[0m\n\u001b[0m\u001b[1;32m      2\u001b[0m \u001b[0mX\u001b[0m \u001b[0;34m=\u001b[0m \u001b[0mX\u001b[0m\u001b[0;34m.\u001b[0m\u001b[0mreshape\u001b[0m\u001b[0;34m(\u001b[0m\u001b[0;34m(\u001b[0m\u001b[0mint\u001b[0m\u001b[0;34m(\u001b[0m\u001b[0mnp\u001b[0m\u001b[0;34m.\u001b[0m\u001b[0msize\u001b[0m\u001b[0;34m(\u001b[0m\u001b[0mX\u001b[0m\u001b[0;34m,\u001b[0m\u001b[0;36m0\u001b[0m\u001b[0;34m)\u001b[0m\u001b[0;34m/\u001b[0m\u001b[0;36m3\u001b[0m\u001b[0;34m)\u001b[0m\u001b[0;34m,\u001b[0m\u001b[0;36m3\u001b[0m\u001b[0;34m)\u001b[0m\u001b[0;34m)\u001b[0m\u001b[0;34m\u001b[0m\u001b[0;34m\u001b[0m\u001b[0m\n\u001b[1;32m      3\u001b[0m \u001b[0mX\u001b[0m \u001b[0;34m=\u001b[0m \u001b[0msparse\u001b[0m\u001b[0;34m.\u001b[0m\u001b[0mcsc_matrix\u001b[0m\u001b[0;34m(\u001b[0m\u001b[0;34m(\u001b[0m\u001b[0mX\u001b[0m\u001b[0;34m[\u001b[0m\u001b[0;34m:\u001b[0m\u001b[0;34m,\u001b[0m\u001b[0;36m2\u001b[0m\u001b[0;34m]\u001b[0m\u001b[0;34m,\u001b[0m \u001b[0;34m(\u001b[0m\u001b[0mnp\u001b[0m\u001b[0;34m.\u001b[0m\u001b[0marray\u001b[0m\u001b[0;34m(\u001b[0m\u001b[0mX\u001b[0m\u001b[0;34m[\u001b[0m\u001b[0;34m:\u001b[0m\u001b[0;34m,\u001b[0m\u001b[0;36m0\u001b[0m\u001b[0;34m]\u001b[0m\u001b[0;34m,\u001b[0m\u001b[0mdtype\u001b[0m\u001b[0;34m=\u001b[0m\u001b[0mint\u001b[0m\u001b[0;34m)\u001b[0m\u001b[0;34m,\u001b[0m \u001b[0mnp\u001b[0m\u001b[0;34m.\u001b[0m\u001b[0marray\u001b[0m\u001b[0;34m(\u001b[0m\u001b[0mX\u001b[0m\u001b[0;34m[\u001b[0m\u001b[0;34m:\u001b[0m\u001b[0;34m,\u001b[0m\u001b[0;36m1\u001b[0m\u001b[0;34m]\u001b[0m\u001b[0;34m,\u001b[0m\u001b[0mdtype\u001b[0m\u001b[0;34m=\u001b[0m\u001b[0mint\u001b[0m\u001b[0;34m)\u001b[0m\u001b[0;34m)\u001b[0m\u001b[0;34m)\u001b[0m\u001b[0;34m)\u001b[0m\u001b[0;34m\u001b[0m\u001b[0;34m\u001b[0m\u001b[0m\n\u001b[1;32m      4\u001b[0m \u001b[0mprint\u001b[0m\u001b[0;34m(\u001b[0m\u001b[0mX\u001b[0m\u001b[0;34m)\u001b[0m\u001b[0;34m\u001b[0m\u001b[0;34m\u001b[0m\u001b[0m\n",
      "\u001b[0;31mFileNotFoundError\u001b[0m: [Errno 2] No such file or directory: '../../2mmn20_1/gallery/stokes/ST4_IJV.txt'"
     ]
    }
   ],
   "source": [
    "### no file named ST4_IJV or ST5_IJV\n",
    "\n",
    "X = np.fromfile('../../2mmn20_1/gallery/stokes/ST4_IJV.txt',dtype=float,sep=' ')\n",
    "X = X.reshape((int(np.size(X,0)/3),3))\n",
    "X = sparse.csc_matrix((X[:,2], (np.array(X[:,0],dtype=int), np.array(X[:,1],dtype=int))))\n",
    "print(X)"
   ]
  },
  {
   "cell_type": "code",
   "execution_count": null,
   "metadata": {},
   "outputs": [],
   "source": []
  }
 ],
 "metadata": {
  "kernelspec": {
   "display_name": "Python 3",
   "language": "python",
   "name": "python3"
  },
  "language_info": {
   "codemirror_mode": {
    "name": "ipython",
    "version": 3
   },
   "file_extension": ".py",
   "mimetype": "text/x-python",
   "name": "python",
   "nbconvert_exporter": "python",
   "pygments_lexer": "ipython3",
   "version": "3.7.4"
  }
 },
 "nbformat": 4,
 "nbformat_minor": 4
}
